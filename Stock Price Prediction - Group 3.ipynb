{
 "cells": [
  {
   "attachments": {},
   "cell_type": "markdown",
   "metadata": {},
   "source": [
    "## STOCK PRICE PREDICTION - TCS\n"
   ]
  },
  {
   "cell_type": "code",
   "execution_count": 7,
   "metadata": {},
   "outputs": [],
   "source": [
    "# importing the required libraries\n",
    "import numpy as np\n",
    "from keras.models import Sequential\n",
    "from keras.layers import Dense, LSTM\n",
    "import pandas as pd\n",
    "import matplotlib.pyplot as plt"
   ]
  },
  {
   "cell_type": "markdown",
   "metadata": {},
   "source": [
    "## Data Collection"
   ]
  },
  {
   "cell_type": "code",
   "execution_count": 8,
   "metadata": {},
   "outputs": [],
   "source": [
    "# Stock Dataset of Tata's TCS traded at National Stock Exchange - NSE, Mumbai\n",
    "df = pd.read_csv('C:/Users/Dilip jain/Downloads/TCS.csv')   "
   ]
  },
  {
   "cell_type": "code",
   "execution_count": 9,
   "metadata": {},
   "outputs": [
    {
     "data": {
      "text/html": [
       "<div>\n",
       "<style scoped>\n",
       "    .dataframe tbody tr th:only-of-type {\n",
       "        vertical-align: middle;\n",
       "    }\n",
       "\n",
       "    .dataframe tbody tr th {\n",
       "        vertical-align: top;\n",
       "    }\n",
       "\n",
       "    .dataframe thead th {\n",
       "        text-align: right;\n",
       "    }\n",
       "</style>\n",
       "<table border=\"1\" class=\"dataframe\">\n",
       "  <thead>\n",
       "    <tr style=\"text-align: right;\">\n",
       "      <th></th>\n",
       "      <th>Date</th>\n",
       "      <th>Symbol</th>\n",
       "      <th>Series</th>\n",
       "      <th>Prev Close</th>\n",
       "      <th>Open</th>\n",
       "      <th>High</th>\n",
       "      <th>Low</th>\n",
       "      <th>Last</th>\n",
       "      <th>Close</th>\n",
       "      <th>VWAP</th>\n",
       "      <th>Volume</th>\n",
       "      <th>Turnover</th>\n",
       "      <th>Trades</th>\n",
       "      <th>Deliverable Volume</th>\n",
       "      <th>%Deliverble</th>\n",
       "    </tr>\n",
       "  </thead>\n",
       "  <tbody>\n",
       "    <tr>\n",
       "      <th>0</th>\n",
       "      <td>2004-08-25</td>\n",
       "      <td>TCS</td>\n",
       "      <td>EQ</td>\n",
       "      <td>850.00</td>\n",
       "      <td>1198.7</td>\n",
       "      <td>1198.7</td>\n",
       "      <td>979.00</td>\n",
       "      <td>985.00</td>\n",
       "      <td>987.95</td>\n",
       "      <td>1008.32</td>\n",
       "      <td>17116372</td>\n",
       "      <td>1.725876e+15</td>\n",
       "      <td>NaN</td>\n",
       "      <td>5206360</td>\n",
       "      <td>0.3042</td>\n",
       "    </tr>\n",
       "    <tr>\n",
       "      <th>1</th>\n",
       "      <td>2004-08-26</td>\n",
       "      <td>TCS</td>\n",
       "      <td>EQ</td>\n",
       "      <td>987.95</td>\n",
       "      <td>992.0</td>\n",
       "      <td>997.0</td>\n",
       "      <td>975.30</td>\n",
       "      <td>976.85</td>\n",
       "      <td>979.00</td>\n",
       "      <td>985.65</td>\n",
       "      <td>5055400</td>\n",
       "      <td>4.982865e+14</td>\n",
       "      <td>NaN</td>\n",
       "      <td>1294899</td>\n",
       "      <td>0.2561</td>\n",
       "    </tr>\n",
       "    <tr>\n",
       "      <th>2</th>\n",
       "      <td>2004-08-27</td>\n",
       "      <td>TCS</td>\n",
       "      <td>EQ</td>\n",
       "      <td>979.00</td>\n",
       "      <td>982.4</td>\n",
       "      <td>982.4</td>\n",
       "      <td>958.55</td>\n",
       "      <td>961.20</td>\n",
       "      <td>962.65</td>\n",
       "      <td>969.94</td>\n",
       "      <td>3830750</td>\n",
       "      <td>3.715586e+14</td>\n",
       "      <td>NaN</td>\n",
       "      <td>976527</td>\n",
       "      <td>0.2549</td>\n",
       "    </tr>\n",
       "    <tr>\n",
       "      <th>3</th>\n",
       "      <td>2004-08-30</td>\n",
       "      <td>TCS</td>\n",
       "      <td>EQ</td>\n",
       "      <td>962.65</td>\n",
       "      <td>969.9</td>\n",
       "      <td>990.0</td>\n",
       "      <td>965.00</td>\n",
       "      <td>986.40</td>\n",
       "      <td>986.75</td>\n",
       "      <td>982.65</td>\n",
       "      <td>3058151</td>\n",
       "      <td>3.005106e+14</td>\n",
       "      <td>NaN</td>\n",
       "      <td>701664</td>\n",
       "      <td>0.2294</td>\n",
       "    </tr>\n",
       "    <tr>\n",
       "      <th>4</th>\n",
       "      <td>2004-08-31</td>\n",
       "      <td>TCS</td>\n",
       "      <td>EQ</td>\n",
       "      <td>986.75</td>\n",
       "      <td>986.5</td>\n",
       "      <td>990.0</td>\n",
       "      <td>976.00</td>\n",
       "      <td>987.80</td>\n",
       "      <td>988.10</td>\n",
       "      <td>982.18</td>\n",
       "      <td>2649332</td>\n",
       "      <td>2.602133e+14</td>\n",
       "      <td>NaN</td>\n",
       "      <td>695234</td>\n",
       "      <td>0.2624</td>\n",
       "    </tr>\n",
       "  </tbody>\n",
       "</table>\n",
       "</div>"
      ],
      "text/plain": [
       "         Date Symbol Series  Prev Close    Open    High     Low    Last  \\\n",
       "0  2004-08-25    TCS     EQ      850.00  1198.7  1198.7  979.00  985.00   \n",
       "1  2004-08-26    TCS     EQ      987.95   992.0   997.0  975.30  976.85   \n",
       "2  2004-08-27    TCS     EQ      979.00   982.4   982.4  958.55  961.20   \n",
       "3  2004-08-30    TCS     EQ      962.65   969.9   990.0  965.00  986.40   \n",
       "4  2004-08-31    TCS     EQ      986.75   986.5   990.0  976.00  987.80   \n",
       "\n",
       "    Close     VWAP    Volume      Turnover  Trades  Deliverable Volume  \\\n",
       "0  987.95  1008.32  17116372  1.725876e+15     NaN             5206360   \n",
       "1  979.00   985.65   5055400  4.982865e+14     NaN             1294899   \n",
       "2  962.65   969.94   3830750  3.715586e+14     NaN              976527   \n",
       "3  986.75   982.65   3058151  3.005106e+14     NaN              701664   \n",
       "4  988.10   982.18   2649332  2.602133e+14     NaN              695234   \n",
       "\n",
       "   %Deliverble  \n",
       "0       0.3042  \n",
       "1       0.2561  \n",
       "2       0.2549  \n",
       "3       0.2294  \n",
       "4       0.2624  "
      ]
     },
     "execution_count": 9,
     "metadata": {},
     "output_type": "execute_result"
    }
   ],
   "source": [
    "# displaying the first few rows of the dataframe\n",
    "df.head()"
   ]
  },
  {
   "cell_type": "markdown",
   "metadata": {},
   "source": [
    "## Data Exploratory Analysis\n"
   ]
  },
  {
   "cell_type": "code",
   "execution_count": 10,
   "metadata": {},
   "outputs": [
    {
     "data": {
      "text/plain": [
       "Date                     0\n",
       "Symbol                   0\n",
       "Series                   0\n",
       "Prev Close               0\n",
       "Open                     0\n",
       "High                     0\n",
       "Low                      0\n",
       "Last                     0\n",
       "Close                    0\n",
       "VWAP                     0\n",
       "Volume                   0\n",
       "Turnover                 0\n",
       "Trades                1683\n",
       "Deliverable Volume       0\n",
       "%Deliverble              0\n",
       "dtype: int64"
      ]
     },
     "execution_count": 10,
     "metadata": {},
     "output_type": "execute_result"
    }
   ],
   "source": [
    "# displaying the number of missing values in each column of the dataframe\n",
    "df.isnull().sum()  "
   ]
  },
  {
   "cell_type": "code",
   "execution_count": 11,
   "metadata": {},
   "outputs": [
    {
     "data": {
      "text/html": [
       "<div>\n",
       "<style scoped>\n",
       "    .dataframe tbody tr th:only-of-type {\n",
       "        vertical-align: middle;\n",
       "    }\n",
       "\n",
       "    .dataframe tbody tr th {\n",
       "        vertical-align: top;\n",
       "    }\n",
       "\n",
       "    .dataframe thead th {\n",
       "        text-align: right;\n",
       "    }\n",
       "</style>\n",
       "<table border=\"1\" class=\"dataframe\">\n",
       "  <thead>\n",
       "    <tr style=\"text-align: right;\">\n",
       "      <th></th>\n",
       "      <th>Prev Close</th>\n",
       "      <th>Open</th>\n",
       "      <th>High</th>\n",
       "      <th>Low</th>\n",
       "      <th>Last</th>\n",
       "      <th>Close</th>\n",
       "      <th>VWAP</th>\n",
       "      <th>Volume</th>\n",
       "      <th>Turnover</th>\n",
       "      <th>Trades</th>\n",
       "      <th>Deliverable Volume</th>\n",
       "      <th>%Deliverble</th>\n",
       "    </tr>\n",
       "  </thead>\n",
       "  <tbody>\n",
       "    <tr>\n",
       "      <th>count</th>\n",
       "      <td>4139.000000</td>\n",
       "      <td>4139.000000</td>\n",
       "      <td>4139.000000</td>\n",
       "      <td>4139.000000</td>\n",
       "      <td>4139.000000</td>\n",
       "      <td>4139.000000</td>\n",
       "      <td>4139.000000</td>\n",
       "      <td>4.139000e+03</td>\n",
       "      <td>4.139000e+03</td>\n",
       "      <td>2456.000000</td>\n",
       "      <td>4.139000e+03</td>\n",
       "      <td>4139.000000</td>\n",
       "    </tr>\n",
       "    <tr>\n",
       "      <th>mean</th>\n",
       "      <td>1693.843549</td>\n",
       "      <td>1695.594081</td>\n",
       "      <td>1715.882302</td>\n",
       "      <td>1673.585709</td>\n",
       "      <td>1694.310184</td>\n",
       "      <td>1694.371612</td>\n",
       "      <td>1694.618120</td>\n",
       "      <td>1.676762e+06</td>\n",
       "      <td>2.952102e+14</td>\n",
       "      <td>85502.709283</td>\n",
       "      <td>8.952206e+05</td>\n",
       "      <td>0.549429</td>\n",
       "    </tr>\n",
       "    <tr>\n",
       "      <th>std</th>\n",
       "      <td>722.879316</td>\n",
       "      <td>722.978228</td>\n",
       "      <td>728.450096</td>\n",
       "      <td>717.780248</td>\n",
       "      <td>723.177934</td>\n",
       "      <td>723.061025</td>\n",
       "      <td>723.144157</td>\n",
       "      <td>1.607879e+06</td>\n",
       "      <td>3.849370e+14</td>\n",
       "      <td>56031.488595</td>\n",
       "      <td>8.637908e+05</td>\n",
       "      <td>0.132867</td>\n",
       "    </tr>\n",
       "    <tr>\n",
       "      <th>min</th>\n",
       "      <td>366.650000</td>\n",
       "      <td>360.000000</td>\n",
       "      <td>377.750000</td>\n",
       "      <td>358.000000</td>\n",
       "      <td>365.700000</td>\n",
       "      <td>366.650000</td>\n",
       "      <td>368.400000</td>\n",
       "      <td>1.834500e+04</td>\n",
       "      <td>1.370237e+12</td>\n",
       "      <td>1219.000000</td>\n",
       "      <td>7.765000e+03</td>\n",
       "      <td>0.121400</td>\n",
       "    </tr>\n",
       "    <tr>\n",
       "      <th>25%</th>\n",
       "      <td>1106.250000</td>\n",
       "      <td>1105.525000</td>\n",
       "      <td>1120.275000</td>\n",
       "      <td>1088.575000</td>\n",
       "      <td>1107.000000</td>\n",
       "      <td>1106.500000</td>\n",
       "      <td>1105.750000</td>\n",
       "      <td>7.884775e+05</td>\n",
       "      <td>1.050834e+14</td>\n",
       "      <td>46749.500000</td>\n",
       "      <td>4.334740e+05</td>\n",
       "      <td>0.459100</td>\n",
       "    </tr>\n",
       "    <tr>\n",
       "      <th>50%</th>\n",
       "      <td>1633.500000</td>\n",
       "      <td>1625.000000</td>\n",
       "      <td>1655.000000</td>\n",
       "      <td>1610.000000</td>\n",
       "      <td>1630.050000</td>\n",
       "      <td>1636.350000</td>\n",
       "      <td>1629.420000</td>\n",
       "      <td>1.227748e+06</td>\n",
       "      <td>1.824973e+14</td>\n",
       "      <td>68901.000000</td>\n",
       "      <td>7.052640e+05</td>\n",
       "      <td>0.553800</td>\n",
       "    </tr>\n",
       "    <tr>\n",
       "      <th>75%</th>\n",
       "      <td>2326.125000</td>\n",
       "      <td>2321.800000</td>\n",
       "      <td>2345.000000</td>\n",
       "      <td>2301.300000</td>\n",
       "      <td>2325.000000</td>\n",
       "      <td>2326.850000</td>\n",
       "      <td>2319.895000</td>\n",
       "      <td>2.081120e+06</td>\n",
       "      <td>3.455393e+14</td>\n",
       "      <td>110630.250000</td>\n",
       "      <td>1.136132e+06</td>\n",
       "      <td>0.646850</td>\n",
       "    </tr>\n",
       "    <tr>\n",
       "      <th>max</th>\n",
       "      <td>3603.700000</td>\n",
       "      <td>3625.000000</td>\n",
       "      <td>3674.800000</td>\n",
       "      <td>3572.550000</td>\n",
       "      <td>3610.750000</td>\n",
       "      <td>3603.700000</td>\n",
       "      <td>3633.110000</td>\n",
       "      <td>4.403358e+07</td>\n",
       "      <td>1.268362e+16</td>\n",
       "      <td>542541.000000</td>\n",
       "      <td>3.155626e+07</td>\n",
       "      <td>0.962200</td>\n",
       "    </tr>\n",
       "  </tbody>\n",
       "</table>\n",
       "</div>"
      ],
      "text/plain": [
       "        Prev Close         Open         High          Low         Last  \\\n",
       "count  4139.000000  4139.000000  4139.000000  4139.000000  4139.000000   \n",
       "mean   1693.843549  1695.594081  1715.882302  1673.585709  1694.310184   \n",
       "std     722.879316   722.978228   728.450096   717.780248   723.177934   \n",
       "min     366.650000   360.000000   377.750000   358.000000   365.700000   \n",
       "25%    1106.250000  1105.525000  1120.275000  1088.575000  1107.000000   \n",
       "50%    1633.500000  1625.000000  1655.000000  1610.000000  1630.050000   \n",
       "75%    2326.125000  2321.800000  2345.000000  2301.300000  2325.000000   \n",
       "max    3603.700000  3625.000000  3674.800000  3572.550000  3610.750000   \n",
       "\n",
       "             Close         VWAP        Volume      Turnover         Trades  \\\n",
       "count  4139.000000  4139.000000  4.139000e+03  4.139000e+03    2456.000000   \n",
       "mean   1694.371612  1694.618120  1.676762e+06  2.952102e+14   85502.709283   \n",
       "std     723.061025   723.144157  1.607879e+06  3.849370e+14   56031.488595   \n",
       "min     366.650000   368.400000  1.834500e+04  1.370237e+12    1219.000000   \n",
       "25%    1106.500000  1105.750000  7.884775e+05  1.050834e+14   46749.500000   \n",
       "50%    1636.350000  1629.420000  1.227748e+06  1.824973e+14   68901.000000   \n",
       "75%    2326.850000  2319.895000  2.081120e+06  3.455393e+14  110630.250000   \n",
       "max    3603.700000  3633.110000  4.403358e+07  1.268362e+16  542541.000000   \n",
       "\n",
       "       Deliverable Volume  %Deliverble  \n",
       "count        4.139000e+03  4139.000000  \n",
       "mean         8.952206e+05     0.549429  \n",
       "std          8.637908e+05     0.132867  \n",
       "min          7.765000e+03     0.121400  \n",
       "25%          4.334740e+05     0.459100  \n",
       "50%          7.052640e+05     0.553800  \n",
       "75%          1.136132e+06     0.646850  \n",
       "max          3.155626e+07     0.962200  "
      ]
     },
     "execution_count": 11,
     "metadata": {},
     "output_type": "execute_result"
    }
   ],
   "source": [
    "# viewing statistical data like percentile, mean, standard deviation, etc. \n",
    "df.describe()"
   ]
  },
  {
   "cell_type": "markdown",
   "metadata": {},
   "source": [
    "## Data Pre-Processing"
   ]
  },
  {
   "cell_type": "code",
   "execution_count": 12,
   "metadata": {},
   "outputs": [
    {
     "name": "stdout",
     "output_type": "stream",
     "text": [
      "0        987.95\n",
      "1        979.00\n",
      "2        962.65\n",
      "3        986.75\n",
      "4        988.10\n",
      "         ...   \n",
      "4134    3100.80\n",
      "4135    3132.00\n",
      "4136    3124.10\n",
      "4137    3115.25\n",
      "4138    3035.65\n",
      "Name: Close, Length: 4139, dtype: float64\n"
     ]
    }
   ],
   "source": [
    "# updating the dataset by taking only the 'closing price of the day' Column \n",
    "df_close = df['Close']\n",
    "# displaying the dataset \n",
    "print(df_close)"
   ]
  },
  {
   "cell_type": "code",
   "execution_count": 13,
   "metadata": {},
   "outputs": [
    {
     "data": {
      "text/plain": [
       "(4139,)"
      ]
     },
     "execution_count": 13,
     "metadata": {},
     "output_type": "execute_result"
    }
   ],
   "source": [
    "# viewing the dimensionality of the dataframe \n",
    "df_close.shape"
   ]
  },
  {
   "cell_type": "code",
   "execution_count": 14,
   "metadata": {},
   "outputs": [
    {
     "data": {
      "text/plain": [
       "[<matplotlib.lines.Line2D at 0x2886d32220>]"
      ]
     },
     "execution_count": 14,
     "metadata": {},
     "output_type": "execute_result"
    },
    {
     "data": {
      "image/png": "[encoded data removed]",
      "text/plain": [
       "<Figure size 432x288 with 1 Axes>"
      ]
     },
     "metadata": {
      "needs_background": "light"
     },
     "output_type": "display_data"
    }
   ],
   "source": [
    "# to see the visualizations in the notebook itself\n",
    "%matplotlib inline\n",
    "# creating a 2-D plot graph of the closing TCS stock prices\n",
    "plt.plot(df_close)"
   ]
  },
  {
   "cell_type": "markdown",
   "metadata": {},
   "source": [
    "## Data Normalization"
   ]
  },
  {
   "cell_type": "code",
   "execution_count": 18,
   "metadata": {},
   "outputs": [],
   "source": [
    "# transforming the data values since the LSTM is sensitive to the scale of the data\n",
    "from sklearn.preprocessing import MinMaxScaler\n",
    "scaler = MinMaxScaler(feature_range = (0,1))\n",
    "df_close = scaler.fit_transform(np.array(df_close).reshape(-1,1))"
   ]
  },
  {
   "cell_type": "code",
   "execution_count": 19,
   "metadata": {},
   "outputs": [
    {
     "name": "stdout",
     "output_type": "stream",
     "text": [
      "[[0.19193401]\n",
      " [0.18916915]\n",
      " [0.18411826]\n",
      " ...\n",
      " [0.85184041]\n",
      " [0.84910644]\n",
      " [0.82451615]]\n"
     ]
    }
   ],
   "source": [
    "# dataset has been converted to a numpy array with values between 0 and 1\n",
    "print(df_close)   # printing the dataset"
   ]
  },
  {
   "cell_type": "markdown",
   "metadata": {},
   "source": [
    "## Dataset Split\n"
   ]
  },
  {
   "cell_type": "code",
   "execution_count": 20,
   "metadata": {},
   "outputs": [],
   "source": [
    "# setting the training and test size\n",
    "train_size = int(len(df_close) * 0.75)\n",
    "test_size = len(df_close) - train_size\n",
    "# splitting the dataset into train data and test data\n",
    "train_data, test_data = df_close[:train_size, :], df_close[train_size:len(df_close), :]"
   ]
  },
  {
   "cell_type": "code",
   "execution_count": 21,
   "metadata": {},
   "outputs": [
    {
     "data": {
      "text/plain": [
       "(3104, 1035)"
      ]
     },
     "execution_count": 21,
     "metadata": {},
     "output_type": "execute_result"
    }
   ],
   "source": [
    "# displaying the lengths of training size and test size\n",
    "train_size, test_size"
   ]
  },
  {
   "cell_type": "code",
   "execution_count": 22,
   "metadata": {},
   "outputs": [
    {
     "name": "stdout",
     "output_type": "stream",
     "text": [
      "[[0.19193401]\n",
      " [0.18916915]\n",
      " [0.18411826]\n",
      " ...\n",
      " [0.63058958]\n",
      " [0.65972104]\n",
      " [0.64833722]]\n"
     ]
    }
   ],
   "source": [
    "# displaying the training data\n",
    "print(train_data)"
   ]
  },
  {
   "cell_type": "code",
   "execution_count": 23,
   "metadata": {},
   "outputs": [
    {
     "name": "stdout",
     "output_type": "stream",
     "text": [
      "[[0.6317017 ]\n",
      " [0.65341901]\n",
      " [0.65590584]\n",
      " ...\n",
      " [0.85184041]\n",
      " [0.84910644]\n",
      " [0.82451615]]\n"
     ]
    }
   ],
   "source": [
    "# displaying the test data\n",
    "print(test_data)"
   ]
  },
  {
   "cell_type": "markdown",
   "metadata": {},
   "source": [
    "## Hyperparameter Tuning"
   ]
  },
  {
   "cell_type": "code",
   "execution_count": 24,
   "metadata": {},
   "outputs": [],
   "source": [
    "# convert an array of values into a dataset matrix\n",
    "def create_dataset(dataset, time_step = 1):\n",
    "    dataX, dataY = [], []\n",
    "    # creating 100 records in dataX, dataY\n",
    "    for i in range(len(dataset) - time_step - 1):\n",
    "        # iterations\n",
    "        a = dataset[i:(i + time_step), 0]  \n",
    "        dataX.append(a)\n",
    "        dataY.append(dataset[i + time_step, 0])\n",
    "    # return the values\n",
    "    return np.array(dataX), np.array(dataY)"
   ]
  },
  {
   "cell_type": "code",
   "execution_count": 25,
   "metadata": {},
   "outputs": [],
   "source": [
    "# learning of the model depends on the 'time_step' hyperparameter\n",
    "time_step = 100\n",
    "# creating feature and target variables\n",
    "X_train, y_train = create_dataset(train_data, time_step)\n",
    "X_test, y_test = create_dataset(test_data, time_step)"
   ]
  },
  {
   "cell_type": "code",
   "execution_count": 26,
   "metadata": {},
   "outputs": [
    {
     "name": "stdout",
     "output_type": "stream",
     "text": [
      "Shape of X_train: (3003, 100)\n",
      "Shape of y_train: (3003,)\n"
     ]
    }
   ],
   "source": [
    "# printing the dimensionalities of X_train and y_train\n",
    "print(\"Shape of X_train:\", X_train.shape)\n",
    "print(\"Shape of y_train:\", y_train.shape)"
   ]
  },
  {
   "cell_type": "code",
   "execution_count": 27,
   "metadata": {},
   "outputs": [
    {
     "name": "stdout",
     "output_type": "stream",
     "text": [
      "Shape of X_test: (934, 100)\n",
      "Shape of y_test: (934,)\n"
     ]
    }
   ],
   "source": [
    "# printing the dimensionalities of X_test and y_test\n",
    "print(\"Shape of X_test:\", X_test.shape)\n",
    "print(\"Shape of y_test:\", y_test.shape)"
   ]
  },
  {
   "cell_type": "code",
   "execution_count": 28,
   "metadata": {},
   "outputs": [],
   "source": [
    "# reshape input in 3-D as [samples, time steps, features] which is required for LSTM\n",
    "X_train = X_train.reshape(X_train.shape[0], X_train.shape[1], 1)\n",
    "X_test = X_test.reshape(X_test.shape[0], X_test.shape[1], 1)"
   ]
  },
  {
   "cell_type": "markdown",
   "metadata": {},
   "source": [
    "## Stacked Long Short-Term Memory (LSTM) Model Creation\n"
   ]
  },
  {
   "cell_type": "code",
   "execution_count": 29,
   "metadata": {},
   "outputs": [],
   "source": [
    "# Stacked LSTM\n",
    "model = Sequential()\n",
    "# for plain stack of layers\n",
    "model.add(LSTM(50, return_sequences = True, input_shape = (100,1)))\n",
    "model.add(LSTM(50, return_sequences = True))\n",
    "model.add(LSTM(50))\n",
    "# final output\n",
    "model.add(Dense(1))\n",
    "model.compile(loss = 'mean_squared_error', optimizer = 'adam')"
   ]
  },
  {
   "cell_type": "code",
   "execution_count": 30,
   "metadata": {},
   "outputs": [
    {
     "name": "stdout",
     "output_type": "stream",
     "text": [
      "Model: \"sequential\"\n",
      "_________________________________________________________________\n",
      "Layer (type)                 Output Shape              Param #   \n",
      "=================================================================\n",
      "lstm (LSTM)                  (None, 100, 50)           10400     \n",
      "_________________________________________________________________\n",
      "lstm_1 (LSTM)                (None, 100, 50)           20200     \n",
      "_________________________________________________________________\n",
      "lstm_2 (LSTM)                (None, 50)                20200     \n",
      "_________________________________________________________________\n",
      "dense (Dense)                (None, 1)                 51        \n",
      "=================================================================\n",
      "Total params: 50,851\n",
      "Trainable params: 50,851\n",
      "Non-trainable params: 0\n",
      "_________________________________________________________________\n"
     ]
    }
   ],
   "source": [
    "# brief representation\n",
    "model.summary()"
   ]
     },
  {
   "cell_type": "markdown",
   "metadata": {},
   "source": [
    "## Model Training"
   ]
  },
  {
   "cell_type": "code",
   "execution_count": 32,
   "metadata": {},
   "outputs": [
    {
     "name": "stdout",
     "output_type": "stream",
     "text": [
      "Epoch 1/100\n",
      "47/47 [==============================] - 58s 321ms/step - loss: 0.0333 - val_loss: 0.0040\n",
      "Epoch 2/100\n",
      "47/47 [==============================] - 10s 212ms/step - loss: 7.9753e-04 - val_loss: 0.0038\n",
      "Epoch 3/100\n",
      "47/47 [==============================] - 9s 202ms/step - loss: 6.1313e-04 - val_loss: 0.0041\n",
      "Epoch 4/100\n",
      "47/47 [==============================] - 11s 237ms/step - loss: 6.5062e-04 - val_loss: 0.0037\n",
      "Epoch 5/100\n",
      "47/47 [==============================] - 11s 238ms/step - loss: 6.7209e-04 - val_loss: 0.0035\n",
      "Epoch 6/100\n",
      "47/47 [==============================] - 10s 208ms/step - loss: 6.6304e-04 - val_loss: 0.0033\n",
      "Epoch 7/100\n",
      "47/47 [==============================] - 11s 245ms/step - loss: 6.7207e-04 - val_loss: 0.0032\n",
      "Epoch 8/100\n",
      "47/47 [==============================] - 10s 224ms/step - loss: 6.1946e-04 - val_loss: 0.0033\n",
      "Epoch 9/100\n",
      "47/47 [==============================] - 9s 200ms/step - loss: 7.1930e-04 - val_loss: 0.0029\n",
      "Epoch 10/100\n",
      "47/47 [==============================] - 10s 208ms/step - loss: 4.9665e-04 - val_loss: 0.0027\n",
      "Epoch 11/100\n",
      "47/47 [==============================] - 9s 200ms/step - loss: 5.6511e-04 - val_loss: 0.0026\n",
      "Epoch 12/100\n",
      "47/47 [==============================] - 9s 199ms/step - loss: 5.0277e-04 - val_loss: 0.0025\n",
      "Epoch 13/100\n",
      "47/47 [==============================] - 10s 203ms/step - loss: 4.9063e-04 - val_loss: 0.0023\n",
      "Epoch 14/100\n",
      "47/47 [==============================] - 9s 187ms/step - loss: 5.4879e-04 - val_loss: 0.0022\n",
      "Epoch 15/100\n",
      "47/47 [==============================] - 9s 193ms/step - loss: 4.7284e-04 - val_loss: 0.0021\n",
      "Epoch 16/100\n",
      "47/47 [==============================] - 9s 186ms/step - loss: 3.8304e-04 - val_loss: 0.0022\n",
      "Epoch 17/100\n",
      "47/47 [==============================] - 9s 193ms/step - loss: 4.3295e-04 - val_loss: 0.0020\n",
      "Epoch 18/100\n",
      "47/47 [==============================] - 9s 196ms/step - loss: 4.2939e-04 - val_loss: 0.0021\n",
      "Epoch 19/100\n",
      "47/47 [==============================] - 9s 195ms/step - loss: 4.6752e-04 - val_loss: 0.0018\n",
      "Epoch 20/100\n",
      "47/47 [==============================] - 10s 204ms/step - loss: 4.0792e-04 - val_loss: 0.0017\n",
      "Epoch 21/100\n",
      "47/47 [==============================] - 9s 193ms/step - loss: 3.6016e-04 - val_loss: 0.0024\n",
      "Epoch 22/100\n",
      "47/47 [==============================] - 10s 208ms/step - loss: 4.9757e-04 - val_loss: 0.0016\n",
      "Epoch 23/100\n",
      "47/47 [==============================] - 10s 210ms/step - loss: 4.0766e-04 - val_loss: 0.0015\n",
      "Epoch 24/100\n",
      "47/47 [==============================] - 10s 215ms/step - loss: 3.8618e-04 - val_loss: 0.0015\n",
      "Epoch 25/100\n",
      "47/47 [==============================] - 9s 201ms/step - loss: 4.9802e-04 - val_loss: 0.0014\n",
      "Epoch 26/100\n",
      "47/47 [==============================] - 9s 190ms/step - loss: 3.3087e-04 - val_loss: 0.0014\n",
      "Epoch 27/100\n",
      "47/47 [==============================] - 9s 202ms/step - loss: 3.4672e-04 - val_loss: 0.0013\n",
      "Epoch 28/100\n",
      "47/47 [==============================] - 9s 191ms/step - loss: 2.5208e-04 - val_loss: 0.0015\n",
      "Epoch 29/100\n",
      "47/47 [==============================] - 9s 201ms/step - loss: 3.0941e-04 - val_loss: 0.0012\n",
      "Epoch 30/100\n",
      "47/47 [==============================] - 9s 198ms/step - loss: 3.7035e-04 - val_loss: 0.0013\n",
      "Epoch 31/100\n",
      "47/47 [==============================] - 9s 195ms/step - loss: 3.5613e-04 - val_loss: 0.0012\n",
      "Epoch 32/100\n",
      "47/47 [==============================] - 9s 201ms/step - loss: 2.7264e-04 - val_loss: 0.0011\n",
      "Epoch 33/100\n",
      "47/47 [==============================] - 9s 192ms/step - loss: 3.0646e-04 - val_loss: 0.0011\n",
      "Epoch 34/100\n",
      "47/47 [==============================] - 9s 200ms/step - loss: 3.3140e-04 - val_loss: 9.7300e-04\n",
      "Epoch 35/100\n",
      "47/47 [==============================] - 9s 192ms/step - loss: 2.5312e-04 - val_loss: 9.8563e-04\n",
      "Epoch 36/100\n",
      "47/47 [==============================] - 9s 198ms/step - loss: 2.5756e-04 - val_loss: 0.0010 ETA: 0s - loss: 2.5642e-\n",
      "Epoch 37/100\n",
      "47/47 [==============================] - 9s 200ms/step - loss: 3.6585e-04 - val_loss: 8.9115e-04\n",
      "Epoch 38/100\n",
      "47/47 [==============================] - 9s 194ms/step - loss: 2.4010e-04 - val_loss: 8.3470e-04\n",
      "Epoch 39/100\n",
      "47/47 [==============================] - 9s 201ms/step - loss: 2.8738e-04 - val_loss: 9.2406e-04\n",
      "Epoch 40/100\n",
      "47/47 [==============================] - 9s 196ms/step - loss: 2.5397e-04 - val_loss: 0.0013\n",
      "Epoch 41/100\n",
      "47/47 [==============================] - 9s 201ms/step - loss: 2.7368e-04 - val_loss: 8.1802e-04\n",
      "Epoch 42/100\n",
      "47/47 [==============================] - 9s 196ms/step - loss: 2.6543e-04 - val_loss: 6.9797e-04\n",
      "Epoch 43/100\n",
      "47/47 [==============================] - 9s 197ms/step - loss: 2.2022e-04 - val_loss: 6.4601e-04\n",
      "Epoch 44/100\n",
      "47/47 [==============================] - 10s 203ms/step - loss: 1.7059e-04 - val_loss: 6.5768e-04\n",
      "Epoch 45/100\n",
      "47/47 [==============================] - 10s 207ms/step - loss: 2.1249e-04 - val_loss: 7.6924e-04\n",
      "Epoch 46/100\n",
      "47/47 [==============================] - 10s 211ms/step - loss: 1.6122e-04 - val_loss: 7.5405e-04\n",
      "Epoch 47/100\n",
      "47/47 [==============================] - 9s 198ms/step - loss: 1.7596e-04 - val_loss: 5.7750e-04\n",
      "Epoch 48/100\n",
      "47/47 [==============================] - 10s 211ms/step - loss: 1.6193e-04 - val_loss: 5.5756e-04\n",
      "Epoch 49/100\n",
      "47/47 [==============================] - 10s 208ms/step - loss: 1.4586e-04 - val_loss: 6.4788e-04\n",
      "Epoch 50/100\n",
      "47/47 [==============================] - 9s 195ms/step - loss: 1.9007e-04 - val_loss: 5.4511e-04\n",
      "Epoch 51/100\n",
      "47/47 [==============================] - 10s 210ms/step - loss: 2.5680e-04 - val_loss: 6.7412e-04\n",
      "Epoch 52/100\n",
      "47/47 [==============================] - 9s 202ms/step - loss: 1.5093e-04 - val_loss: 5.3321e-04\n",
      "Epoch 53/100\n",
      "47/47 [==============================] - 9s 198ms/step - loss: 1.7950e-04 - val_loss: 5.6845e-04\n",
      "Epoch 54/100\n",
      "47/47 [==============================] - 9s 192ms/step - loss: 1.5981e-04 - val_loss: 6.3006e-04\n",
      "Epoch 55/100\n",
      "47/47 [==============================] - 9s 184ms/step - loss: 1.8818e-04 - val_loss: 6.0969e-04\n",
      "Epoch 56/100\n",
      "47/47 [==============================] - 9s 193ms/step - loss: 1.1895e-04 - val_loss: 6.3358e-04\n",
      "Epoch 57/100\n",
      "47/47 [==============================] - 9s 184ms/step - loss: 1.4366e-04 - val_loss: 5.8003e-04\n",
      "Epoch 58/100\n",
      "47/47 [==============================] - 9s 192ms/step - loss: 1.2104e-04 - val_loss: 5.9723e-04\n",
      "Epoch 59/100\n",
      "47/47 [==============================] - 9s 184ms/step - loss: 1.1489e-04 - val_loss: 5.0629e-04\n",
      "Epoch 60/100\n",
      "47/47 [==============================] - 10s 217ms/step - loss: 1.1382e-04 - val_loss: 5.4833e-04\n",
      "Epoch 61/100\n",
      "47/47 [==============================] - 9s 194ms/step - loss: 1.2053e-04 - val_loss: 5.1685e-04\n",
      "Epoch 62/100\n",
      "47/47 [==============================] - 9s 192ms/step - loss: 1.0877e-04 - val_loss: 5.1638e-04\n",
      "Epoch 63/100\n",
      "47/47 [==============================] - 9s 199ms/step - loss: 1.1033e-04 - val_loss: 5.7888e-04\n",
      "Epoch 64/100\n",
      "47/47 [==============================] - 9s 189ms/step - loss: 1.8641e-04 - val_loss: 5.2426e-04\n",
      "Epoch 65/100\n",
      "47/47 [==============================] - 9s 194ms/step - loss: 1.4385e-04 - val_loss: 5.8870e-04\n",
      "Epoch 66/100\n",
      "47/47 [==============================] - 9s 187ms/step - loss: 1.1921e-04 - val_loss: 5.2424e-04\n",
      "Epoch 67/100\n",
      "47/47 [==============================] - 9s 195ms/step - loss: 1.2366e-04 - val_loss: 5.7286e-04\n",
      "Epoch 68/100\n",
      "47/47 [==============================] - 9s 192ms/step - loss: 1.0109e-04 - val_loss: 5.9689e-04\n",
      "Epoch 69/100\n",
      "47/47 [==============================] - 9s 188ms/step - loss: 1.3787e-04 - val_loss: 5.5271e-04\n",
      "Epoch 70/100\n",
      "47/47 [==============================] - 9s 194ms/step - loss: 1.2257e-04 - val_loss: 5.3909e-04\n",
      "Epoch 71/100\n",
      "47/47 [==============================] - 9s 188ms/step - loss: 1.2350e-04 - val_loss: 5.2845e-04\n",
      "Epoch 72/100\n",
      "47/47 [==============================] - 9s 194ms/step - loss: 9.8921e-05 - val_loss: 5.3616e-04\n",
      "Epoch 73/100\n",
      "47/47 [==============================] - 9s 187ms/step - loss: 1.2219e-04 - val_loss: 5.3033e-04\n",
      "Epoch 74/100\n",
      "47/47 [==============================] - 9s 197ms/step - loss: 1.3361e-04 - val_loss: 7.9330e-04\n",
      "Epoch 75/100\n",
      "47/47 [==============================] - 10s 204ms/step - loss: 1.2466e-04 - val_loss: 5.2613e-04\n",
      "Epoch 76/100\n"
     ]
    },
    {
     "name": "stdout",
     "output_type": "stream",
     "text": [
      "47/47 [==============================] - 9s 194ms/step - loss: 1.1480e-04 - val_loss: 5.5853e-04\n",
      "Epoch 77/100\n",
      "47/47 [==============================] - 9s 196ms/step - loss: 1.3306e-04 - val_loss: 5.5713e-04\n",
      "Epoch 78/100\n",
      "47/47 [==============================] - 9s 191ms/step - loss: 1.0906e-04 - val_loss: 7.2475e-04\n",
      "Epoch 79/100\n",
      "47/47 [==============================] - 9s 202ms/step - loss: 2.1435e-04 - val_loss: 5.3602e-04\n",
      "Epoch 80/100\n",
      "47/47 [==============================] - 9s 189ms/step - loss: 1.1417e-04 - val_loss: 5.4362e-04\n",
      "Epoch 81/100\n",
      "47/47 [==============================] - 9s 201ms/step - loss: 1.1544e-04 - val_loss: 5.3159e-04\n",
      "Epoch 82/100\n",
      "47/47 [==============================] - 9s 195ms/step - loss: 1.0357e-04 - val_loss: 5.2273e-04\n",
      "Epoch 83/100\n",
      "47/47 [==============================] - 9s 199ms/step - loss: 1.0993e-04 - val_loss: 6.3759e-04\n",
      "Epoch 84/100\n",
      "47/47 [==============================] - 11s 231ms/step - loss: 1.0765e-04 - val_loss: 5.2783e-04\n",
      "Epoch 85/100\n",
      "47/47 [==============================] - 11s 224ms/step - loss: 1.5482e-04 - val_loss: 5.2687e-04\n",
      "Epoch 86/100\n",
      "47/47 [==============================] - 10s 219ms/step - loss: 8.9659e-05 - val_loss: 5.4852e-04\n",
      "Epoch 87/100\n",
      "47/47 [==============================] - 12s 252ms/step - loss: 1.5347e-04 - val_loss: 5.2436e-04\n",
      "Epoch 88/100\n",
      "47/47 [==============================] - 10s 211ms/step - loss: 1.0037e-04 - val_loss: 6.5865e-04\n",
      "Epoch 89/100\n",
      "47/47 [==============================] - 11s 245ms/step - loss: 3.2658e-04 - val_loss: 5.2742e-04\n",
      "Epoch 90/100\n",
      "47/47 [==============================] - 12s 263ms/step - loss: 1.0370e-04 - val_loss: 5.3915e-04\n",
      "Epoch 91/100\n",
      "47/47 [==============================] - 12s 253ms/step - loss: 1.5109e-04 - val_loss: 5.3539e-04\n",
      "Epoch 92/100\n",
      "47/47 [==============================] - 11s 231ms/step - loss: 1.3329e-04 - val_loss: 5.2507e-04\n",
      "Epoch 93/100\n",
      "47/47 [==============================] - 10s 205ms/step - loss: 1.6135e-04 - val_loss: 5.9096e-04\n",
      "Epoch 94/100\n",
      "47/47 [==============================] - 10s 205ms/step - loss: 1.1808e-04 - val_loss: 5.3537e-04\n",
      "Epoch 95/100\n",
      "47/47 [==============================] - 9s 197ms/step - loss: 1.2272e-04 - val_loss: 5.4599e-04\n",
      "Epoch 96/100\n",
      "47/47 [==============================] - 9s 197ms/step - loss: 9.3553e-05 - val_loss: 6.6920e-04\n",
      "Epoch 97/100\n",
      "47/47 [==============================] - 9s 189ms/step - loss: 1.4421e-04 - val_loss: 5.2429e-04\n",
      "Epoch 98/100\n",
      "47/47 [==============================] - 9s 198ms/step - loss: 1.2045e-04 - val_loss: 5.2601e-04\n",
      "Epoch 99/100\n",
      "47/47 [==============================] - 9s 189ms/step - loss: 1.2018e-04 - val_loss: 5.3589e-04\n",
      "Epoch 100/100\n",
      "47/47 [==============================] - 9s 199ms/step - loss: 9.1280e-05 - val_loss: 5.2506e-04\n"
     ]
    },
    {
     "data": {
      "text/plain": [
       "<keras.callbacks.History at 0x288ed98640>"
      ]
     },
     "execution_count": 32,
     "metadata": {},
     "output_type": "execute_result"
    }
   ],
   "source": [
    "# training the model for a fixed number of epochs (iterations on a dataset)\n",
    "model.fit(X_train, y_train, validation_data = (X_test, y_test), epochs=100, batch_size = 64, verbose = 1)"
   ]
  },
  {
   "cell_type": "markdown",
   "metadata": {},
   "source": [
    "## Performance Check"
   ]
  },
  {
   "cell_type": "code",
   "execution_count": 33,
   "metadata": {},
   "outputs": [],
   "source": [
    "# doing prediction and checking performance metrics\n",
    "train_predict = model.predict(X_train)\n",
    "test_predict = model.predict(X_test)"
   ]
  },
  {
   "cell_type": "code",
   "execution_count": 34,
   "metadata": {},
   "outputs": [],
   "source": [
    "# transforming back to original form\n",
    "train_predict = scaler.inverse_transform(train_predict)\n",
    "test_predict = scaler.inverse_transform(test_predict)"
   ]
  },
  {
   "cell_type": "markdown",
   "metadata": {},
   "source": [
    "## Root Mean Squared Error\n"
   ]
  },
  {
   "cell_type": "code",
   "execution_count": 35,
   "metadata": {},
   "outputs": [
    {
     "data": {
      "text/plain": [
       "0.01077861045009059"
      ]
     },
     "execution_count": 35,
     "metadata": {},
     "output_type": "execute_result"
    }
   ],
   "source": [
    "# Calculate RMSE performance metrics\n",
    "import math\n",
    "from sklearn.metrics import mean_squared_error\n",
    "# train data RMSE\n",
    "math.sqrt(mean_squared_error(y_train, train_predict))"
   ]
  },
  {
   "cell_type": "code",
   "execution_count": 37,
   "metadata": {},
   "outputs": [
    {
     "data": {
      "text/plain": [
       "0.022914120944779206"
      ]
     },
     "execution_count": 37,
     "metadata": {},
     "output_type": "execute_result"
    }
   ],
   "source": [
    "# test data RMSE\n",
    "math.sqrt(mean_squared_error(y_test, test_predict))"
   ]
  },
  {
   "cell_type": "markdown",
   "metadata": {},
   "source": [
    "## Prediction on Test Data"
   ]
  },
  {
   "cell_type": "code",
   "execution_count": 38,
   "metadata": {},
   "outputs": [
    {
     "data": {
      "image/png": "[encoded data removed]",
      "text/plain": [
       "<Figure size 432x288 with 1 Axes>"
      ]
     },
     "metadata": {
      "needs_background": "light"
     },
     "output_type": "display_data"
    }
   ],
   "source": [
    "# Plotting \n",
    "# shift train predictions for plotting\n",
    "look_back = 100\n",
    "trainPredictPlot = np.empty_like(df_close)\n",
    "trainPredictPlot[:, :] = np.nan\n",
    "trainPredictPlot[look_back:len(train_predict) + look_back, :] = train_predict\n",
    "# shift test predictions for plotting\n",
    "testPredictPlot = np.empty_like(df_close)\n",
    "testPredictPlot[:, :] = np.nan\n",
    "testPredictPlot[len(train_predict) + (look_back * 2) +1:len(df_close)-1, :] = test_predict\n",
    "# plot baseline and predictions\n",
    "plt.plot(scaler.inverse_transform(df_close))\n",
    "plt.plot(trainPredictPlot)\n",
    "plt.plot(testPredictPlot)\n",
    "# green colored line shows the prediction on test data\n",
    "plt.show()"
   ]
  },
  {
   "cell_type": "markdown",
   "metadata": {},
   "source": [
    "## Data Analysis for Future Forecasting"
   ]
  },
  {
   "cell_type": "code",
   "execution_count": 39,
   "metadata": {},
   "outputs": [
    {
     "data": {
      "text/plain": [
       "1035"
      ]
     },
     "execution_count": 39,
     "metadata": {},
     "output_type": "execute_result"
    }
   ],
   "source": [
    "# checking the length of the test data\n",
    "len(test_data)"
   ]
  },
  {
   "cell_type": "code",
   "execution_count": 40,
   "metadata": {},
   "outputs": [
    {
     "data": {
      "text/plain": [
       "(1, 100)"
      ]
     },
     "execution_count": 40,
     "metadata": {},
     "output_type": "execute_result"
    }
   ],
   "source": [
    "# reshaping the stock price records of previous 100 days\n",
    "x_input = test_data[935:].reshape(1,-1)\n",
    "# displaying the dimensionality of x_input\n",
    "x_input.shape"
   ]
  },
  {
   "cell_type": "code",
   "execution_count": 41,
   "metadata": {},
   "outputs": [],
   "source": [
    "# converting x_input into a list\n",
    "temp_input = list(x_input)\n",
    "temp_input = temp_input[0].tolist()"
   ]
  },
  {
   "cell_type": "code",
   "execution_count": 42,
   "metadata": {},
   "outputs": [
    {
     "name": "stdout",
     "output_type": "stream",
     "text": [
      "[0.7237453854589828, 0.7293368962481273, 0.7324724672155203, 0.7508842927974546, 0.7550547566457115, 0.7468682905732071, 0.7466520442995939, 0.751007862096662, 0.7398402866807743, 0.7561050956889761, 0.7635192536414328, 0.7705627036962668, 0.7579431890146895, 0.7741153210484855, 0.7853137887891755, 0.7854991427379867, 0.7916930538607683, 0.7920328694335892, 0.7854836965755858, 0.7711033193803001, 0.7913377921255464, 0.8256900573052626, 0.8422328972366817, 0.8294125824438918, 0.8236357177059361, 0.8508518558564127, 0.8680125422838696, 0.8675182650870392, 0.8626063854435366, 0.8909500934492827, 0.8855902750961524, 0.8820067654191317, 0.894039325929473, 0.9088985341591884, 0.8981016666409232, 0.9071376716454798, 0.9034923773188552, 0.8941474490662797, 0.8742218995690523, 0.8479016388378309, 0.8565514897823636, 0.8763534699803834, 0.8753031309371189, 0.8717196212600979, 0.8622974621955175, 0.8796435025717861, 0.8681515577454781, 0.8793963639733708, 0.877141224262832, 0.8724455908929427, 0.8567059514063731, 0.8471138845553823, 0.8360853246011029, 0.8312197834448032, 0.835699170541079, 0.800667274215721, 0.807386354860135, 0.7974699185987242, 0.8120510959052225, 0.7808498478553005, 0.7900866529710693, 0.8154646977958326, 0.8317603991288365, 0.8288565205974576, 0.815989867317465, 0.8156500517446441, 0.8292426746574812, 0.8354211396178619, 0.8314051373936147, 0.8339383080273708, 0.8475000386154061, 0.8483959160346612, 0.8247787337236063, 0.8290109822214671, 0.8535549342765791, 0.8575554903384255, 0.8509136405060163, 0.8335367078049458, 0.8341391081385832, 0.862482816144329, 0.8684450348310961, 0.8644753710940518, 0.8873047991226581, 0.895275018921549, 0.8973448046832766, 0.9115398279297509, 0.9130535518450442, 0.8896680619700037, 0.8456464991272918, 0.8811417803246784, 0.8737894070218255, 0.8634868167003908, 0.8581578906720626, 0.8502031170355726, 0.8473301308289956, 0.8446424985712302, 0.8542809039094237, 0.8518404102500734, 0.8491064395051051, 0.8245161489627904]\n"
     ]
    }
   ],
   "source": [
    "# viewing the temp_input \n",
    "print(temp_input)"
   ]
  },
  {
   "cell_type": "markdown",
   "metadata": {},
   "source": [
    "## Future Stock Price Forecasting\n"
   ]
  },
  {
   "cell_type": "code",
   "execution_count": 43,
   "metadata": {},
   "outputs": [
    {
     "name": "stdout",
     "output_type": "stream",
     "text": [
      "[0.8131473]\n",
      "101\n",
      "1 day input [0.7293369  0.73247247 0.75088429 0.75505476 0.74686829 0.74665204\n",
      " 0.75100786 0.73984029 0.7561051  0.76351925 0.7705627  0.75794319\n",
      " 0.77411532 0.78531379 0.78549914 0.79169305 0.79203287 0.7854837\n",
      " 0.77110332 0.79133779 0.82569006 0.8422329  0.82941258 0.82363572\n",
      " 0.85085186 0.86801254 0.86751827 0.86260639 0.89095009 0.88559028\n",
      " 0.88200677 0.89403933 0.90889853 0.89810167 0.90713767 0.90349238\n",
      " 0.89414745 0.8742219  0.84790164 0.85655149 0.87635347 0.87530313\n",
      " 0.87171962 0.86229746 0.8796435  0.86815156 0.87939636 0.87714122\n",
      " 0.87244559 0.85670595 0.84711388 0.83608532 0.83121978 0.83569917\n",
      " 0.80066727 0.80738635 0.79746992 0.8120511  0.78084985 0.79008665\n",
      " 0.8154647  0.8317604  0.82885652 0.81598987 0.81565005 0.82924267\n",
      " 0.83542114 0.83140514 0.83393831 0.84750004 0.84839592 0.82477873\n",
      " 0.82901098 0.85355493 0.85755549 0.85091364 0.83353671 0.83413911\n",
      " 0.86248282 0.86844503 0.86447537 0.8873048  0.89527502 0.8973448\n",
      " 0.91153983 0.91305355 0.88966806 0.8456465  0.88114178 0.87378941\n",
      " 0.86348682 0.85815789 0.85020312 0.84733013 0.8446425  0.8542809\n",
      " 0.85184041 0.84910644 0.82451615 0.81314731]\n",
      "1 day output [[0.8118635]]\n",
      "2 day input [0.73247247 0.75088429 0.75505476 0.74686829 0.74665204 0.75100786\n",
      " 0.73984029 0.7561051  0.76351925 0.7705627  0.75794319 0.77411532\n",
      " 0.78531379 0.78549914 0.79169305 0.79203287 0.7854837  0.77110332\n",
      " 0.79133779 0.82569006 0.8422329  0.82941258 0.82363572 0.85085186\n",
      " 0.86801254 0.86751827 0.86260639 0.89095009 0.88559028 0.88200677\n",
      " 0.89403933 0.90889853 0.89810167 0.90713767 0.90349238 0.89414745\n",
      " 0.8742219  0.84790164 0.85655149 0.87635347 0.87530313 0.87171962\n",
      " 0.86229746 0.8796435  0.86815156 0.87939636 0.87714122 0.87244559\n",
      " 0.85670595 0.84711388 0.83608532 0.83121978 0.83569917 0.80066727\n",
      " 0.80738635 0.79746992 0.8120511  0.78084985 0.79008665 0.8154647\n",
      " 0.8317604  0.82885652 0.81598987 0.81565005 0.82924267 0.83542114\n",
      " 0.83140514 0.83393831 0.84750004 0.84839592 0.82477873 0.82901098\n",
      " 0.85355493 0.85755549 0.85091364 0.83353671 0.83413911 0.86248282\n",
      " 0.86844503 0.86447537 0.8873048  0.89527502 0.8973448  0.91153983\n",
      " 0.91305355 0.88966806 0.8456465  0.88114178 0.87378941 0.86348682\n",
      " 0.85815789 0.85020312 0.84733013 0.8446425  0.8542809  0.85184041\n",
      " 0.84910644 0.82451615 0.81314731 0.81186348]\n",
      "2 day output [[0.81434846]]\n",
      "3 day input [0.75088429 0.75505476 0.74686829 0.74665204 0.75100786 0.73984029\n",
      " 0.7561051  0.76351925 0.7705627  0.75794319 0.77411532 0.78531379\n",
      " 0.78549914 0.79169305 0.79203287 0.7854837  0.77110332 0.79133779\n",
      " 0.82569006 0.8422329  0.82941258 0.82363572 0.85085186 0.86801254\n",
      " 0.86751827 0.86260639 0.89095009 0.88559028 0.88200677 0.89403933\n",
      " 0.90889853 0.89810167 0.90713767 0.90349238 0.89414745 0.8742219\n",
      " 0.84790164 0.85655149 0.87635347 0.87530313 0.87171962 0.86229746\n",
      " 0.8796435  0.86815156 0.87939636 0.87714122 0.87244559 0.85670595\n",
      " 0.84711388 0.83608532 0.83121978 0.83569917 0.80066727 0.80738635\n",
      " 0.79746992 0.8120511  0.78084985 0.79008665 0.8154647  0.8317604\n",
      " 0.82885652 0.81598987 0.81565005 0.82924267 0.83542114 0.83140514\n",
      " 0.83393831 0.84750004 0.84839592 0.82477873 0.82901098 0.85355493\n",
      " 0.85755549 0.85091364 0.83353671 0.83413911 0.86248282 0.86844503\n",
      " 0.86447537 0.8873048  0.89527502 0.8973448  0.91153983 0.91305355\n",
      " 0.88966806 0.8456465  0.88114178 0.87378941 0.86348682 0.85815789\n",
      " 0.85020312 0.84733013 0.8446425  0.8542809  0.85184041 0.84910644\n",
      " 0.82451615 0.81314731 0.81186348 0.81434846]\n",
      "3 day output [[0.8163917]]\n",
      "4 day input [0.75505476 0.74686829 0.74665204 0.75100786 0.73984029 0.7561051\n",
      " 0.76351925 0.7705627  0.75794319 0.77411532 0.78531379 0.78549914\n",
      " 0.79169305 0.79203287 0.7854837  0.77110332 0.79133779 0.82569006\n",
      " 0.8422329  0.82941258 0.82363572 0.85085186 0.86801254 0.86751827\n",
      " 0.86260639 0.89095009 0.88559028 0.88200677 0.89403933 0.90889853\n",
      " 0.89810167 0.90713767 0.90349238 0.89414745 0.8742219  0.84790164\n",
      " 0.85655149 0.87635347 0.87530313 0.87171962 0.86229746 0.8796435\n",
      " 0.86815156 0.87939636 0.87714122 0.87244559 0.85670595 0.84711388\n",
      " 0.83608532 0.83121978 0.83569917 0.80066727 0.80738635 0.79746992\n",
      " 0.8120511  0.78084985 0.79008665 0.8154647  0.8317604  0.82885652\n",
      " 0.81598987 0.81565005 0.82924267 0.83542114 0.83140514 0.83393831\n",
      " 0.84750004 0.84839592 0.82477873 0.82901098 0.85355493 0.85755549\n",
      " 0.85091364 0.83353671 0.83413911 0.86248282 0.86844503 0.86447537\n",
      " 0.8873048  0.89527502 0.8973448  0.91153983 0.91305355 0.88966806\n",
      " 0.8456465  0.88114178 0.87378941 0.86348682 0.85815789 0.85020312\n",
      " 0.84733013 0.8446425  0.8542809  0.85184041 0.84910644 0.82451615\n",
      " 0.81314731 0.81186348 0.81434846 0.81639171]\n",
      "4 day output [[0.8169835]]\n",
      "5 day input [0.74686829 0.74665204 0.75100786 0.73984029 0.7561051  0.76351925\n",
      " 0.7705627  0.75794319 0.77411532 0.78531379 0.78549914 0.79169305\n",
      " 0.79203287 0.7854837  0.77110332 0.79133779 0.82569006 0.8422329\n",
      " 0.82941258 0.82363572 0.85085186 0.86801254 0.86751827 0.86260639\n",
      " 0.89095009 0.88559028 0.88200677 0.89403933 0.90889853 0.89810167\n",
      " 0.90713767 0.90349238 0.89414745 0.8742219  0.84790164 0.85655149\n",
      " 0.87635347 0.87530313 0.87171962 0.86229746 0.8796435  0.86815156\n",
      " 0.87939636 0.87714122 0.87244559 0.85670595 0.84711388 0.83608532\n",
      " 0.83121978 0.83569917 0.80066727 0.80738635 0.79746992 0.8120511\n",
      " 0.78084985 0.79008665 0.8154647  0.8317604  0.82885652 0.81598987\n",
      " 0.81565005 0.82924267 0.83542114 0.83140514 0.83393831 0.84750004\n",
      " 0.84839592 0.82477873 0.82901098 0.85355493 0.85755549 0.85091364\n",
      " 0.83353671 0.83413911 0.86248282 0.86844503 0.86447537 0.8873048\n",
      " 0.89527502 0.8973448  0.91153983 0.91305355 0.88966806 0.8456465\n",
      " 0.88114178 0.87378941 0.86348682 0.85815789 0.85020312 0.84733013\n",
      " 0.8446425  0.8542809  0.85184041 0.84910644 0.82451615 0.81314731\n",
      " 0.81186348 0.81434846 0.81639171 0.81698352]\n",
      "5 day output [[0.81658036]]\n",
      "6 day input [0.74665204 0.75100786 0.73984029 0.7561051  0.76351925 0.7705627\n",
      " 0.75794319 0.77411532 0.78531379 0.78549914 0.79169305 0.79203287\n",
      " 0.7854837  0.77110332 0.79133779 0.82569006 0.8422329  0.82941258\n",
      " 0.82363572 0.85085186 0.86801254 0.86751827 0.86260639 0.89095009\n",
      " 0.88559028 0.88200677 0.89403933 0.90889853 0.89810167 0.90713767\n",
      " 0.90349238 0.89414745 0.8742219  0.84790164 0.85655149 0.87635347\n",
      " 0.87530313 0.87171962 0.86229746 0.8796435  0.86815156 0.87939636\n",
      " 0.87714122 0.87244559 0.85670595 0.84711388 0.83608532 0.83121978\n",
      " 0.83569917 0.80066727 0.80738635 0.79746992 0.8120511  0.78084985\n",
      " 0.79008665 0.8154647  0.8317604  0.82885652 0.81598987 0.81565005\n",
      " 0.82924267 0.83542114 0.83140514 0.83393831 0.84750004 0.84839592\n",
      " 0.82477873 0.82901098 0.85355493 0.85755549 0.85091364 0.83353671\n",
      " 0.83413911 0.86248282 0.86844503 0.86447537 0.8873048  0.89527502\n",
      " 0.8973448  0.91153983 0.91305355 0.88966806 0.8456465  0.88114178\n",
      " 0.87378941 0.86348682 0.85815789 0.85020312 0.84733013 0.8446425\n",
      " 0.8542809  0.85184041 0.84910644 0.82451615 0.81314731 0.81186348\n",
      " 0.81434846 0.81639171 0.81698352 0.81658036]\n",
      "6 day output [[0.8158606]]\n",
      "7 day input [0.75100786 0.73984029 0.7561051  0.76351925 0.7705627  0.75794319\n",
      " 0.77411532 0.78531379 0.78549914 0.79169305 0.79203287 0.7854837\n",
      " 0.77110332 0.79133779 0.82569006 0.8422329  0.82941258 0.82363572\n",
      " 0.85085186 0.86801254 0.86751827 0.86260639 0.89095009 0.88559028\n",
      " 0.88200677 0.89403933 0.90889853 0.89810167 0.90713767 0.90349238\n",
      " 0.89414745 0.8742219  0.84790164 0.85655149 0.87635347 0.87530313\n",
      " 0.87171962 0.86229746 0.8796435  0.86815156 0.87939636 0.87714122\n",
      " 0.87244559 0.85670595 0.84711388 0.83608532 0.83121978 0.83569917\n",
      " 0.80066727 0.80738635 0.79746992 0.8120511  0.78084985 0.79008665\n",
      " 0.8154647  0.8317604  0.82885652 0.81598987 0.81565005 0.82924267\n",
      " 0.83542114 0.83140514 0.83393831 0.84750004 0.84839592 0.82477873\n",
      " 0.82901098 0.85355493 0.85755549 0.85091364 0.83353671 0.83413911\n",
      " 0.86248282 0.86844503 0.86447537 0.8873048  0.89527502 0.8973448\n",
      " 0.91153983 0.91305355 0.88966806 0.8456465  0.88114178 0.87378941\n",
      " 0.86348682 0.85815789 0.85020312 0.84733013 0.8446425  0.8542809\n",
      " 0.85184041 0.84910644 0.82451615 0.81314731 0.81186348 0.81434846\n",
      " 0.81639171 0.81698352 0.81658036 0.81586063]\n",
      "7 day output [[0.8152756]]\n",
      "8 day input [0.73984029 0.7561051  0.76351925 0.7705627  0.75794319 0.77411532\n",
      " 0.78531379 0.78549914 0.79169305 0.79203287 0.7854837  0.77110332\n",
      " 0.79133779 0.82569006 0.8422329  0.82941258 0.82363572 0.85085186\n",
      " 0.86801254 0.86751827 0.86260639 0.89095009 0.88559028 0.88200677\n",
      " 0.89403933 0.90889853 0.89810167 0.90713767 0.90349238 0.89414745\n",
      " 0.8742219  0.84790164 0.85655149 0.87635347 0.87530313 0.87171962\n",
      " 0.86229746 0.8796435  0.86815156 0.87939636 0.87714122 0.87244559\n",
      " 0.85670595 0.84711388 0.83608532 0.83121978 0.83569917 0.80066727\n",
      " 0.80738635 0.79746992 0.8120511  0.78084985 0.79008665 0.8154647\n",
      " 0.8317604  0.82885652 0.81598987 0.81565005 0.82924267 0.83542114\n",
      " 0.83140514 0.83393831 0.84750004 0.84839592 0.82477873 0.82901098\n",
      " 0.85355493 0.85755549 0.85091364 0.83353671 0.83413911 0.86248282\n",
      " 0.86844503 0.86447537 0.8873048  0.89527502 0.8973448  0.91153983\n",
      " 0.91305355 0.88966806 0.8456465  0.88114178 0.87378941 0.86348682\n",
      " 0.85815789 0.85020312 0.84733013 0.8446425  0.8542809  0.85184041\n",
      " 0.84910644 0.82451615 0.81314731 0.81186348 0.81434846 0.81639171\n",
      " 0.81698352 0.81658036 0.81586063 0.81527561]\n",
      "8 day output [[0.81499213]]\n",
      "9 day input [0.7561051  0.76351925 0.7705627  0.75794319 0.77411532 0.78531379\n",
      " 0.78549914 0.79169305 0.79203287 0.7854837  0.77110332 0.79133779\n",
      " 0.82569006 0.8422329  0.82941258 0.82363572 0.85085186 0.86801254\n",
      " 0.86751827 0.86260639 0.89095009 0.88559028 0.88200677 0.89403933\n",
      " 0.90889853 0.89810167 0.90713767 0.90349238 0.89414745 0.8742219\n",
      " 0.84790164 0.85655149 0.87635347 0.87530313 0.87171962 0.86229746\n",
      " 0.8796435  0.86815156 0.87939636 0.87714122 0.87244559 0.85670595\n",
      " 0.84711388 0.83608532 0.83121978 0.83569917 0.80066727 0.80738635\n",
      " 0.79746992 0.8120511  0.78084985 0.79008665 0.8154647  0.8317604\n",
      " 0.82885652 0.81598987 0.81565005 0.82924267 0.83542114 0.83140514\n",
      " 0.83393831 0.84750004 0.84839592 0.82477873 0.82901098 0.85355493\n",
      " 0.85755549 0.85091364 0.83353671 0.83413911 0.86248282 0.86844503\n",
      " 0.86447537 0.8873048  0.89527502 0.8973448  0.91153983 0.91305355\n",
      " 0.88966806 0.8456465  0.88114178 0.87378941 0.86348682 0.85815789\n",
      " 0.85020312 0.84733013 0.8446425  0.8542809  0.85184041 0.84910644\n",
      " 0.82451615 0.81314731 0.81186348 0.81434846 0.81639171 0.81698352\n",
      " 0.81658036 0.81586063 0.81527561 0.81499213]\n"
     ]
    },
    {
     "name": "stdout",
     "output_type": "stream",
     "text": [
      "9 day output [[0.8149861]]\n",
      "10 day input [0.76351925 0.7705627  0.75794319 0.77411532 0.78531379 0.78549914\n",
      " 0.79169305 0.79203287 0.7854837  0.77110332 0.79133779 0.82569006\n",
      " 0.8422329  0.82941258 0.82363572 0.85085186 0.86801254 0.86751827\n",
      " 0.86260639 0.89095009 0.88559028 0.88200677 0.89403933 0.90889853\n",
      " 0.89810167 0.90713767 0.90349238 0.89414745 0.8742219  0.84790164\n",
      " 0.85655149 0.87635347 0.87530313 0.87171962 0.86229746 0.8796435\n",
      " 0.86815156 0.87939636 0.87714122 0.87244559 0.85670595 0.84711388\n",
      " 0.83608532 0.83121978 0.83569917 0.80066727 0.80738635 0.79746992\n",
      " 0.8120511  0.78084985 0.79008665 0.8154647  0.8317604  0.82885652\n",
      " 0.81598987 0.81565005 0.82924267 0.83542114 0.83140514 0.83393831\n",
      " 0.84750004 0.84839592 0.82477873 0.82901098 0.85355493 0.85755549\n",
      " 0.85091364 0.83353671 0.83413911 0.86248282 0.86844503 0.86447537\n",
      " 0.8873048  0.89527502 0.8973448  0.91153983 0.91305355 0.88966806\n",
      " 0.8456465  0.88114178 0.87378941 0.86348682 0.85815789 0.85020312\n",
      " 0.84733013 0.8446425  0.8542809  0.85184041 0.84910644 0.82451615\n",
      " 0.81314731 0.81186348 0.81434846 0.81639171 0.81698352 0.81658036\n",
      " 0.81586063 0.81527561 0.81499213 0.81498611]\n",
      "10 day output [[0.8151534]]\n",
      "11 day input [0.7705627  0.75794319 0.77411532 0.78531379 0.78549914 0.79169305\n",
      " 0.79203287 0.7854837  0.77110332 0.79133779 0.82569006 0.8422329\n",
      " 0.82941258 0.82363572 0.85085186 0.86801254 0.86751827 0.86260639\n",
      " 0.89095009 0.88559028 0.88200677 0.89403933 0.90889853 0.89810167\n",
      " 0.90713767 0.90349238 0.89414745 0.8742219  0.84790164 0.85655149\n",
      " 0.87635347 0.87530313 0.87171962 0.86229746 0.8796435  0.86815156\n",
      " 0.87939636 0.87714122 0.87244559 0.85670595 0.84711388 0.83608532\n",
      " 0.83121978 0.83569917 0.80066727 0.80738635 0.79746992 0.8120511\n",
      " 0.78084985 0.79008665 0.8154647  0.8317604  0.82885652 0.81598987\n",
      " 0.81565005 0.82924267 0.83542114 0.83140514 0.83393831 0.84750004\n",
      " 0.84839592 0.82477873 0.82901098 0.85355493 0.85755549 0.85091364\n",
      " 0.83353671 0.83413911 0.86248282 0.86844503 0.86447537 0.8873048\n",
      " 0.89527502 0.8973448  0.91153983 0.91305355 0.88966806 0.8456465\n",
      " 0.88114178 0.87378941 0.86348682 0.85815789 0.85020312 0.84733013\n",
      " 0.8446425  0.8542809  0.85184041 0.84910644 0.82451615 0.81314731\n",
      " 0.81186348 0.81434846 0.81639171 0.81698352 0.81658036 0.81586063\n",
      " 0.81527561 0.81499213 0.81498611 0.81515342]\n",
      "11 day output [[0.8153814]]\n",
      "12 day input [0.75794319 0.77411532 0.78531379 0.78549914 0.79169305 0.79203287\n",
      " 0.7854837  0.77110332 0.79133779 0.82569006 0.8422329  0.82941258\n",
      " 0.82363572 0.85085186 0.86801254 0.86751827 0.86260639 0.89095009\n",
      " 0.88559028 0.88200677 0.89403933 0.90889853 0.89810167 0.90713767\n",
      " 0.90349238 0.89414745 0.8742219  0.84790164 0.85655149 0.87635347\n",
      " 0.87530313 0.87171962 0.86229746 0.8796435  0.86815156 0.87939636\n",
      " 0.87714122 0.87244559 0.85670595 0.84711388 0.83608532 0.83121978\n",
      " 0.83569917 0.80066727 0.80738635 0.79746992 0.8120511  0.78084985\n",
      " 0.79008665 0.8154647  0.8317604  0.82885652 0.81598987 0.81565005\n",
      " 0.82924267 0.83542114 0.83140514 0.83393831 0.84750004 0.84839592\n",
      " 0.82477873 0.82901098 0.85355493 0.85755549 0.85091364 0.83353671\n",
      " 0.83413911 0.86248282 0.86844503 0.86447537 0.8873048  0.89527502\n",
      " 0.8973448  0.91153983 0.91305355 0.88966806 0.8456465  0.88114178\n",
      " 0.87378941 0.86348682 0.85815789 0.85020312 0.84733013 0.8446425\n",
      " 0.8542809  0.85184041 0.84910644 0.82451615 0.81314731 0.81186348\n",
      " 0.81434846 0.81639171 0.81698352 0.81658036 0.81586063 0.81527561\n",
      " 0.81499213 0.81498611 0.81515342 0.81538141]\n",
      "12 day output [[0.81558156]]\n",
      "13 day input [0.77411532 0.78531379 0.78549914 0.79169305 0.79203287 0.7854837\n",
      " 0.77110332 0.79133779 0.82569006 0.8422329  0.82941258 0.82363572\n",
      " 0.85085186 0.86801254 0.86751827 0.86260639 0.89095009 0.88559028\n",
      " 0.88200677 0.89403933 0.90889853 0.89810167 0.90713767 0.90349238\n",
      " 0.89414745 0.8742219  0.84790164 0.85655149 0.87635347 0.87530313\n",
      " 0.87171962 0.86229746 0.8796435  0.86815156 0.87939636 0.87714122\n",
      " 0.87244559 0.85670595 0.84711388 0.83608532 0.83121978 0.83569917\n",
      " 0.80066727 0.80738635 0.79746992 0.8120511  0.78084985 0.79008665\n",
      " 0.8154647  0.8317604  0.82885652 0.81598987 0.81565005 0.82924267\n",
      " 0.83542114 0.83140514 0.83393831 0.84750004 0.84839592 0.82477873\n",
      " 0.82901098 0.85355493 0.85755549 0.85091364 0.83353671 0.83413911\n",
      " 0.86248282 0.86844503 0.86447537 0.8873048  0.89527502 0.8973448\n",
      " 0.91153983 0.91305355 0.88966806 0.8456465  0.88114178 0.87378941\n",
      " 0.86348682 0.85815789 0.85020312 0.84733013 0.8446425  0.8542809\n",
      " 0.85184041 0.84910644 0.82451615 0.81314731 0.81186348 0.81434846\n",
      " 0.81639171 0.81698352 0.81658036 0.81586063 0.81527561 0.81499213\n",
      " 0.81498611 0.81515342 0.81538141 0.81558156]\n",
      "13 day output [[0.815697]]\n",
      "14 day input [0.78531379 0.78549914 0.79169305 0.79203287 0.7854837  0.77110332\n",
      " 0.79133779 0.82569006 0.8422329  0.82941258 0.82363572 0.85085186\n",
      " 0.86801254 0.86751827 0.86260639 0.89095009 0.88559028 0.88200677\n",
      " 0.89403933 0.90889853 0.89810167 0.90713767 0.90349238 0.89414745\n",
      " 0.8742219  0.84790164 0.85655149 0.87635347 0.87530313 0.87171962\n",
      " 0.86229746 0.8796435  0.86815156 0.87939636 0.87714122 0.87244559\n",
      " 0.85670595 0.84711388 0.83608532 0.83121978 0.83569917 0.80066727\n",
      " 0.80738635 0.79746992 0.8120511  0.78084985 0.79008665 0.8154647\n",
      " 0.8317604  0.82885652 0.81598987 0.81565005 0.82924267 0.83542114\n",
      " 0.83140514 0.83393831 0.84750004 0.84839592 0.82477873 0.82901098\n",
      " 0.85355493 0.85755549 0.85091364 0.83353671 0.83413911 0.86248282\n",
      " 0.86844503 0.86447537 0.8873048  0.89527502 0.8973448  0.91153983\n",
      " 0.91305355 0.88966806 0.8456465  0.88114178 0.87378941 0.86348682\n",
      " 0.85815789 0.85020312 0.84733013 0.8446425  0.8542809  0.85184041\n",
      " 0.84910644 0.82451615 0.81314731 0.81186348 0.81434846 0.81639171\n",
      " 0.81698352 0.81658036 0.81586063 0.81527561 0.81499213 0.81498611\n",
      " 0.81515342 0.81538141 0.81558156 0.81569701]\n",
      "14 day output [[0.815694]]\n",
      "15 day input [0.78549914 0.79169305 0.79203287 0.7854837  0.77110332 0.79133779\n",
      " 0.82569006 0.8422329  0.82941258 0.82363572 0.85085186 0.86801254\n",
      " 0.86751827 0.86260639 0.89095009 0.88559028 0.88200677 0.89403933\n",
      " 0.90889853 0.89810167 0.90713767 0.90349238 0.89414745 0.8742219\n",
      " 0.84790164 0.85655149 0.87635347 0.87530313 0.87171962 0.86229746\n",
      " 0.8796435  0.86815156 0.87939636 0.87714122 0.87244559 0.85670595\n",
      " 0.84711388 0.83608532 0.83121978 0.83569917 0.80066727 0.80738635\n",
      " 0.79746992 0.8120511  0.78084985 0.79008665 0.8154647  0.8317604\n",
      " 0.82885652 0.81598987 0.81565005 0.82924267 0.83542114 0.83140514\n",
      " 0.83393831 0.84750004 0.84839592 0.82477873 0.82901098 0.85355493\n",
      " 0.85755549 0.85091364 0.83353671 0.83413911 0.86248282 0.86844503\n",
      " 0.86447537 0.8873048  0.89527502 0.8973448  0.91153983 0.91305355\n",
      " 0.88966806 0.8456465  0.88114178 0.87378941 0.86348682 0.85815789\n",
      " 0.85020312 0.84733013 0.8446425  0.8542809  0.85184041 0.84910644\n",
      " 0.82451615 0.81314731 0.81186348 0.81434846 0.81639171 0.81698352\n",
      " 0.81658036 0.81586063 0.81527561 0.81499213 0.81498611 0.81515342\n",
      " 0.81538141 0.81558156 0.81569701 0.81569397]\n",
      "15 day output [[0.81555533]]\n",
      "16 day input [0.79169305 0.79203287 0.7854837  0.77110332 0.79133779 0.82569006\n",
      " 0.8422329  0.82941258 0.82363572 0.85085186 0.86801254 0.86751827\n",
      " 0.86260639 0.89095009 0.88559028 0.88200677 0.89403933 0.90889853\n",
      " 0.89810167 0.90713767 0.90349238 0.89414745 0.8742219  0.84790164\n",
      " 0.85655149 0.87635347 0.87530313 0.87171962 0.86229746 0.8796435\n",
      " 0.86815156 0.87939636 0.87714122 0.87244559 0.85670595 0.84711388\n",
      " 0.83608532 0.83121978 0.83569917 0.80066727 0.80738635 0.79746992\n",
      " 0.8120511  0.78084985 0.79008665 0.8154647  0.8317604  0.82885652\n",
      " 0.81598987 0.81565005 0.82924267 0.83542114 0.83140514 0.83393831\n",
      " 0.84750004 0.84839592 0.82477873 0.82901098 0.85355493 0.85755549\n",
      " 0.85091364 0.83353671 0.83413911 0.86248282 0.86844503 0.86447537\n",
      " 0.8873048  0.89527502 0.8973448  0.91153983 0.91305355 0.88966806\n",
      " 0.8456465  0.88114178 0.87378941 0.86348682 0.85815789 0.85020312\n",
      " 0.84733013 0.8446425  0.8542809  0.85184041 0.84910644 0.82451615\n",
      " 0.81314731 0.81186348 0.81434846 0.81639171 0.81698352 0.81658036\n",
      " 0.81586063 0.81527561 0.81499213 0.81498611 0.81515342 0.81538141\n",
      " 0.81558156 0.81569701 0.81569397 0.81555533]\n",
      "16 day output [[0.81527495]]\n",
      "17 day input [0.79203287 0.7854837  0.77110332 0.79133779 0.82569006 0.8422329\n",
      " 0.82941258 0.82363572 0.85085186 0.86801254 0.86751827 0.86260639\n",
      " 0.89095009 0.88559028 0.88200677 0.89403933 0.90889853 0.89810167\n",
      " 0.90713767 0.90349238 0.89414745 0.8742219  0.84790164 0.85655149\n",
      " 0.87635347 0.87530313 0.87171962 0.86229746 0.8796435  0.86815156\n",
      " 0.87939636 0.87714122 0.87244559 0.85670595 0.84711388 0.83608532\n",
      " 0.83121978 0.83569917 0.80066727 0.80738635 0.79746992 0.8120511\n",
      " 0.78084985 0.79008665 0.8154647  0.8317604  0.82885652 0.81598987\n",
      " 0.81565005 0.82924267 0.83542114 0.83140514 0.83393831 0.84750004\n",
      " 0.84839592 0.82477873 0.82901098 0.85355493 0.85755549 0.85091364\n",
      " 0.83353671 0.83413911 0.86248282 0.86844503 0.86447537 0.8873048\n",
      " 0.89527502 0.8973448  0.91153983 0.91305355 0.88966806 0.8456465\n",
      " 0.88114178 0.87378941 0.86348682 0.85815789 0.85020312 0.84733013\n",
      " 0.8446425  0.8542809  0.85184041 0.84910644 0.82451615 0.81314731\n",
      " 0.81186348 0.81434846 0.81639171 0.81698352 0.81658036 0.81586063\n",
      " 0.81527561 0.81499213 0.81498611 0.81515342 0.81538141 0.81558156\n",
      " 0.81569701 0.81569397 0.81555533 0.81527495]\n",
      "17 day output [[0.81485224]]\n",
      "18 day input [0.7854837  0.77110332 0.79133779 0.82569006 0.8422329  0.82941258\n",
      " 0.82363572 0.85085186 0.86801254 0.86751827 0.86260639 0.89095009\n",
      " 0.88559028 0.88200677 0.89403933 0.90889853 0.89810167 0.90713767\n",
      " 0.90349238 0.89414745 0.8742219  0.84790164 0.85655149 0.87635347\n",
      " 0.87530313 0.87171962 0.86229746 0.8796435  0.86815156 0.87939636\n",
      " 0.87714122 0.87244559 0.85670595 0.84711388 0.83608532 0.83121978\n",
      " 0.83569917 0.80066727 0.80738635 0.79746992 0.8120511  0.78084985\n",
      " 0.79008665 0.8154647  0.8317604  0.82885652 0.81598987 0.81565005\n",
      " 0.82924267 0.83542114 0.83140514 0.83393831 0.84750004 0.84839592\n",
      " 0.82477873 0.82901098 0.85355493 0.85755549 0.85091364 0.83353671\n",
      " 0.83413911 0.86248282 0.86844503 0.86447537 0.8873048  0.89527502\n",
      " 0.8973448  0.91153983 0.91305355 0.88966806 0.8456465  0.88114178\n",
      " 0.87378941 0.86348682 0.85815789 0.85020312 0.84733013 0.8446425\n",
      " 0.8542809  0.85184041 0.84910644 0.82451615 0.81314731 0.81186348\n",
      " 0.81434846 0.81639171 0.81698352 0.81658036 0.81586063 0.81527561\n",
      " 0.81499213 0.81498611 0.81515342 0.81538141 0.81558156 0.81569701\n",
      " 0.81569397 0.81555533 0.81527495 0.81485224]\n",
      "18 day output [[0.814292]]\n",
      "19 day input [0.77110332 0.79133779 0.82569006 0.8422329  0.82941258 0.82363572\n",
      " 0.85085186 0.86801254 0.86751827 0.86260639 0.89095009 0.88559028\n",
      " 0.88200677 0.89403933 0.90889853 0.89810167 0.90713767 0.90349238\n",
      " 0.89414745 0.8742219  0.84790164 0.85655149 0.87635347 0.87530313\n",
      " 0.87171962 0.86229746 0.8796435  0.86815156 0.87939636 0.87714122\n",
      " 0.87244559 0.85670595 0.84711388 0.83608532 0.83121978 0.83569917\n",
      " 0.80066727 0.80738635 0.79746992 0.8120511  0.78084985 0.79008665\n",
      " 0.8154647  0.8317604  0.82885652 0.81598987 0.81565005 0.82924267\n",
      " 0.83542114 0.83140514 0.83393831 0.84750004 0.84839592 0.82477873\n",
      " 0.82901098 0.85355493 0.85755549 0.85091364 0.83353671 0.83413911\n",
      " 0.86248282 0.86844503 0.86447537 0.8873048  0.89527502 0.8973448\n",
      " 0.91153983 0.91305355 0.88966806 0.8456465  0.88114178 0.87378941\n",
      " 0.86348682 0.85815789 0.85020312 0.84733013 0.8446425  0.8542809\n",
      " 0.85184041 0.84910644 0.82451615 0.81314731 0.81186348 0.81434846\n",
      " 0.81639171 0.81698352 0.81658036 0.81586063 0.81527561 0.81499213\n",
      " 0.81498611 0.81515342 0.81538141 0.81558156 0.81569701 0.81569397\n",
      " 0.81555533 0.81527495 0.81485224 0.81429201]\n"
     ]
    },
    {
     "name": "stdout",
     "output_type": "stream",
     "text": [
      "19 day output [[0.8136032]]\n",
      "20 day input [0.79133779 0.82569006 0.8422329  0.82941258 0.82363572 0.85085186\n",
      " 0.86801254 0.86751827 0.86260639 0.89095009 0.88559028 0.88200677\n",
      " 0.89403933 0.90889853 0.89810167 0.90713767 0.90349238 0.89414745\n",
      " 0.8742219  0.84790164 0.85655149 0.87635347 0.87530313 0.87171962\n",
      " 0.86229746 0.8796435  0.86815156 0.87939636 0.87714122 0.87244559\n",
      " 0.85670595 0.84711388 0.83608532 0.83121978 0.83569917 0.80066727\n",
      " 0.80738635 0.79746992 0.8120511  0.78084985 0.79008665 0.8154647\n",
      " 0.8317604  0.82885652 0.81598987 0.81565005 0.82924267 0.83542114\n",
      " 0.83140514 0.83393831 0.84750004 0.84839592 0.82477873 0.82901098\n",
      " 0.85355493 0.85755549 0.85091364 0.83353671 0.83413911 0.86248282\n",
      " 0.86844503 0.86447537 0.8873048  0.89527502 0.8973448  0.91153983\n",
      " 0.91305355 0.88966806 0.8456465  0.88114178 0.87378941 0.86348682\n",
      " 0.85815789 0.85020312 0.84733013 0.8446425  0.8542809  0.85184041\n",
      " 0.84910644 0.82451615 0.81314731 0.81186348 0.81434846 0.81639171\n",
      " 0.81698352 0.81658036 0.81586063 0.81527561 0.81499213 0.81498611\n",
      " 0.81515342 0.81538141 0.81558156 0.81569701 0.81569397 0.81555533\n",
      " 0.81527495 0.81485224 0.81429201 0.81360322]\n",
      "20 day output [[0.81279826]]\n",
      "21 day input [0.82569006 0.8422329  0.82941258 0.82363572 0.85085186 0.86801254\n",
      " 0.86751827 0.86260639 0.89095009 0.88559028 0.88200677 0.89403933\n",
      " 0.90889853 0.89810167 0.90713767 0.90349238 0.89414745 0.8742219\n",
      " 0.84790164 0.85655149 0.87635347 0.87530313 0.87171962 0.86229746\n",
      " 0.8796435  0.86815156 0.87939636 0.87714122 0.87244559 0.85670595\n",
      " 0.84711388 0.83608532 0.83121978 0.83569917 0.80066727 0.80738635\n",
      " 0.79746992 0.8120511  0.78084985 0.79008665 0.8154647  0.8317604\n",
      " 0.82885652 0.81598987 0.81565005 0.82924267 0.83542114 0.83140514\n",
      " 0.83393831 0.84750004 0.84839592 0.82477873 0.82901098 0.85355493\n",
      " 0.85755549 0.85091364 0.83353671 0.83413911 0.86248282 0.86844503\n",
      " 0.86447537 0.8873048  0.89527502 0.8973448  0.91153983 0.91305355\n",
      " 0.88966806 0.8456465  0.88114178 0.87378941 0.86348682 0.85815789\n",
      " 0.85020312 0.84733013 0.8446425  0.8542809  0.85184041 0.84910644\n",
      " 0.82451615 0.81314731 0.81186348 0.81434846 0.81639171 0.81698352\n",
      " 0.81658036 0.81586063 0.81527561 0.81499213 0.81498611 0.81515342\n",
      " 0.81538141 0.81558156 0.81569701 0.81569397 0.81555533 0.81527495\n",
      " 0.81485224 0.81429201 0.81360322 0.81279826]\n",
      "21 day output [[0.8118922]]\n",
      "22 day input [0.8422329  0.82941258 0.82363572 0.85085186 0.86801254 0.86751827\n",
      " 0.86260639 0.89095009 0.88559028 0.88200677 0.89403933 0.90889853\n",
      " 0.89810167 0.90713767 0.90349238 0.89414745 0.8742219  0.84790164\n",
      " 0.85655149 0.87635347 0.87530313 0.87171962 0.86229746 0.8796435\n",
      " 0.86815156 0.87939636 0.87714122 0.87244559 0.85670595 0.84711388\n",
      " 0.83608532 0.83121978 0.83569917 0.80066727 0.80738635 0.79746992\n",
      " 0.8120511  0.78084985 0.79008665 0.8154647  0.8317604  0.82885652\n",
      " 0.81598987 0.81565005 0.82924267 0.83542114 0.83140514 0.83393831\n",
      " 0.84750004 0.84839592 0.82477873 0.82901098 0.85355493 0.85755549\n",
      " 0.85091364 0.83353671 0.83413911 0.86248282 0.86844503 0.86447537\n",
      " 0.8873048  0.89527502 0.8973448  0.91153983 0.91305355 0.88966806\n",
      " 0.8456465  0.88114178 0.87378941 0.86348682 0.85815789 0.85020312\n",
      " 0.84733013 0.8446425  0.8542809  0.85184041 0.84910644 0.82451615\n",
      " 0.81314731 0.81186348 0.81434846 0.81639171 0.81698352 0.81658036\n",
      " 0.81586063 0.81527561 0.81499213 0.81498611 0.81515342 0.81538141\n",
      " 0.81558156 0.81569701 0.81569397 0.81555533 0.81527495 0.81485224\n",
      " 0.81429201 0.81360322 0.81279826 0.81189221]\n",
      "22 day output [[0.81090236]]\n",
      "23 day input [0.82941258 0.82363572 0.85085186 0.86801254 0.86751827 0.86260639\n",
      " 0.89095009 0.88559028 0.88200677 0.89403933 0.90889853 0.89810167\n",
      " 0.90713767 0.90349238 0.89414745 0.8742219  0.84790164 0.85655149\n",
      " 0.87635347 0.87530313 0.87171962 0.86229746 0.8796435  0.86815156\n",
      " 0.87939636 0.87714122 0.87244559 0.85670595 0.84711388 0.83608532\n",
      " 0.83121978 0.83569917 0.80066727 0.80738635 0.79746992 0.8120511\n",
      " 0.78084985 0.79008665 0.8154647  0.8317604  0.82885652 0.81598987\n",
      " 0.81565005 0.82924267 0.83542114 0.83140514 0.83393831 0.84750004\n",
      " 0.84839592 0.82477873 0.82901098 0.85355493 0.85755549 0.85091364\n",
      " 0.83353671 0.83413911 0.86248282 0.86844503 0.86447537 0.8873048\n",
      " 0.89527502 0.8973448  0.91153983 0.91305355 0.88966806 0.8456465\n",
      " 0.88114178 0.87378941 0.86348682 0.85815789 0.85020312 0.84733013\n",
      " 0.8446425  0.8542809  0.85184041 0.84910644 0.82451615 0.81314731\n",
      " 0.81186348 0.81434846 0.81639171 0.81698352 0.81658036 0.81586063\n",
      " 0.81527561 0.81499213 0.81498611 0.81515342 0.81538141 0.81558156\n",
      " 0.81569701 0.81569397 0.81555533 0.81527495 0.81485224 0.81429201\n",
      " 0.81360322 0.81279826 0.81189221 0.81090236]\n",
      "23 day output [[0.8098469]]\n",
      "24 day input [0.82363572 0.85085186 0.86801254 0.86751827 0.86260639 0.89095009\n",
      " 0.88559028 0.88200677 0.89403933 0.90889853 0.89810167 0.90713767\n",
      " 0.90349238 0.89414745 0.8742219  0.84790164 0.85655149 0.87635347\n",
      " 0.87530313 0.87171962 0.86229746 0.8796435  0.86815156 0.87939636\n",
      " 0.87714122 0.87244559 0.85670595 0.84711388 0.83608532 0.83121978\n",
      " 0.83569917 0.80066727 0.80738635 0.79746992 0.8120511  0.78084985\n",
      " 0.79008665 0.8154647  0.8317604  0.82885652 0.81598987 0.81565005\n",
      " 0.82924267 0.83542114 0.83140514 0.83393831 0.84750004 0.84839592\n",
      " 0.82477873 0.82901098 0.85355493 0.85755549 0.85091364 0.83353671\n",
      " 0.83413911 0.86248282 0.86844503 0.86447537 0.8873048  0.89527502\n",
      " 0.8973448  0.91153983 0.91305355 0.88966806 0.8456465  0.88114178\n",
      " 0.87378941 0.86348682 0.85815789 0.85020312 0.84733013 0.8446425\n",
      " 0.8542809  0.85184041 0.84910644 0.82451615 0.81314731 0.81186348\n",
      " 0.81434846 0.81639171 0.81698352 0.81658036 0.81586063 0.81527561\n",
      " 0.81499213 0.81498611 0.81515342 0.81538141 0.81558156 0.81569701\n",
      " 0.81569397 0.81555533 0.81527495 0.81485224 0.81429201 0.81360322\n",
      " 0.81279826 0.81189221 0.81090236 0.80984688]\n",
      "24 day output [[0.8087451]]\n",
      "25 day input [0.85085186 0.86801254 0.86751827 0.86260639 0.89095009 0.88559028\n",
      " 0.88200677 0.89403933 0.90889853 0.89810167 0.90713767 0.90349238\n",
      " 0.89414745 0.8742219  0.84790164 0.85655149 0.87635347 0.87530313\n",
      " 0.87171962 0.86229746 0.8796435  0.86815156 0.87939636 0.87714122\n",
      " 0.87244559 0.85670595 0.84711388 0.83608532 0.83121978 0.83569917\n",
      " 0.80066727 0.80738635 0.79746992 0.8120511  0.78084985 0.79008665\n",
      " 0.8154647  0.8317604  0.82885652 0.81598987 0.81565005 0.82924267\n",
      " 0.83542114 0.83140514 0.83393831 0.84750004 0.84839592 0.82477873\n",
      " 0.82901098 0.85355493 0.85755549 0.85091364 0.83353671 0.83413911\n",
      " 0.86248282 0.86844503 0.86447537 0.8873048  0.89527502 0.8973448\n",
      " 0.91153983 0.91305355 0.88966806 0.8456465  0.88114178 0.87378941\n",
      " 0.86348682 0.85815789 0.85020312 0.84733013 0.8446425  0.8542809\n",
      " 0.85184041 0.84910644 0.82451615 0.81314731 0.81186348 0.81434846\n",
      " 0.81639171 0.81698352 0.81658036 0.81586063 0.81527561 0.81499213\n",
      " 0.81498611 0.81515342 0.81538141 0.81558156 0.81569701 0.81569397\n",
      " 0.81555533 0.81527495 0.81485224 0.81429201 0.81360322 0.81279826\n",
      " 0.81189221 0.81090236 0.80984688 0.80874509]\n",
      "25 day output [[0.8076155]]\n",
      "26 day input [0.86801254 0.86751827 0.86260639 0.89095009 0.88559028 0.88200677\n",
      " 0.89403933 0.90889853 0.89810167 0.90713767 0.90349238 0.89414745\n",
      " 0.8742219  0.84790164 0.85655149 0.87635347 0.87530313 0.87171962\n",
      " 0.86229746 0.8796435  0.86815156 0.87939636 0.87714122 0.87244559\n",
      " 0.85670595 0.84711388 0.83608532 0.83121978 0.83569917 0.80066727\n",
      " 0.80738635 0.79746992 0.8120511  0.78084985 0.79008665 0.8154647\n",
      " 0.8317604  0.82885652 0.81598987 0.81565005 0.82924267 0.83542114\n",
      " 0.83140514 0.83393831 0.84750004 0.84839592 0.82477873 0.82901098\n",
      " 0.85355493 0.85755549 0.85091364 0.83353671 0.83413911 0.86248282\n",
      " 0.86844503 0.86447537 0.8873048  0.89527502 0.8973448  0.91153983\n",
      " 0.91305355 0.88966806 0.8456465  0.88114178 0.87378941 0.86348682\n",
      " 0.85815789 0.85020312 0.84733013 0.8446425  0.8542809  0.85184041\n",
      " 0.84910644 0.82451615 0.81314731 0.81186348 0.81434846 0.81639171\n",
      " 0.81698352 0.81658036 0.81586063 0.81527561 0.81499213 0.81498611\n",
      " 0.81515342 0.81538141 0.81558156 0.81569701 0.81569397 0.81555533\n",
      " 0.81527495 0.81485224 0.81429201 0.81360322 0.81279826 0.81189221\n",
      " 0.81090236 0.80984688 0.80874509 0.80761552]\n",
      "26 day output [[0.8064754]]\n",
      "27 day input [0.86751827 0.86260639 0.89095009 0.88559028 0.88200677 0.89403933\n",
      " 0.90889853 0.89810167 0.90713767 0.90349238 0.89414745 0.8742219\n",
      " 0.84790164 0.85655149 0.87635347 0.87530313 0.87171962 0.86229746\n",
      " 0.8796435  0.86815156 0.87939636 0.87714122 0.87244559 0.85670595\n",
      " 0.84711388 0.83608532 0.83121978 0.83569917 0.80066727 0.80738635\n",
      " 0.79746992 0.8120511  0.78084985 0.79008665 0.8154647  0.8317604\n",
      " 0.82885652 0.81598987 0.81565005 0.82924267 0.83542114 0.83140514\n",
      " 0.83393831 0.84750004 0.84839592 0.82477873 0.82901098 0.85355493\n",
      " 0.85755549 0.85091364 0.83353671 0.83413911 0.86248282 0.86844503\n",
      " 0.86447537 0.8873048  0.89527502 0.8973448  0.91153983 0.91305355\n",
      " 0.88966806 0.8456465  0.88114178 0.87378941 0.86348682 0.85815789\n",
      " 0.85020312 0.84733013 0.8446425  0.8542809  0.85184041 0.84910644\n",
      " 0.82451615 0.81314731 0.81186348 0.81434846 0.81639171 0.81698352\n",
      " 0.81658036 0.81586063 0.81527561 0.81499213 0.81498611 0.81515342\n",
      " 0.81538141 0.81558156 0.81569701 0.81569397 0.81555533 0.81527495\n",
      " 0.81485224 0.81429201 0.81360322 0.81279826 0.81189221 0.81090236\n",
      " 0.80984688 0.80874509 0.80761552 0.8064754 ]\n",
      "27 day output [[0.8053411]]\n",
      "28 day input [0.86260639 0.89095009 0.88559028 0.88200677 0.89403933 0.90889853\n",
      " 0.89810167 0.90713767 0.90349238 0.89414745 0.8742219  0.84790164\n",
      " 0.85655149 0.87635347 0.87530313 0.87171962 0.86229746 0.8796435\n",
      " 0.86815156 0.87939636 0.87714122 0.87244559 0.85670595 0.84711388\n",
      " 0.83608532 0.83121978 0.83569917 0.80066727 0.80738635 0.79746992\n",
      " 0.8120511  0.78084985 0.79008665 0.8154647  0.8317604  0.82885652\n",
      " 0.81598987 0.81565005 0.82924267 0.83542114 0.83140514 0.83393831\n",
      " 0.84750004 0.84839592 0.82477873 0.82901098 0.85355493 0.85755549\n",
      " 0.85091364 0.83353671 0.83413911 0.86248282 0.86844503 0.86447537\n",
      " 0.8873048  0.89527502 0.8973448  0.91153983 0.91305355 0.88966806\n",
      " 0.8456465  0.88114178 0.87378941 0.86348682 0.85815789 0.85020312\n",
      " 0.84733013 0.8446425  0.8542809  0.85184041 0.84910644 0.82451615\n",
      " 0.81314731 0.81186348 0.81434846 0.81639171 0.81698352 0.81658036\n",
      " 0.81586063 0.81527561 0.81499213 0.81498611 0.81515342 0.81538141\n",
      " 0.81558156 0.81569701 0.81569397 0.81555533 0.81527495 0.81485224\n",
      " 0.81429201 0.81360322 0.81279826 0.81189221 0.81090236 0.80984688\n",
      " 0.80874509 0.80761552 0.8064754  0.80534112]\n"
     ]
    },
    {
     "name": "stdout",
     "output_type": "stream",
     "text": [
      "28 day output [[0.80422676]]\n",
      "29 day input [0.89095009 0.88559028 0.88200677 0.89403933 0.90889853 0.89810167\n",
      " 0.90713767 0.90349238 0.89414745 0.8742219  0.84790164 0.85655149\n",
      " 0.87635347 0.87530313 0.87171962 0.86229746 0.8796435  0.86815156\n",
      " 0.87939636 0.87714122 0.87244559 0.85670595 0.84711388 0.83608532\n",
      " 0.83121978 0.83569917 0.80066727 0.80738635 0.79746992 0.8120511\n",
      " 0.78084985 0.79008665 0.8154647  0.8317604  0.82885652 0.81598987\n",
      " 0.81565005 0.82924267 0.83542114 0.83140514 0.83393831 0.84750004\n",
      " 0.84839592 0.82477873 0.82901098 0.85355493 0.85755549 0.85091364\n",
      " 0.83353671 0.83413911 0.86248282 0.86844503 0.86447537 0.8873048\n",
      " 0.89527502 0.8973448  0.91153983 0.91305355 0.88966806 0.8456465\n",
      " 0.88114178 0.87378941 0.86348682 0.85815789 0.85020312 0.84733013\n",
      " 0.8446425  0.8542809  0.85184041 0.84910644 0.82451615 0.81314731\n",
      " 0.81186348 0.81434846 0.81639171 0.81698352 0.81658036 0.81586063\n",
      " 0.81527561 0.81499213 0.81498611 0.81515342 0.81538141 0.81558156\n",
      " 0.81569701 0.81569397 0.81555533 0.81527495 0.81485224 0.81429201\n",
      " 0.81360322 0.81279826 0.81189221 0.81090236 0.80984688 0.80874509\n",
      " 0.80761552 0.8064754  0.80534112 0.80422676]\n",
      "29 day output [[0.80314416]]\n",
      "[[0.8131473064422607], [0.8118634819984436], [0.8143484592437744], [0.8163917064666748], [0.8169835209846497], [0.8165803551673889], [0.8158606290817261], [0.8152756094932556], [0.8149921298027039], [0.8149861097335815], [0.8151534199714661], [0.8153814077377319], [0.8155815601348877], [0.8156970143318176], [0.8156939744949341], [0.8155553340911865], [0.8152749538421631], [0.814852237701416], [0.8142920136451721], [0.8136032223701477], [0.812798261642456], [0.8118922114372253], [0.8109023571014404], [0.8098468780517578], [0.8087450861930847], [0.8076155185699463], [0.8064754009246826], [0.8053411245346069], [0.8042267560958862], [0.8031441569328308]]\n"
     ]
    }
   ],
   "source": [
    "# demonstrate prediction for next 30 days\n",
    "lst_output = []\n",
    "n_steps = 100\n",
    "i = 0\n",
    "while(i < 30):\n",
    "    \n",
    "    if(len(temp_input) > 100):\n",
    "        # print(temp_input)\n",
    "        x_input = np.array(temp_input[1:])\n",
    "        print(\"{} day input {}\".format(i,x_input))\n",
    "        x_input = x_input.reshape(1,-1)\n",
    "        x_input = x_input.reshape((1, n_steps, 1))\n",
    "        # print(x_input)\n",
    "        yhat = model.predict(x_input, verbose = 0)\n",
    "        print(\"{} day output {}\".format(i, yhat))\n",
    "        temp_input.extend(yhat[0].tolist())\n",
    "        temp_input = temp_input[1:]\n",
    "        # print(temp_input)\n",
    "        lst_output.extend(yhat.tolist())\n",
    "        i = i+1\n",
    "    else:\n",
    "        x_input = x_input.reshape((1, n_steps,1))\n",
    "        yhat = model.predict(x_input, verbose = 0)\n",
    "        print(yhat[0])\n",
    "        temp_input.extend(yhat[0].tolist())\n",
    "        print(len(temp_input))\n",
    "        lst_output.extend(yhat.tolist())\n",
    "        i = i+1\n",
    "    \n",
    "print(lst_output)"
   ]
  },
  {
   "cell_type": "markdown",
   "metadata": {},
   "source": [
    "## Future Stock Price - Graph Plot"
   ]
  },
  {
   "cell_type": "code",
   "execution_count": 44,
   "metadata": {},
   "outputs": [],
   "source": [
    "# creating an instance of ndarray with evenly spaced values\n",
    "day_new = np.arange(1, 101)\n",
    "day_pred = np.arange(101, 131)"
   ]
  },
  {
   "cell_type": "code",
   "execution_count": 45,
   "metadata": {},
   "outputs": [
    {
     "name": "stdout",
     "output_type": "stream",
     "text": [
      "4139\n"
     ]
    }
   ],
   "source": [
    "# checking the length of our original dataframe\n",
    "print(len(df_close))"
   ]
  },
  {
   "cell_type": "code",
   "execution_count": 46,
   "metadata": {},
   "outputs": [
    {
     "data": {
      "text/plain": [
       "[<matplotlib.lines.Line2D at 0x289dfe6d30>]"
      ]
     },
     "execution_count": 46,
     "metadata": {},
     "output_type": "execute_result"
    },
    {
     "data": {
      "image/png": "[encoded data removed]",
      "text/plain": [
       "<Figure size 432x288 with 1 Axes>"
      ]
     },
     "metadata": {
      "needs_background": "light"
     },
     "output_type": "display_data"
    }
   ],
   "source": [
    "# plotting the future stock prices on a 2-D graph\n",
    "plt.plot(day_new, scaler.inverse_transform(df_close[4039:]))\n",
    "plt.plot(day_pred, scaler.inverse_transform(lst_output))"
   ]
  },
  {
   "cell_type": "code",
   "execution_count": 49,
   "metadata": {},
   "outputs": [
    {
     "data": {
      "text/plain": [
       "[<matplotlib.lines.Line2D at 0x289ddbd0d0>]"
      ]
     },
     "execution_count": 49,
     "metadata": {},
     "output_type": "execute_result"
    },
    {
     "data": {
      "image/png": "[encoded data removed]",
      "text/plain": [
       "<Figure size 432x288 with 1 Axes>"
      ]
     },
     "metadata": {
      "needs_background": "light"
     },
     "output_type": "display_data"
    }
   ],
   "source": [
    "# plotting the complete stock price output\n",
    "dataset_close = df_close.tolist()\n",
    "dataset_close.extend(lst_output)\n",
    "plt.plot(dataset_close[4059:])"
   ]
  },
  {
   "cell_type": "code",
   "execution_count": 51,
   "metadata": {},
   "outputs": [
    {
     "data": {
      "text/plain": [
       "[<matplotlib.lines.Line2D at 0x289e055190>]"
      ]
     },
     "execution_count": 51,
     "metadata": {},
     "output_type": "execute_result"
    },
    {
     "data": {
      "image/png": "[encoded data removed]",
      "text/plain": [
       "<Figure size 432x288 with 1 Axes>"
      ]
     },
     "metadata": {
      "needs_background": "light"
     },
     "output_type": "display_data"
    }
   ],
   "source": [
    "# plotting the complete stock price output\n",
    "dataset_close = scaler.inverse_transform(dataset_close).tolist()\n",
    "plt.plot(dataset_close)"
   ]
  },
  {
   "cell_type": "markdown",
   "metadata": {},
   "source": [
    "## Evaluation Metrics"
   ]
  },
  {
   "cell_type": "code",
   "execution_count": 54,
   "metadata": {},
   "outputs": [
    {
     "name": "stdout",
     "output_type": "stream",
     "text": [
      "Accuracy Score of Train Data: 0.9886779886779887\n",
      "Precision Score of Train Data: 0.782051282051282\n",
      "Recall Score of Train Data: 0.782051282051282\n"
     ]
    }
   ],
   "source": [
    "# calculating performance metrics\n",
    "from sklearn.metrics import accuracy_score\n",
    "from sklearn.metrics import precision_score\n",
    "from sklearn.metrics import recall_score\n",
    "# decide on a cutoff limit\n",
    "cutoff = 0.7  \n",
    "# initialise a matrix full with zeroes\n",
    "train_predict_classes = np.zeros_like(train_predict) \n",
    "# add a 1 if the cutoff was breached\n",
    "train_predict_classes[train_predict > cutoff] = 1 \n",
    "# for the actual values\n",
    "y_train_classes = np.zeros_like(y_train)\n",
    "y_train_classes[y_train > cutoff] = 1\n",
    "# train data\n",
    "print(\"Accuracy Score of Train Data:\", accuracy_score(y_train_classes, train_predict_classes))\n",
    "print(\"Precision Score of Train Data:\", precision_score(y_train_classes, train_predict_classes))\n",
    "print(\"Recall Score of Train Data:\", recall_score(y_train_classes, train_predict_classes))"
   ]
  },
  {
   "cell_type": "code",
   "execution_count": 55,
   "metadata": {},
   "outputs": [
    {
     "name": "stdout",
     "output_type": "stream",
     "text": [
      "Accuracy Score of Test Data: 0.9796573875802997\n",
      "Precision Score of Test Data: 0.9586466165413534\n",
      "Recall Score of Test Data: 0.9695817490494296\n"
     ]
    }
   ],
   "source": [
    "# initialise a matrix full with zeroes\n",
    "test_predict_classes = np.zeros_like(test_predict) \n",
    "# add a 1 if the cutoff was breached\n",
    "test_predict_classes[test_predict > cutoff] = 1 \n",
    "# for the actual values\n",
    "y_test_classes = np.zeros_like(y_test)\n",
    "y_test_classes[y_test > cutoff] = 1\n",
    "# test data\n",
    "print(\"Accuracy Score of Test Data:\", accuracy_score(y_test_classes, test_predict_classes))\n",
    "print(\"Precision Score of Test Data:\", precision_score(y_test_classes, test_predict_classes))\n",
    "print(\"Recall Score of Test Data:\", recall_score(y_test_classes, test_predict_classes))"
   ]
  },
  {
   "cell_type": "markdown",
   "metadata": {},
   "source": [
    "---------------------------------------------------------------------------------------"
   ]
  },
  {
   "cell_type": "markdown",
   "metadata": {},
   "source": [
    "## STOCK PRICE PREDICTION - INFOSYS"
   ]
  },
  {
   "cell_type": "code",
   "execution_count": 58,
   "metadata": {},
   "outputs": [],
   "source": [
    "# Stock Dataset of Infosys traded at National Stock Exchange - NSE, Mumbai\n",
    "df = pd.read_csv('C:/Users/Dilip jain/Downloads/INFY.csv') "
   ]
  },
  {
   "cell_type": "code",
   "execution_count": 59,
   "metadata": {},
   "outputs": [
    {
     "data": {
      "text/html": [
       "<div>\n",
       "<style scoped>\n",
       "    .dataframe tbody tr th:only-of-type {\n",
       "        vertical-align: middle;\n",
       "    }\n",
       "\n",
       "    .dataframe tbody tr th {\n",
       "        vertical-align: top;\n",
       "    }\n",
       "\n",
       "    .dataframe thead th {\n",
       "        text-align: right;\n",
       "    }\n",
       "</style>\n",
       "<table border=\"1\" class=\"dataframe\">\n",
       "  <thead>\n",
       "    <tr style=\"text-align: right;\">\n",
       "      <th></th>\n",
       "      <th>Date</th>\n",
       "      <th>Symbol</th>\n",
       "      <th>Series</th>\n",
       "      <th>Prev Close</th>\n",
       "      <th>Open</th>\n",
       "      <th>High</th>\n",
       "      <th>Low</th>\n",
       "      <th>Last</th>\n",
       "      <th>Close</th>\n",
       "      <th>VWAP</th>\n",
       "      <th>Volume</th>\n",
       "      <th>Turnover</th>\n",
       "      <th>Trades</th>\n",
       "      <th>Deliverable Volume</th>\n",
       "      <th>%Deliverble</th>\n",
       "    </tr>\n",
       "  </thead>\n",
       "  <tbody>\n",
       "    <tr>\n",
       "      <th>0</th>\n",
       "      <td>2000-01-03</td>\n",
       "      <td>INFOSYSTCH</td>\n",
       "      <td>EQ</td>\n",
       "      <td>14467.75</td>\n",
       "      <td>15625.00</td>\n",
       "      <td>15625.20</td>\n",
       "      <td>15625.00</td>\n",
       "      <td>15625.20</td>\n",
       "      <td>15625.20</td>\n",
       "      <td>15625.18</td>\n",
       "      <td>5137</td>\n",
       "      <td>8.026657e+12</td>\n",
       "      <td>NaN</td>\n",
       "      <td>NaN</td>\n",
       "      <td>NaN</td>\n",
       "    </tr>\n",
       "    <tr>\n",
       "      <th>1</th>\n",
       "      <td>2000-01-04</td>\n",
       "      <td>INFOSYSTCH</td>\n",
       "      <td>EQ</td>\n",
       "      <td>15625.20</td>\n",
       "      <td>16800.00</td>\n",
       "      <td>16875.25</td>\n",
       "      <td>16253.00</td>\n",
       "      <td>16875.25</td>\n",
       "      <td>16855.90</td>\n",
       "      <td>16646.38</td>\n",
       "      <td>56186</td>\n",
       "      <td>9.352937e+13</td>\n",
       "      <td>NaN</td>\n",
       "      <td>NaN</td>\n",
       "      <td>NaN</td>\n",
       "    </tr>\n",
       "    <tr>\n",
       "      <th>2</th>\n",
       "      <td>2000-01-05</td>\n",
       "      <td>INFOSYSTCH</td>\n",
       "      <td>EQ</td>\n",
       "      <td>16855.90</td>\n",
       "      <td>15701.00</td>\n",
       "      <td>16250.00</td>\n",
       "      <td>15507.45</td>\n",
       "      <td>15507.45</td>\n",
       "      <td>15507.45</td>\n",
       "      <td>15786.38</td>\n",
       "      <td>164605</td>\n",
       "      <td>2.598516e+14</td>\n",
       "      <td>NaN</td>\n",
       "      <td>NaN</td>\n",
       "      <td>NaN</td>\n",
       "    </tr>\n",
       "    <tr>\n",
       "      <th>3</th>\n",
       "      <td>2000-01-06</td>\n",
       "      <td>INFOSYSTCH</td>\n",
       "      <td>EQ</td>\n",
       "      <td>15507.45</td>\n",
       "      <td>15256.65</td>\n",
       "      <td>15300.00</td>\n",
       "      <td>14266.85</td>\n",
       "      <td>14266.85</td>\n",
       "      <td>14266.85</td>\n",
       "      <td>14462.82</td>\n",
       "      <td>81997</td>\n",
       "      <td>1.185908e+14</td>\n",
       "      <td>NaN</td>\n",
       "      <td>NaN</td>\n",
       "      <td>NaN</td>\n",
       "    </tr>\n",
       "    <tr>\n",
       "      <th>4</th>\n",
       "      <td>2000-01-07</td>\n",
       "      <td>INFOSYSTCH</td>\n",
       "      <td>EQ</td>\n",
       "      <td>14266.85</td>\n",
       "      <td>13125.50</td>\n",
       "      <td>13125.50</td>\n",
       "      <td>13125.50</td>\n",
       "      <td>13125.50</td>\n",
       "      <td>13125.50</td>\n",
       "      <td>13125.50</td>\n",
       "      <td>7589</td>\n",
       "      <td>9.960942e+12</td>\n",
       "      <td>NaN</td>\n",
       "      <td>NaN</td>\n",
       "      <td>NaN</td>\n",
       "    </tr>\n",
       "  </tbody>\n",
       "</table>\n",
       "</div>"
      ],
      "text/plain": [
       "         Date      Symbol Series  Prev Close      Open      High       Low  \\\n",
       "0  2000-01-03  INFOSYSTCH     EQ    14467.75  15625.00  15625.20  15625.00   \n",
       "1  2000-01-04  INFOSYSTCH     EQ    15625.20  16800.00  16875.25  16253.00   \n",
       "2  2000-01-05  INFOSYSTCH     EQ    16855.90  15701.00  16250.00  15507.45   \n",
       "3  2000-01-06  INFOSYSTCH     EQ    15507.45  15256.65  15300.00  14266.85   \n",
       "4  2000-01-07  INFOSYSTCH     EQ    14266.85  13125.50  13125.50  13125.50   \n",
       "\n",
       "       Last     Close      VWAP  Volume      Turnover  Trades  \\\n",
       "0  15625.20  15625.20  15625.18    5137  8.026657e+12     NaN   \n",
       "1  16875.25  16855.90  16646.38   56186  9.352937e+13     NaN   \n",
       "2  15507.45  15507.45  15786.38  164605  2.598516e+14     NaN   \n",
       "3  14266.85  14266.85  14462.82   81997  1.185908e+14     NaN   \n",
       "4  13125.50  13125.50  13125.50    7589  9.960942e+12     NaN   \n",
       "\n",
       "   Deliverable Volume  %Deliverble  \n",
       "0                 NaN          NaN  \n",
       "1                 NaN          NaN  \n",
       "2                 NaN          NaN  \n",
       "3                 NaN          NaN  \n",
       "4                 NaN          NaN  "
      ]
     },
     "execution_count": 59,
     "metadata": {},
     "output_type": "execute_result"
    }
   ],
   "source": [
    "# displaying the first few rows of the dataframe\n",
    "df.head()"
   ]
  },
  {
   "cell_type": "markdown",
   "metadata": {},
   "source": [
    "## Data Exploratory Analysis\n"
   ]
  },
  {
   "cell_type": "code",
   "execution_count": 60,
   "metadata": {},
   "outputs": [
    {
     "data": {
      "text/plain": [
       "Date                     0\n",
       "Symbol                   0\n",
       "Series                   0\n",
       "Prev Close               0\n",
       "Open                     0\n",
       "High                     0\n",
       "Low                      0\n",
       "Last                     0\n",
       "Close                    0\n",
       "VWAP                     0\n",
       "Volume                   0\n",
       "Turnover                 0\n",
       "Trades                2850\n",
       "Deliverable Volume     509\n",
       "%Deliverble            509\n",
       "dtype: int64"
      ]
     },
     "execution_count": 60,
     "metadata": {},
     "output_type": "execute_result"
    }
   ],
   "source": [
    "# displaying the number of missing values in each column of the dataframe\n",
    "df.isnull().sum()  "
   ]
  },
  {
   "cell_type": "code",
   "execution_count": 61,
   "metadata": {},
   "outputs": [
    {
     "data": {
      "text/html": [
       "<div>\n",
       "<style scoped>\n",
       "    .dataframe tbody tr th:only-of-type {\n",
       "        vertical-align: middle;\n",
       "    }\n",
       "\n",
       "    .dataframe tbody tr th {\n",
       "        vertical-align: top;\n",
       "    }\n",
       "\n",
       "    .dataframe thead th {\n",
       "        text-align: right;\n",
       "    }\n",
       "</style>\n",
       "<table border=\"1\" class=\"dataframe\">\n",
       "  <thead>\n",
       "    <tr style=\"text-align: right;\">\n",
       "      <th></th>\n",
       "      <th>Prev Close</th>\n",
       "      <th>Open</th>\n",
       "      <th>High</th>\n",
       "      <th>Low</th>\n",
       "      <th>Last</th>\n",
       "      <th>Close</th>\n",
       "      <th>VWAP</th>\n",
       "      <th>Volume</th>\n",
       "      <th>Turnover</th>\n",
       "      <th>Trades</th>\n",
       "      <th>Deliverable Volume</th>\n",
       "      <th>%Deliverble</th>\n",
       "    </tr>\n",
       "  </thead>\n",
       "  <tbody>\n",
       "    <tr>\n",
       "      <th>count</th>\n",
       "      <td>5306.000000</td>\n",
       "      <td>5306.000000</td>\n",
       "      <td>5306.000000</td>\n",
       "      <td>5306.000000</td>\n",
       "      <td>5306.000000</td>\n",
       "      <td>5306.000000</td>\n",
       "      <td>5306.000000</td>\n",
       "      <td>5.306000e+03</td>\n",
       "      <td>5.306000e+03</td>\n",
       "      <td>2.456000e+03</td>\n",
       "      <td>4.797000e+03</td>\n",
       "      <td>4797.000000</td>\n",
       "    </tr>\n",
       "    <tr>\n",
       "      <th>mean</th>\n",
       "      <td>2584.356643</td>\n",
       "      <td>2584.665266</td>\n",
       "      <td>2626.204297</td>\n",
       "      <td>2539.065002</td>\n",
       "      <td>2581.678345</td>\n",
       "      <td>2581.885215</td>\n",
       "      <td>2582.749548</td>\n",
       "      <td>2.622813e+06</td>\n",
       "      <td>3.855758e+14</td>\n",
       "      <td>1.118490e+05</td>\n",
       "      <td>1.574596e+06</td>\n",
       "      <td>0.536366</td>\n",
       "    </tr>\n",
       "    <tr>\n",
       "      <th>std</th>\n",
       "      <td>1796.807396</td>\n",
       "      <td>1796.731660</td>\n",
       "      <td>1842.170527</td>\n",
       "      <td>1743.052412</td>\n",
       "      <td>1789.259360</td>\n",
       "      <td>1789.462674</td>\n",
       "      <td>1792.981289</td>\n",
       "      <td>4.202984e+06</td>\n",
       "      <td>3.808224e+14</td>\n",
       "      <td>9.020307e+04</td>\n",
       "      <td>2.269940e+06</td>\n",
       "      <td>0.179496</td>\n",
       "    </tr>\n",
       "    <tr>\n",
       "      <th>min</th>\n",
       "      <td>526.450000</td>\n",
       "      <td>509.250000</td>\n",
       "      <td>558.000000</td>\n",
       "      <td>509.250000</td>\n",
       "      <td>529.150000</td>\n",
       "      <td>526.450000</td>\n",
       "      <td>531.330000</td>\n",
       "      <td>3.291000e+03</td>\n",
       "      <td>2.933192e+12</td>\n",
       "      <td>1.350000e+03</td>\n",
       "      <td>4.352000e+03</td>\n",
       "      <td>0.045800</td>\n",
       "    </tr>\n",
       "    <tr>\n",
       "      <th>25%</th>\n",
       "      <td>1216.062500</td>\n",
       "      <td>1213.675000</td>\n",
       "      <td>1233.675000</td>\n",
       "      <td>1197.925000</td>\n",
       "      <td>1215.750000</td>\n",
       "      <td>1216.062500</td>\n",
       "      <td>1214.647500</td>\n",
       "      <td>7.166842e+05</td>\n",
       "      <td>2.065910e+14</td>\n",
       "      <td>5.922600e+04</td>\n",
       "      <td>4.074360e+05</td>\n",
       "      <td>0.455700</td>\n",
       "    </tr>\n",
       "    <tr>\n",
       "      <th>50%</th>\n",
       "      <td>2265.675000</td>\n",
       "      <td>2265.000000</td>\n",
       "      <td>2294.300000</td>\n",
       "      <td>2232.475000</td>\n",
       "      <td>2263.275000</td>\n",
       "      <td>2265.575000</td>\n",
       "      <td>2262.210000</td>\n",
       "      <td>1.210798e+06</td>\n",
       "      <td>2.911119e+14</td>\n",
       "      <td>9.025650e+04</td>\n",
       "      <td>8.011600e+05</td>\n",
       "      <td>0.579900</td>\n",
       "    </tr>\n",
       "    <tr>\n",
       "      <th>75%</th>\n",
       "      <td>3170.562500</td>\n",
       "      <td>3174.762500</td>\n",
       "      <td>3210.037500</td>\n",
       "      <td>3124.575000</td>\n",
       "      <td>3170.750000</td>\n",
       "      <td>3169.350000</td>\n",
       "      <td>3168.457500</td>\n",
       "      <td>2.784006e+06</td>\n",
       "      <td>4.335687e+14</td>\n",
       "      <td>1.354770e+05</td>\n",
       "      <td>1.986846e+06</td>\n",
       "      <td>0.663700</td>\n",
       "    </tr>\n",
       "    <tr>\n",
       "      <th>max</th>\n",
       "      <td>16855.900000</td>\n",
       "      <td>16800.000000</td>\n",
       "      <td>16875.250000</td>\n",
       "      <td>16253.000000</td>\n",
       "      <td>16875.250000</td>\n",
       "      <td>16855.900000</td>\n",
       "      <td>16646.380000</td>\n",
       "      <td>9.043339e+07</td>\n",
       "      <td>8.323905e+15</td>\n",
       "      <td>1.643015e+06</td>\n",
       "      <td>5.775916e+07</td>\n",
       "      <td>0.996000</td>\n",
       "    </tr>\n",
       "  </tbody>\n",
       "</table>\n",
       "</div>"
      ],
      "text/plain": [
       "         Prev Close          Open          High           Low          Last  \\\n",
       "count   5306.000000   5306.000000   5306.000000   5306.000000   5306.000000   \n",
       "mean    2584.356643   2584.665266   2626.204297   2539.065002   2581.678345   \n",
       "std     1796.807396   1796.731660   1842.170527   1743.052412   1789.259360   \n",
       "min      526.450000    509.250000    558.000000    509.250000    529.150000   \n",
       "25%     1216.062500   1213.675000   1233.675000   1197.925000   1215.750000   \n",
       "50%     2265.675000   2265.000000   2294.300000   2232.475000   2263.275000   \n",
       "75%     3170.562500   3174.762500   3210.037500   3124.575000   3170.750000   \n",
       "max    16855.900000  16800.000000  16875.250000  16253.000000  16875.250000   \n",
       "\n",
       "              Close          VWAP        Volume      Turnover        Trades  \\\n",
       "count   5306.000000   5306.000000  5.306000e+03  5.306000e+03  2.456000e+03   \n",
       "mean    2581.885215   2582.749548  2.622813e+06  3.855758e+14  1.118490e+05   \n",
       "std     1789.462674   1792.981289  4.202984e+06  3.808224e+14  9.020307e+04   \n",
       "min      526.450000    531.330000  3.291000e+03  2.933192e+12  1.350000e+03   \n",
       "25%     1216.062500   1214.647500  7.166842e+05  2.065910e+14  5.922600e+04   \n",
       "50%     2265.575000   2262.210000  1.210798e+06  2.911119e+14  9.025650e+04   \n",
       "75%     3169.350000   3168.457500  2.784006e+06  4.335687e+14  1.354770e+05   \n",
       "max    16855.900000  16646.380000  9.043339e+07  8.323905e+15  1.643015e+06   \n",
       "\n",
       "       Deliverable Volume  %Deliverble  \n",
       "count        4.797000e+03  4797.000000  \n",
       "mean         1.574596e+06     0.536366  \n",
       "std          2.269940e+06     0.179496  \n",
       "min          4.352000e+03     0.045800  \n",
       "25%          4.074360e+05     0.455700  \n",
       "50%          8.011600e+05     0.579900  \n",
       "75%          1.986846e+06     0.663700  \n",
       "max          5.775916e+07     0.996000  "
      ]
     },
     "execution_count": 61,
     "metadata": {},
     "output_type": "execute_result"
    }
   ],
   "source": [
    "# viewing statistical data like percentile, mean, standard deviation, etc. \n",
    "df.describe()"
   ]
  },
  {
   "cell_type": "markdown",
   "metadata": {},
   "source": [
    "## Data Pre-Processing"
   ]
  },
  {
   "cell_type": "code",
   "execution_count": 62,
   "metadata": {},
   "outputs": [
    {
     "name": "stdout",
     "output_type": "stream",
     "text": [
      "0       15625.20\n",
      "1       16855.90\n",
      "2       15507.45\n",
      "3       14266.85\n",
      "4       13125.50\n",
      "          ...   \n",
      "5301     1343.55\n",
      "5302     1348.50\n",
      "5303     1356.00\n",
      "5304     1356.35\n",
      "5305     1354.35\n",
      "Name: Close, Length: 5306, dtype: float64\n"
     ]
    }
   ],
   "source": [
    "# updating the dataset by taking only the 'closing price of the day' Column \n",
    "df_close = df['Close']\n",
    "# displaying the dataset \n",
    "print(df_close)"
   ]
  },
  {
   "cell_type": "code",
   "execution_count": 63,
   "metadata": {},
   "outputs": [
    {
     "data": {
      "text/plain": [
       "(5306,)"
      ]
     },
     "execution_count": 63,
     "metadata": {},
     "output_type": "execute_result"
    }
   ],
   "source": [
    "# viewing the dimensionality of the dataframe \n",
    "df_close.shape"
   ]
  },
  {
   "cell_type": "code",
   "execution_count": 64,
   "metadata": {},
   "outputs": [
    {
     "data": {
      "text/plain": [
       "[<matplotlib.lines.Line2D at 0x28a10f27f0>]"
      ]
     },
     "execution_count": 64,
     "metadata": {},
     "output_type": "execute_result"
    },
    {
     "data": {
      "image/png": "[encoded data removed]",
      "text/plain": [
       "<Figure size 432x288 with 1 Axes>"
      ]
     },
     "metadata": {
      "needs_background": "light"
     },
     "output_type": "display_data"
    }
   ],
   "source": [
    "# to see the visualizations in the notebook itself\n",
    "%matplotlib inline\n",
    "# creating a 2-D plot graph of the closing TCS stock prices\n",
    "plt.plot(df_close)"
   ]
  },
  {
   "cell_type": "markdown",
   "metadata": {},
   "source": [
    "## Data Normalization"
   ]
  },
  {
   "cell_type": "code",
   "execution_count": 65,
   "metadata": {},
   "outputs": [],
   "source": [
    "# transforming the data values since the LSTM is sensitive to the scale of the data\n",
    "from sklearn.preprocessing import MinMaxScaler\n",
    "scaler = MinMaxScaler(feature_range = (0,1))\n",
    "df_close = scaler.fit_transform(np.array(df_close).reshape(-1,1))"
   ]
  },
  {
   "cell_type": "code",
   "execution_count": 66,
   "metadata": {},
   "outputs": [
    {
     "name": "stdout",
     "output_type": "stream",
     "text": [
      "[[0.9246331 ]\n",
      " [1.        ]\n",
      " [0.9174222 ]\n",
      " ...\n",
      " [0.05080085]\n",
      " [0.05082229]\n",
      " [0.05069981]]\n"
     ]
    }
   ],
   "source": [
    "# dataset has been converted to a numpy array with values between 0 and 1\n",
    "print(df_close)   # printing the dataset"
   ]
  },
  {
   "cell_type": "markdown",
   "metadata": {},
   "source": [
    "## Dataset Split\n"
   ]
  },
  {
   "cell_type": "code",
   "execution_count": 67,
   "metadata": {},
   "outputs": [],
   "source": [
    "# setting the training and test size\n",
    "train_size = int(len(df_close) * 0.75)\n",
    "test_size = len(df_close) - train_size\n",
    "# splitting the dataset into train data and test data\n",
    "train_data, test_data = df_close[:train_size, :], df_close[train_size:len(df_close), :]"
   ]
  },
  {
   "cell_type": "code",
   "execution_count": 68,
   "metadata": {},
   "outputs": [
    {
     "data": {
      "text/plain": [
       "(3979, 1327)"
      ]
     },
     "execution_count": 68,
     "metadata": {},
     "output_type": "execute_result"
    }
   ],
   "source": [
    "# displaying the lengths of training size and test size\n",
    "train_size, test_size"
   ]
  },
  {
   "cell_type": "code",
   "execution_count": 69,
   "metadata": {},
   "outputs": [
    {
     "name": "stdout",
     "output_type": "stream",
     "text": [
      "[[0.9246331 ]\n",
      " [1.        ]\n",
      " [0.9174222 ]\n",
      " ...\n",
      " [0.03374884]\n",
      " [0.03486951]\n",
      " [0.03555845]]\n"
     ]
    }
   ],
   "source": [
    "# displaying the training data\n",
    "print(train_data)"
   ]
  },
  {
   "cell_type": "code",
   "execution_count": 70,
   "metadata": {},
   "outputs": [
    {
     "name": "stdout",
     "output_type": "stream",
     "text": [
      "[[0.03409178]\n",
      " [0.03533493]\n",
      " [0.03412852]\n",
      " ...\n",
      " [0.05080085]\n",
      " [0.05082229]\n",
      " [0.05069981]]\n"
     ]
    }
   ],
   "source": [
    "# displaying the test data\n",
    "print(test_data)"
   ]
  },
  {
   "cell_type": "markdown",
   "metadata": {},
   "source": [
    "## Hyperparameter Tuning"
   ]
  },
  {
   "cell_type": "code",
   "execution_count": 71,
   "metadata": {},
   "outputs": [],
   "source": [
    "# convert an array of values into a dataset matrix\n",
    "def create_dataset(dataset, time_step = 1):\n",
    "    dataX, dataY = [], []\n",
    "    # creating 100 records in dataX, dataY\n",
    "    for i in range(len(dataset) - time_step - 1):\n",
    "        # iterations\n",
    "        a = dataset[i:(i + time_step), 0]  \n",
    "        dataX.append(a)\n",
    "        dataY.append(dataset[i + time_step, 0])\n",
    "    # return the values\n",
    "    return np.array(dataX), np.array(dataY)"
   ]
  },
  {
   "cell_type": "code",
   "execution_count": 72,
   "metadata": {},
   "outputs": [],
   "source": [
    "# learning of the model depends on the 'time_step' hyperparameter\n",
    "time_step = 100\n",
    "# creating feature and target variables\n",
    "X_train, y_train = create_dataset(train_data, time_step)\n",
    "X_test, y_test = create_dataset(test_data, time_step)"
   ]
  },
  {
   "cell_type": "code",
   "execution_count": 73,
   "metadata": {},
   "outputs": [
    {
     "name": "stdout",
     "output_type": "stream",
     "text": [
      "Shape of X_train: (3878, 100)\n",
      "Shape of y_train: (3878,)\n"
     ]
    }
   ],
   "source": [
    "# printing the dimensionalities of X_train and y_train\n",
    "print(\"Shape of X_train:\", X_train.shape)\n",
    "print(\"Shape of y_train:\", y_train.shape)"
   ]
  },
  {
   "cell_type": "code",
   "execution_count": 74,
   "metadata": {},
   "outputs": [
    {
     "name": "stdout",
     "output_type": "stream",
     "text": [
      "Shape of X_test: (1226, 100)\n",
      "Shape of y_test: (1226,)\n"
     ]
    }
   ],
   "source": [
    "# printing the dimensionalities of X_test and y_test\n",
    "print(\"Shape of X_test:\", X_test.shape)\n",
    "print(\"Shape of y_test:\", y_test.shape)"
   ]
  },
  {
   "cell_type": "code",
   "execution_count": 75,
   "metadata": {},
   "outputs": [],
   "source": [
    "# reshape input in 3-D as [samples, time steps, features] which is required for LSTM\n",
    "X_train = X_train.reshape(X_train.shape[0], X_train.shape[1], 1)\n",
    "X_test = X_test.reshape(X_test.shape[0], X_test.shape[1], 1)"
   ]
  },
  {
   "cell_type": "markdown",
   "metadata": {},
   "source": [
    "## Stacked Long Short-Term Memory (LSTM) Model Creation\n"
   ]
  },
  {
   "cell_type": "code",
   "execution_count": 76,
   "metadata": {},
   "outputs": [],
   "source": [
    "# Stacked LSTM\n",
    "model = Sequential()\n",
    "# for plain stack of layers\n",
    "model.add(LSTM(50, return_sequences = True, input_shape = (100,1)))\n",
    "model.add(LSTM(50, return_sequences = True))\n",
    "model.add(LSTM(50))\n",
    "# final output\n",
    "model.add(Dense(1))\n",
    "model.compile(loss = 'mean_squared_error', optimizer = 'adam')"
   ]
  },
  {
   "cell_type": "code",
   "execution_count": 77,
   "metadata": {},
   "outputs": [
    {
     "name": "stdout",
     "output_type": "stream",
     "text": [
      "Model: \"sequential_1\"\n",
      "_________________________________________________________________\n",
      "Layer (type)                 Output Shape              Param #   \n",
      "=================================================================\n",
      "lstm_3 (LSTM)                (None, 100, 50)           10400     \n",
      "_________________________________________________________________\n",
      "lstm_4 (LSTM)                (None, 100, 50)           20200     \n",
      "_________________________________________________________________\n",
      "lstm_5 (LSTM)                (None, 50)                20200     \n",
      "_________________________________________________________________\n",
      "dense_1 (Dense)              (None, 1)                 51        \n",
      "=================================================================\n",
      "Total params: 50,851\n",
      "Trainable params: 50,851\n",
      "Non-trainable params: 0\n",
      "_________________________________________________________________\n"
     ]
    }
   ],
   "source": [
    "# brief representation\n",
    "model.summary()"
   ]
  },
  {
   "cell_type": "code",
   "execution_count": 78,
   "metadata": {},
   "outputs": [
    {
     "name": "stdout",
     "output_type": "stream",
     "text": [
      "Epoch 1/100\n",
      "61/61 [==============================] - 40s 248ms/step - loss: 0.0074 - val_loss: 7.5771e-05\n",
      "Epoch 2/100\n",
      "61/61 [==============================] - 12s 197ms/step - loss: 4.1513e-04 - val_loss: 1.3726e-04\n",
      "Epoch 3/100\n",
      "61/61 [==============================] - 12s 197ms/step - loss: 3.0466e-04 - val_loss: 2.1629e-05\n",
      "Epoch 4/100\n",
      "61/61 [==============================] - 12s 198ms/step - loss: 3.2681e-04 - val_loss: 7.8797e-05\n",
      "Epoch 5/100\n",
      "61/61 [==============================] - 11s 189ms/step - loss: 2.7049e-04 - val_loss: 1.7527e-05\n",
      "Epoch 6/100\n",
      "61/61 [==============================] - 12s 194ms/step - loss: 2.5977e-04 - val_loss: 2.0229e-05\n",
      "Epoch 7/100\n",
      "61/61 [==============================] - 12s 198ms/step - loss: 2.9928e-04 - val_loss: 7.4589e-05\n",
      "Epoch 8/100\n",
      "61/61 [==============================] - 12s 195ms/step - loss: 2.2395e-04 - val_loss: 9.9705e-06\n",
      "Epoch 9/100\n",
      "61/61 [==============================] - 11s 188ms/step - loss: 2.4081e-04 - val_loss: 2.3674e-05\n",
      "Epoch 10/100\n",
      "61/61 [==============================] - 12s 197ms/step - loss: 1.8015e-04 - val_loss: 1.9027e-05\n",
      "Epoch 11/100\n",
      "61/61 [==============================] - 13s 210ms/step - loss: 2.1990e-04 - val_loss: 8.6556e-06\n",
      "Epoch 12/100\n",
      "61/61 [==============================] - 12s 197ms/step - loss: 2.0370e-04 - val_loss: 1.0275e-05\n",
      "Epoch 13/100\n",
      "61/61 [==============================] - 12s 190ms/step - loss: 2.0827e-04 - val_loss: 1.5816e-05\n",
      "Epoch 14/100\n",
      "61/61 [==============================] - 12s 198ms/step - loss: 1.5310e-04 - val_loss: 8.8997e-06\n",
      "Epoch 15/100\n",
      "61/61 [==============================] - 12s 194ms/step - loss: 2.3145e-04 - val_loss: 7.5633e-06\n",
      "Epoch 16/100\n",
      "61/61 [==============================] - 12s 195ms/step - loss: 1.5485e-04 - val_loss: 5.5406e-05\n",
      "Epoch 17/100\n",
      "61/61 [==============================] - 11s 188ms/step - loss: 1.4037e-04 - val_loss: 7.2589e-06\n",
      "Epoch 18/100\n",
      "61/61 [==============================] - 12s 195ms/step - loss: 1.3741e-04 - val_loss: 9.6388e-06\n",
      "Epoch 19/100\n",
      "61/61 [==============================] - 12s 194ms/step - loss: 1.1940e-04 - val_loss: 1.9365e-05\n",
      "Epoch 20/100\n",
      "61/61 [==============================] - 12s 191ms/step - loss: 1.9161e-04 - val_loss: 1.6732e-05\n",
      "Epoch 21/100\n",
      "61/61 [==============================] - 11s 188ms/step - loss: 1.1785e-04 - val_loss: 6.0863e-06\n",
      "Epoch 22/100\n",
      "61/61 [==============================] - 12s 194ms/step - loss: 1.0551e-04 - val_loss: 8.0741e-06\n",
      "Epoch 23/100\n",
      "61/61 [==============================] - 12s 195ms/step - loss: 1.3657e-04 - val_loss: 7.2961e-06\n",
      "Epoch 24/100\n",
      "61/61 [==============================] - 12s 190ms/step - loss: 1.3169e-04 - val_loss: 5.6361e-06\n",
      "Epoch 25/100\n",
      "61/61 [==============================] - 12s 197ms/step - loss: 1.1198e-04 - val_loss: 5.0828e-06\n",
      "Epoch 26/100\n",
      "61/61 [==============================] - 12s 193ms/step - loss: 8.5486e-05 - val_loss: 1.8114e-05\n",
      "Epoch 27/100\n",
      "61/61 [==============================] - 12s 193ms/step - loss: 9.8877e-05 - val_loss: 4.7530e-06\n",
      "Epoch 28/100\n",
      "61/61 [==============================] - 12s 190ms/step - loss: 7.3001e-05 - val_loss: 8.7727e-06\n",
      "Epoch 29/100\n",
      "61/61 [==============================] - 12s 201ms/step - loss: 7.2846e-05 - val_loss: 4.4774e-06\n",
      "Epoch 30/100\n",
      "61/61 [==============================] - 12s 197ms/step - loss: 7.2901e-05 - val_loss: 1.4725e-05\n",
      "Epoch 31/100\n",
      "61/61 [==============================] - 12s 197ms/step - loss: 8.6385e-05 - val_loss: 4.2564e-06\n",
      "Epoch 32/100\n",
      "61/61 [==============================] - 12s 191ms/step - loss: 7.8838e-05 - val_loss: 4.5414e-06\n",
      "Epoch 33/100\n",
      "61/61 [==============================] - 12s 199ms/step - loss: 6.6528e-05 - val_loss: 4.2916e-06\n",
      "Epoch 34/100\n",
      "61/61 [==============================] - 12s 196ms/step - loss: 8.5949e-05 - val_loss: 1.8340e-05\n",
      "Epoch 35/100\n",
      "61/61 [==============================] - 12s 195ms/step - loss: 1.3311e-04 - val_loss: 9.6366e-06\n",
      "Epoch 36/100\n",
      "61/61 [==============================] - 12s 190ms/step - loss: 6.3867e-05 - val_loss: 8.7117e-06\n",
      "Epoch 37/100\n",
      "61/61 [==============================] - 12s 196ms/step - loss: 8.9868e-05 - val_loss: 4.8088e-06\n",
      "Epoch 38/100\n",
      "61/61 [==============================] - 12s 196ms/step - loss: 5.6436e-05 - val_loss: 3.1758e-05\n",
      "Epoch 39/100\n",
      "61/61 [==============================] - 12s 195ms/step - loss: 1.3738e-04 - val_loss: 4.2766e-06\n",
      "Epoch 40/100\n",
      "61/61 [==============================] - 12s 189ms/step - loss: 5.3180e-05 - val_loss: 9.4545e-06\n",
      "Epoch 41/100\n",
      "61/61 [==============================] - 12s 196ms/step - loss: 8.4135e-05 - val_loss: 3.9934e-06\n",
      "Epoch 42/100\n",
      "61/61 [==============================] - 12s 194ms/step - loss: 6.0207e-05 - val_loss: 1.2598e-05\n",
      "Epoch 43/100\n",
      "61/61 [==============================] - 12s 193ms/step - loss: 5.6489e-05 - val_loss: 1.6668e-05\n",
      "Epoch 44/100\n",
      "61/61 [==============================] - 12s 193ms/step - loss: 6.4877e-05 - val_loss: 3.7598e-06\n",
      "Epoch 45/100\n",
      "61/61 [==============================] - 12s 198ms/step - loss: 5.3219e-05 - val_loss: 3.8680e-06\n",
      "Epoch 46/100\n",
      "61/61 [==============================] - 12s 193ms/step - loss: 9.9893e-05 - val_loss: 5.3816e-06\n",
      "Epoch 47/100\n",
      "61/61 [==============================] - 11s 186ms/step - loss: 5.2062e-05 - val_loss: 4.8762e-06\n",
      "Epoch 48/100\n",
      "61/61 [==============================] - 12s 193ms/step - loss: 6.7242e-05 - val_loss: 4.6799e-06\n",
      "Epoch 49/100\n",
      "61/61 [==============================] - 12s 193ms/step - loss: 7.8193e-05 - val_loss: 4.2739e-06\n",
      "Epoch 50/100\n",
      "61/61 [==============================] - 12s 193ms/step - loss: 5.6423e-05 - val_loss: 8.4095e-06\n",
      "Epoch 51/100\n",
      "61/61 [==============================] - 11s 187ms/step - loss: 9.9252e-05 - val_loss: 3.2035e-06\n",
      "Epoch 52/100\n",
      "61/61 [==============================] - 12s 195ms/step - loss: 7.8665e-05 - val_loss: 1.3553e-05\n",
      "Epoch 53/100\n",
      "61/61 [==============================] - 12s 196ms/step - loss: 6.2650e-05 - val_loss: 3.1304e-06\n",
      "Epoch 54/100\n",
      "61/61 [==============================] - 12s 195ms/step - loss: 6.4152e-05 - val_loss: 7.9043e-06\n",
      "Epoch 55/100\n",
      "61/61 [==============================] - 12s 192ms/step - loss: 6.9733e-05 - val_loss: 4.2978e-06\n",
      "Epoch 56/100\n",
      "61/61 [==============================] - 12s 195ms/step - loss: 4.2571e-05 - val_loss: 2.3910e-05\n",
      "Epoch 57/100\n",
      "61/61 [==============================] - 12s 195ms/step - loss: 6.1120e-05 - val_loss: 3.3267e-06\n",
      "Epoch 58/100\n",
      "61/61 [==============================] - 12s 192ms/step - loss: 4.7921e-05 - val_loss: 4.2454e-06\n",
      "Epoch 59/100\n",
      "61/61 [==============================] - 12s 190ms/step - loss: 1.0981e-04 - val_loss: 5.2720e-06\n",
      "Epoch 60/100\n",
      "61/61 [==============================] - 12s 195ms/step - loss: 8.3789e-05 - val_loss: 5.7315e-06\n",
      "Epoch 61/100\n",
      "61/61 [==============================] - 12s 194ms/step - loss: 5.2813e-05 - val_loss: 5.9680e-06\n",
      "Epoch 62/100\n",
      "61/61 [==============================] - 12s 193ms/step - loss: 5.9906e-05 - val_loss: 6.2910e-06\n",
      "Epoch 63/100\n",
      "61/61 [==============================] - 13s 206ms/step - loss: 4.6845e-05 - val_loss: 6.2643e-06\n",
      "Epoch 64/100\n",
      "61/61 [==============================] - 12s 200ms/step - loss: 5.6698e-05 - val_loss: 7.8695e-06\n",
      "Epoch 65/100\n",
      "61/61 [==============================] - 12s 199ms/step - loss: 5.3865e-05 - val_loss: 4.2541e-06\n",
      "Epoch 66/100\n",
      "61/61 [==============================] - 12s 197ms/step - loss: 5.1327e-05 - val_loss: 3.0543e-06\n",
      "Epoch 67/100\n",
      "61/61 [==============================] - 12s 196ms/step - loss: 7.6680e-05 - val_loss: 8.2370e-06\n",
      "Epoch 68/100\n",
      "61/61 [==============================] - 12s 204ms/step - loss: 4.7949e-05 - val_loss: 8.0188e-06\n",
      "Epoch 69/100\n",
      "61/61 [==============================] - 12s 198ms/step - loss: 6.2955e-05 - val_loss: 3.1034e-06\n",
      "Epoch 70/100\n",
      "61/61 [==============================] - 12s 194ms/step - loss: 4.6742e-05 - val_loss: 2.0318e-05\n",
      "Epoch 71/100\n",
      "61/61 [==============================] - 12s 195ms/step - loss: 5.5334e-05 - val_loss: 2.2368e-05\n",
      "Epoch 72/100\n",
      "61/61 [==============================] - 13s 211ms/step - loss: 5.2302e-05 - val_loss: 2.0710e-05\n",
      "Epoch 73/100\n",
      "61/61 [==============================] - 13s 218ms/step - loss: 6.4345e-05 - val_loss: 9.5807e-06\n",
      "Epoch 74/100\n"
     ]
    },
    {
     "name": "stdout",
     "output_type": "stream",
     "text": [
      "61/61 [==============================] - 13s 206ms/step - loss: 5.5543e-05 - val_loss: 3.2636e-06\n",
      "Epoch 75/100\n",
      "61/61 [==============================] - 12s 203ms/step - loss: 7.4117e-05 - val_loss: 3.0256e-06\n",
      "Epoch 76/100\n",
      "61/61 [==============================] - 13s 210ms/step - loss: 4.0378e-05 - val_loss: 2.1883e-05TA: 6 - ETA: 2s - loss: 3.8597 - ETA: 2s - loss\n",
      "Epoch 77/100\n",
      "61/61 [==============================] - 13s 210ms/step - loss: 6.6415e-05 - val_loss: 8.0368e-06\n",
      "Epoch 78/100\n",
      "61/61 [==============================] - 13s 217ms/step - loss: 4.4047e-05 - val_loss: 1.4152e-05\n",
      "Epoch 79/100\n",
      "61/61 [==============================] - 13s 210ms/step - loss: 7.4295e-05 - val_loss: 5.3644e-06\n",
      "Epoch 80/100\n",
      "61/61 [==============================] - 12s 205ms/step - loss: 7.9412e-05 - val_loss: 3.1686e-06\n",
      "Epoch 81/100\n",
      "61/61 [==============================] - 12s 201ms/step - loss: 5.5437e-05 - val_loss: 2.9308e-06\n",
      "Epoch 82/100\n",
      "61/61 [==============================] - 14s 223ms/step - loss: 8.3502e-05 - val_loss: 6.1178e-06\n",
      "Epoch 83/100\n",
      "61/61 [==============================] - 13s 217ms/step - loss: 3.9697e-05 - val_loss: 7.9647e-06\n",
      "Epoch 84/100\n",
      "61/61 [==============================] - 12s 198ms/step - loss: 3.8956e-05 - val_loss: 2.9087e-06\n",
      "Epoch 85/100\n",
      "61/61 [==============================] - 13s 214ms/step - loss: 5.2321e-05 - val_loss: 2.8183e-06\n",
      "Epoch 86/100\n",
      "61/61 [==============================] - 16s 256ms/step - loss: 3.4975e-05 - val_loss: 6.1391e-06\n",
      "Epoch 87/100\n",
      "61/61 [==============================] - 15s 239ms/step - loss: 5.0989e-05 - val_loss: 1.2611e-05\n",
      "Epoch 88/100\n",
      "61/61 [==============================] - 14s 222ms/step - loss: 7.3342e-05 - val_loss: 3.1397e-06\n",
      "Epoch 89/100\n",
      "61/61 [==============================] - 13s 215ms/step - loss: 6.3349e-05 - val_loss: 1.1520e-05\n",
      "Epoch 90/100\n",
      "61/61 [==============================] - 13s 217ms/step - loss: 5.2651e-05 - val_loss: 1.1204e-05\n",
      "Epoch 91/100\n",
      "61/61 [==============================] - 12s 205ms/step - loss: 6.4575e-05 - val_loss: 2.8553e-06\n",
      "Epoch 92/100\n",
      "61/61 [==============================] - 12s 203ms/step - loss: 4.0865e-05 - val_loss: 5.0625e-06\n",
      "Epoch 93/100\n",
      "61/61 [==============================] - 12s 204ms/step - loss: 5.1155e-05 - val_loss: 3.6960e-06\n",
      "Epoch 94/100\n",
      "61/61 [==============================] - 13s 210ms/step - loss: 5.1611e-05 - val_loss: 4.4117e-06\n",
      "Epoch 95/100\n",
      "61/61 [==============================] - 13s 221ms/step - loss: 1.0477e-04 - val_loss: 2.0432e-05\n",
      "Epoch 96/100\n",
      "61/61 [==============================] - 13s 209ms/step - loss: 7.1651e-05 - val_loss: 6.0977e-06\n",
      "Epoch 97/100\n",
      "61/61 [==============================] - 13s 221ms/step - loss: 6.8625e-05 - val_loss: 6.6038e-06\n",
      "Epoch 98/100\n",
      "61/61 [==============================] - 15s 244ms/step - loss: 6.0522e-05 - val_loss: 2.8556e-06\n",
      "Epoch 99/100\n",
      "61/61 [==============================] - 14s 229ms/step - loss: 6.6864e-05 - val_loss: 3.5266e-06\n",
      "Epoch 100/100\n",
      "61/61 [==============================] - 13s 217ms/step - loss: 4.2888e-05 - val_loss: 3.1411e-06\n"
     ]
    },
    {
     "data": {
      "text/plain": [
       "<keras.callbacks.History at 0x289dc90430>"
      ]
     },
     "execution_count": 78,
     "metadata": {},
     "output_type": "execute_result"
    }
   ],
   "source": [
    "# training the model for a fixed number of epochs (iterations on a dataset)\n",
    "model.fit(X_train, y_train, validation_data = (X_test, y_test), epochs=100, batch_size = 64, verbose = 1)"
   ]
  },
  {
   "cell_type": "markdown",
   "metadata": {},
   "source": [
    "## Performance Check"
   ]
  },
  {
   "cell_type": "code",
   "execution_count": 79,
   "metadata": {},
   "outputs": [],
   "source": [
    "# doing prediction and checking performance metrics\n",
    "train_predict = model.predict(X_train)\n",
    "test_predict = model.predict(X_test)"
   ]
  },
  {
   "cell_type": "code",
   "execution_count": 80,
   "metadata": {},
   "outputs": [],
   "source": [
    "# transforming back to original form\n",
    "train_predict = scaler.inverse_transform(train_predict)\n",
    "test_predict = scaler.inverse_transform(test_predict)"
   ]
  },
  {
   "cell_type": "markdown",
   "metadata": {},
   "source": [
    "## Root Mean Squared Error\n"
   ]
  },
  {
   "cell_type": "markdown",
   "metadata": {},
   "source": [
    "## Prediction on Test Data"
   ]
  },
  {
   "cell_type": "code",
   "execution_count": 84,
   "metadata": {},
   "outputs": [
    {
     "data": {
      "image/png": "[encoded data removed]",
      "text/plain": [
       "<Figure size 432x288 with 1 Axes>"
      ]
     },
     "metadata": {
      "needs_background": "light"
     },
     "output_type": "display_data"
    }
   ],
   "source": [
    "# Plotting \n",
    "# shift train predictions for plotting\n",
    "look_back = 100\n",
    "trainPredictPlot = np.empty_like(df_close)\n",
    "trainPredictPlot[:, :] = np.nan\n",
    "trainPredictPlot[look_back:len(train_predict) + look_back, :] = train_predict\n",
    "# shift test predictions for plotting\n",
    "testPredictPlot = np.empty_like(df_close)\n",
    "testPredictPlot[:, :] = np.nan\n",
    "testPredictPlot[len(train_predict) + (look_back * 2) +1:len(df_close)-1, :] = test_predict\n",
    "# plot baseline and predictions\n",
    "plt.plot(scaler.inverse_transform(df_close))\n",
    "plt.plot(trainPredictPlot)\n",
    "plt.plot(testPredictPlot)\n",
    "# green colored line shows the prediction on test data\n",
    "plt.show()"
   ]
  },
  {
   "cell_type": "markdown",
   "metadata": {},
   "source": [
    "## Data Analysis for Future Forecasting"
   ]
  },
  {
   "cell_type": "code",
   "execution_count": 85,
   "metadata": {},
   "outputs": [
    {
     "data": {
      "text/plain": [
       "1327"
      ]
     },
     "execution_count": 85,
     "metadata": {},
     "output_type": "execute_result"
    }
   ],
   "source": [
    "# checking the length of the test data\n",
    "len(test_data)"
   ]
  },
  {
   "cell_type": "code",
   "execution_count": 86,
   "metadata": {},
   "outputs": [
    {
     "data": {
      "text/plain": [
       "(1, 100)"
      ]
     },
     "execution_count": 86,
     "metadata": {},
     "output_type": "execute_result"
    }
   ],
   "source": [
    "# reshaping the stock price records of previous 100 days\n",
    "x_input = test_data[1227:].reshape(1,-1)\n",
    "# displaying the dimensionality of x_input\n",
    "x_input.shape"
   ]
  },
  {
   "cell_type": "code",
   "execution_count": 87,
   "metadata": {},
   "outputs": [],
   "source": [
    "# converting x_input into a list\n",
    "temp_input = list(x_input)\n",
    "temp_input = temp_input[0].tolist()"
   ]
  },
  {
   "cell_type": "code",
   "execution_count": 88,
   "metadata": {},
   "outputs": [
    {
     "name": "stdout",
     "output_type": "stream",
     "text": [
      "[0.03674342981545611, 0.037245590022934025, 0.03778755561271199, 0.038390760252182396, 0.039728833487961926, 0.03927260256775335, 0.03899396489165281, 0.03907663760873757, 0.03846730906429793, 0.039147062515883874, 0.0387490086928831, 0.04062292361347136, 0.03985743549231602, 0.04250296243902886, 0.04449629350651736, 0.0434552296617461, 0.043715495622938916, 0.044327886119863186, 0.04411354944593969, 0.044664700893171524, 0.04494946247424132, 0.04665190805569078, 0.04699178478148375, 0.046275287900082354, 0.045053568858718446, 0.048112459390855164, 0.05203788247613973, 0.05176536870500843, 0.052708450070271806, 0.051688819892892895, 0.050124162173251385, 0.048109397438370546, 0.04839109706695571, 0.04978734739994305, 0.04980265716236615, 0.04987308206951244, 0.04890856703685671, 0.047432705939269224, 0.04591397750689705, 0.04363894681082338, 0.04497702004660291, 0.04561084421091953, 0.046431447476798046, 0.04610688051342818, 0.045662897403158084, 0.047588865515984916, 0.04771134361536977, 0.047157130215653306, 0.04692135987433747, 0.047971609576562574, 0.04796242371910872, 0.0467835720125295, 0.04622629666032842, 0.046909112064398975, 0.04683868715725269, 0.04524034796028034, 0.04531077286742663, 0.045797623312481425, 0.04581293307490453, 0.044511603268940464, 0.045350578249726714, 0.04764704261319272, 0.05003842750368198, 0.04923007204774195, 0.04839415901944033, 0.049560762916081066, 0.05016090560306684, 0.0515449081261157, 0.051955209759054946, 0.05187866094693941, 0.05251554706374066, 0.05269926421281794, 0.049643435633165825, 0.05009354264840518, 0.051707191607800615, 0.051753120895069935, 0.05066306581054475, 0.04944134676918083, 0.04958832048844265, 0.0525951578283408, 0.05153878422114644, 0.05258903392337157, 0.05410163845077452, 0.0541720633579208, 0.05534479115953078, 0.05593574798906269, 0.056009234848693606, 0.05507227738839948, 0.053320840567196076, 0.05109173915839173, 0.05066306581054475, 0.0512019694478381, 0.05051609209128291, 0.05050078232885981, 0.04944134676918083, 0.05003842750368198, 0.0503415607996595, 0.05080085367235271, 0.050822287339745045, 0.05069980924036019]\n"
     ]
    }
   ],
   "source": [
    "# viewing the temp_input \n",
    "print(temp_input)"
   ]
  },
  {
   "cell_type": "markdown",
   "metadata": {},
   "source": [
    "## Future Stock Price Forecasting\n"
   ]
  },
  {
   "cell_type": "code",
   "execution_count": 89,
   "metadata": {},
   "outputs": [
    {
     "name": "stdout",
     "output_type": "stream",
     "text": [
      "[0.04988291]\n",
      "101\n",
      "1 day input [0.03724559 0.03778756 0.03839076 0.03972883 0.0392726  0.03899396\n",
      " 0.03907664 0.03846731 0.03914706 0.03874901 0.04062292 0.03985744\n",
      " 0.04250296 0.04449629 0.04345523 0.0437155  0.04432789 0.04411355\n",
      " 0.0446647  0.04494946 0.04665191 0.04699178 0.04627529 0.04505357\n",
      " 0.04811246 0.05203788 0.05176537 0.05270845 0.05168882 0.05012416\n",
      " 0.0481094  0.0483911  0.04978735 0.04980266 0.04987308 0.04890857\n",
      " 0.04743271 0.04591398 0.04363895 0.04497702 0.04561084 0.04643145\n",
      " 0.04610688 0.0456629  0.04758887 0.04771134 0.04715713 0.04692136\n",
      " 0.04797161 0.04796242 0.04678357 0.0462263  0.04690911 0.04683869\n",
      " 0.04524035 0.04531077 0.04579762 0.04581293 0.0445116  0.04535058\n",
      " 0.04764704 0.05003843 0.04923007 0.04839416 0.04956076 0.05016091\n",
      " 0.05154491 0.05195521 0.05187866 0.05251555 0.05269926 0.04964344\n",
      " 0.05009354 0.05170719 0.05175312 0.05066307 0.04944135 0.04958832\n",
      " 0.05259516 0.05153878 0.05258903 0.05410164 0.05417206 0.05534479\n",
      " 0.05593575 0.05600923 0.05507228 0.05332084 0.05109174 0.05066307\n",
      " 0.05120197 0.05051609 0.05050078 0.04944135 0.05003843 0.05034156\n",
      " 0.05080085 0.05082229 0.05069981 0.04988291]\n",
      "1 day output [[0.04926668]]\n",
      "2 day input [0.03778756 0.03839076 0.03972883 0.0392726  0.03899396 0.03907664\n",
      " 0.03846731 0.03914706 0.03874901 0.04062292 0.03985744 0.04250296\n",
      " 0.04449629 0.04345523 0.0437155  0.04432789 0.04411355 0.0446647\n",
      " 0.04494946 0.04665191 0.04699178 0.04627529 0.04505357 0.04811246\n",
      " 0.05203788 0.05176537 0.05270845 0.05168882 0.05012416 0.0481094\n",
      " 0.0483911  0.04978735 0.04980266 0.04987308 0.04890857 0.04743271\n",
      " 0.04591398 0.04363895 0.04497702 0.04561084 0.04643145 0.04610688\n",
      " 0.0456629  0.04758887 0.04771134 0.04715713 0.04692136 0.04797161\n",
      " 0.04796242 0.04678357 0.0462263  0.04690911 0.04683869 0.04524035\n",
      " 0.04531077 0.04579762 0.04581293 0.0445116  0.04535058 0.04764704\n",
      " 0.05003843 0.04923007 0.04839416 0.04956076 0.05016091 0.05154491\n",
      " 0.05195521 0.05187866 0.05251555 0.05269926 0.04964344 0.05009354\n",
      " 0.05170719 0.05175312 0.05066307 0.04944135 0.04958832 0.05259516\n",
      " 0.05153878 0.05258903 0.05410164 0.05417206 0.05534479 0.05593575\n",
      " 0.05600923 0.05507228 0.05332084 0.05109174 0.05066307 0.05120197\n",
      " 0.05051609 0.05050078 0.04944135 0.05003843 0.05034156 0.05080085\n",
      " 0.05082229 0.05069981 0.04988291 0.04926668]\n",
      "2 day output [[0.04862675]]\n",
      "3 day input [0.03839076 0.03972883 0.0392726  0.03899396 0.03907664 0.03846731\n",
      " 0.03914706 0.03874901 0.04062292 0.03985744 0.04250296 0.04449629\n",
      " 0.04345523 0.0437155  0.04432789 0.04411355 0.0446647  0.04494946\n",
      " 0.04665191 0.04699178 0.04627529 0.04505357 0.04811246 0.05203788\n",
      " 0.05176537 0.05270845 0.05168882 0.05012416 0.0481094  0.0483911\n",
      " 0.04978735 0.04980266 0.04987308 0.04890857 0.04743271 0.04591398\n",
      " 0.04363895 0.04497702 0.04561084 0.04643145 0.04610688 0.0456629\n",
      " 0.04758887 0.04771134 0.04715713 0.04692136 0.04797161 0.04796242\n",
      " 0.04678357 0.0462263  0.04690911 0.04683869 0.04524035 0.04531077\n",
      " 0.04579762 0.04581293 0.0445116  0.04535058 0.04764704 0.05003843\n",
      " 0.04923007 0.04839416 0.04956076 0.05016091 0.05154491 0.05195521\n",
      " 0.05187866 0.05251555 0.05269926 0.04964344 0.05009354 0.05170719\n",
      " 0.05175312 0.05066307 0.04944135 0.04958832 0.05259516 0.05153878\n",
      " 0.05258903 0.05410164 0.05417206 0.05534479 0.05593575 0.05600923\n",
      " 0.05507228 0.05332084 0.05109174 0.05066307 0.05120197 0.05051609\n",
      " 0.05050078 0.04944135 0.05003843 0.05034156 0.05080085 0.05082229\n",
      " 0.05069981 0.04988291 0.04926668 0.04862675]\n",
      "3 day output [[0.0479823]]\n",
      "4 day input [0.03972883 0.0392726  0.03899396 0.03907664 0.03846731 0.03914706\n",
      " 0.03874901 0.04062292 0.03985744 0.04250296 0.04449629 0.04345523\n",
      " 0.0437155  0.04432789 0.04411355 0.0446647  0.04494946 0.04665191\n",
      " 0.04699178 0.04627529 0.04505357 0.04811246 0.05203788 0.05176537\n",
      " 0.05270845 0.05168882 0.05012416 0.0481094  0.0483911  0.04978735\n",
      " 0.04980266 0.04987308 0.04890857 0.04743271 0.04591398 0.04363895\n",
      " 0.04497702 0.04561084 0.04643145 0.04610688 0.0456629  0.04758887\n",
      " 0.04771134 0.04715713 0.04692136 0.04797161 0.04796242 0.04678357\n",
      " 0.0462263  0.04690911 0.04683869 0.04524035 0.04531077 0.04579762\n",
      " 0.04581293 0.0445116  0.04535058 0.04764704 0.05003843 0.04923007\n",
      " 0.04839416 0.04956076 0.05016091 0.05154491 0.05195521 0.05187866\n",
      " 0.05251555 0.05269926 0.04964344 0.05009354 0.05170719 0.05175312\n",
      " 0.05066307 0.04944135 0.04958832 0.05259516 0.05153878 0.05258903\n",
      " 0.05410164 0.05417206 0.05534479 0.05593575 0.05600923 0.05507228\n",
      " 0.05332084 0.05109174 0.05066307 0.05120197 0.05051609 0.05050078\n",
      " 0.04944135 0.05003843 0.05034156 0.05080085 0.05082229 0.05069981\n",
      " 0.04988291 0.04926668 0.04862675 0.0479823 ]\n",
      "4 day output [[0.04733186]]\n",
      "5 day input [0.0392726  0.03899396 0.03907664 0.03846731 0.03914706 0.03874901\n",
      " 0.04062292 0.03985744 0.04250296 0.04449629 0.04345523 0.0437155\n",
      " 0.04432789 0.04411355 0.0446647  0.04494946 0.04665191 0.04699178\n",
      " 0.04627529 0.04505357 0.04811246 0.05203788 0.05176537 0.05270845\n",
      " 0.05168882 0.05012416 0.0481094  0.0483911  0.04978735 0.04980266\n",
      " 0.04987308 0.04890857 0.04743271 0.04591398 0.04363895 0.04497702\n",
      " 0.04561084 0.04643145 0.04610688 0.0456629  0.04758887 0.04771134\n",
      " 0.04715713 0.04692136 0.04797161 0.04796242 0.04678357 0.0462263\n",
      " 0.04690911 0.04683869 0.04524035 0.04531077 0.04579762 0.04581293\n",
      " 0.0445116  0.04535058 0.04764704 0.05003843 0.04923007 0.04839416\n",
      " 0.04956076 0.05016091 0.05154491 0.05195521 0.05187866 0.05251555\n",
      " 0.05269926 0.04964344 0.05009354 0.05170719 0.05175312 0.05066307\n",
      " 0.04944135 0.04958832 0.05259516 0.05153878 0.05258903 0.05410164\n",
      " 0.05417206 0.05534479 0.05593575 0.05600923 0.05507228 0.05332084\n",
      " 0.05109174 0.05066307 0.05120197 0.05051609 0.05050078 0.04944135\n",
      " 0.05003843 0.05034156 0.05080085 0.05082229 0.05069981 0.04988291\n",
      " 0.04926668 0.04862675 0.0479823  0.04733186]\n",
      "5 day output [[0.04667693]]\n",
      "6 day input [0.03899396 0.03907664 0.03846731 0.03914706 0.03874901 0.04062292\n",
      " 0.03985744 0.04250296 0.04449629 0.04345523 0.0437155  0.04432789\n",
      " 0.04411355 0.0446647  0.04494946 0.04665191 0.04699178 0.04627529\n",
      " 0.04505357 0.04811246 0.05203788 0.05176537 0.05270845 0.05168882\n",
      " 0.05012416 0.0481094  0.0483911  0.04978735 0.04980266 0.04987308\n",
      " 0.04890857 0.04743271 0.04591398 0.04363895 0.04497702 0.04561084\n",
      " 0.04643145 0.04610688 0.0456629  0.04758887 0.04771134 0.04715713\n",
      " 0.04692136 0.04797161 0.04796242 0.04678357 0.0462263  0.04690911\n",
      " 0.04683869 0.04524035 0.04531077 0.04579762 0.04581293 0.0445116\n",
      " 0.04535058 0.04764704 0.05003843 0.04923007 0.04839416 0.04956076\n",
      " 0.05016091 0.05154491 0.05195521 0.05187866 0.05251555 0.05269926\n",
      " 0.04964344 0.05009354 0.05170719 0.05175312 0.05066307 0.04944135\n",
      " 0.04958832 0.05259516 0.05153878 0.05258903 0.05410164 0.05417206\n",
      " 0.05534479 0.05593575 0.05600923 0.05507228 0.05332084 0.05109174\n",
      " 0.05066307 0.05120197 0.05051609 0.05050078 0.04944135 0.05003843\n",
      " 0.05034156 0.05080085 0.05082229 0.05069981 0.04988291 0.04926668\n",
      " 0.04862675 0.0479823  0.04733186 0.04667693]\n",
      "6 day output [[0.04602031]]\n",
      "7 day input [0.03907664 0.03846731 0.03914706 0.03874901 0.04062292 0.03985744\n",
      " 0.04250296 0.04449629 0.04345523 0.0437155  0.04432789 0.04411355\n",
      " 0.0446647  0.04494946 0.04665191 0.04699178 0.04627529 0.04505357\n",
      " 0.04811246 0.05203788 0.05176537 0.05270845 0.05168882 0.05012416\n",
      " 0.0481094  0.0483911  0.04978735 0.04980266 0.04987308 0.04890857\n",
      " 0.04743271 0.04591398 0.04363895 0.04497702 0.04561084 0.04643145\n",
      " 0.04610688 0.0456629  0.04758887 0.04771134 0.04715713 0.04692136\n",
      " 0.04797161 0.04796242 0.04678357 0.0462263  0.04690911 0.04683869\n",
      " 0.04524035 0.04531077 0.04579762 0.04581293 0.0445116  0.04535058\n",
      " 0.04764704 0.05003843 0.04923007 0.04839416 0.04956076 0.05016091\n",
      " 0.05154491 0.05195521 0.05187866 0.05251555 0.05269926 0.04964344\n",
      " 0.05009354 0.05170719 0.05175312 0.05066307 0.04944135 0.04958832\n",
      " 0.05259516 0.05153878 0.05258903 0.05410164 0.05417206 0.05534479\n",
      " 0.05593575 0.05600923 0.05507228 0.05332084 0.05109174 0.05066307\n",
      " 0.05120197 0.05051609 0.05050078 0.04944135 0.05003843 0.05034156\n",
      " 0.05080085 0.05082229 0.05069981 0.04988291 0.04926668 0.04862675\n",
      " 0.0479823  0.04733186 0.04667693 0.04602031]\n",
      "7 day output [[0.04536468]]\n",
      "8 day input [0.03846731 0.03914706 0.03874901 0.04062292 0.03985744 0.04250296\n",
      " 0.04449629 0.04345523 0.0437155  0.04432789 0.04411355 0.0446647\n",
      " 0.04494946 0.04665191 0.04699178 0.04627529 0.04505357 0.04811246\n",
      " 0.05203788 0.05176537 0.05270845 0.05168882 0.05012416 0.0481094\n",
      " 0.0483911  0.04978735 0.04980266 0.04987308 0.04890857 0.04743271\n",
      " 0.04591398 0.04363895 0.04497702 0.04561084 0.04643145 0.04610688\n",
      " 0.0456629  0.04758887 0.04771134 0.04715713 0.04692136 0.04797161\n",
      " 0.04796242 0.04678357 0.0462263  0.04690911 0.04683869 0.04524035\n",
      " 0.04531077 0.04579762 0.04581293 0.0445116  0.04535058 0.04764704\n",
      " 0.05003843 0.04923007 0.04839416 0.04956076 0.05016091 0.05154491\n",
      " 0.05195521 0.05187866 0.05251555 0.05269926 0.04964344 0.05009354\n",
      " 0.05170719 0.05175312 0.05066307 0.04944135 0.04958832 0.05259516\n",
      " 0.05153878 0.05258903 0.05410164 0.05417206 0.05534479 0.05593575\n",
      " 0.05600923 0.05507228 0.05332084 0.05109174 0.05066307 0.05120197\n",
      " 0.05051609 0.05050078 0.04944135 0.05003843 0.05034156 0.05080085\n",
      " 0.05082229 0.05069981 0.04988291 0.04926668 0.04862675 0.0479823\n",
      " 0.04733186 0.04667693 0.04602031 0.04536468]\n",
      "8 day output [[0.04471189]]\n",
      "9 day input [0.03914706 0.03874901 0.04062292 0.03985744 0.04250296 0.04449629\n",
      " 0.04345523 0.0437155  0.04432789 0.04411355 0.0446647  0.04494946\n",
      " 0.04665191 0.04699178 0.04627529 0.04505357 0.04811246 0.05203788\n",
      " 0.05176537 0.05270845 0.05168882 0.05012416 0.0481094  0.0483911\n",
      " 0.04978735 0.04980266 0.04987308 0.04890857 0.04743271 0.04591398\n",
      " 0.04363895 0.04497702 0.04561084 0.04643145 0.04610688 0.0456629\n",
      " 0.04758887 0.04771134 0.04715713 0.04692136 0.04797161 0.04796242\n",
      " 0.04678357 0.0462263  0.04690911 0.04683869 0.04524035 0.04531077\n",
      " 0.04579762 0.04581293 0.0445116  0.04535058 0.04764704 0.05003843\n",
      " 0.04923007 0.04839416 0.04956076 0.05016091 0.05154491 0.05195521\n",
      " 0.05187866 0.05251555 0.05269926 0.04964344 0.05009354 0.05170719\n",
      " 0.05175312 0.05066307 0.04944135 0.04958832 0.05259516 0.05153878\n",
      " 0.05258903 0.05410164 0.05417206 0.05534479 0.05593575 0.05600923\n",
      " 0.05507228 0.05332084 0.05109174 0.05066307 0.05120197 0.05051609\n",
      " 0.05050078 0.04944135 0.05003843 0.05034156 0.05080085 0.05082229\n",
      " 0.05069981 0.04988291 0.04926668 0.04862675 0.0479823  0.04733186\n",
      " 0.04667693 0.04602031 0.04536468 0.04471189]\n"
     ]
    },
    {
     "name": "stdout",
     "output_type": "stream",
     "text": [
      "9 day output [[0.04406295]]\n",
      "10 day input [0.03874901 0.04062292 0.03985744 0.04250296 0.04449629 0.04345523\n",
      " 0.0437155  0.04432789 0.04411355 0.0446647  0.04494946 0.04665191\n",
      " 0.04699178 0.04627529 0.04505357 0.04811246 0.05203788 0.05176537\n",
      " 0.05270845 0.05168882 0.05012416 0.0481094  0.0483911  0.04978735\n",
      " 0.04980266 0.04987308 0.04890857 0.04743271 0.04591398 0.04363895\n",
      " 0.04497702 0.04561084 0.04643145 0.04610688 0.0456629  0.04758887\n",
      " 0.04771134 0.04715713 0.04692136 0.04797161 0.04796242 0.04678357\n",
      " 0.0462263  0.04690911 0.04683869 0.04524035 0.04531077 0.04579762\n",
      " 0.04581293 0.0445116  0.04535058 0.04764704 0.05003843 0.04923007\n",
      " 0.04839416 0.04956076 0.05016091 0.05154491 0.05195521 0.05187866\n",
      " 0.05251555 0.05269926 0.04964344 0.05009354 0.05170719 0.05175312\n",
      " 0.05066307 0.04944135 0.04958832 0.05259516 0.05153878 0.05258903\n",
      " 0.05410164 0.05417206 0.05534479 0.05593575 0.05600923 0.05507228\n",
      " 0.05332084 0.05109174 0.05066307 0.05120197 0.05051609 0.05050078\n",
      " 0.04944135 0.05003843 0.05034156 0.05080085 0.05082229 0.05069981\n",
      " 0.04988291 0.04926668 0.04862675 0.0479823  0.04733186 0.04667693\n",
      " 0.04602031 0.04536468 0.04471189 0.04406295]\n",
      "10 day output [[0.04341818]]\n",
      "11 day input [0.04062292 0.03985744 0.04250296 0.04449629 0.04345523 0.0437155\n",
      " 0.04432789 0.04411355 0.0446647  0.04494946 0.04665191 0.04699178\n",
      " 0.04627529 0.04505357 0.04811246 0.05203788 0.05176537 0.05270845\n",
      " 0.05168882 0.05012416 0.0481094  0.0483911  0.04978735 0.04980266\n",
      " 0.04987308 0.04890857 0.04743271 0.04591398 0.04363895 0.04497702\n",
      " 0.04561084 0.04643145 0.04610688 0.0456629  0.04758887 0.04771134\n",
      " 0.04715713 0.04692136 0.04797161 0.04796242 0.04678357 0.0462263\n",
      " 0.04690911 0.04683869 0.04524035 0.04531077 0.04579762 0.04581293\n",
      " 0.0445116  0.04535058 0.04764704 0.05003843 0.04923007 0.04839416\n",
      " 0.04956076 0.05016091 0.05154491 0.05195521 0.05187866 0.05251555\n",
      " 0.05269926 0.04964344 0.05009354 0.05170719 0.05175312 0.05066307\n",
      " 0.04944135 0.04958832 0.05259516 0.05153878 0.05258903 0.05410164\n",
      " 0.05417206 0.05534479 0.05593575 0.05600923 0.05507228 0.05332084\n",
      " 0.05109174 0.05066307 0.05120197 0.05051609 0.05050078 0.04944135\n",
      " 0.05003843 0.05034156 0.05080085 0.05082229 0.05069981 0.04988291\n",
      " 0.04926668 0.04862675 0.0479823  0.04733186 0.04667693 0.04602031\n",
      " 0.04536468 0.04471189 0.04406295 0.04341818]\n",
      "11 day output [[0.0427775]]\n",
      "12 day input [0.03985744 0.04250296 0.04449629 0.04345523 0.0437155  0.04432789\n",
      " 0.04411355 0.0446647  0.04494946 0.04665191 0.04699178 0.04627529\n",
      " 0.04505357 0.04811246 0.05203788 0.05176537 0.05270845 0.05168882\n",
      " 0.05012416 0.0481094  0.0483911  0.04978735 0.04980266 0.04987308\n",
      " 0.04890857 0.04743271 0.04591398 0.04363895 0.04497702 0.04561084\n",
      " 0.04643145 0.04610688 0.0456629  0.04758887 0.04771134 0.04715713\n",
      " 0.04692136 0.04797161 0.04796242 0.04678357 0.0462263  0.04690911\n",
      " 0.04683869 0.04524035 0.04531077 0.04579762 0.04581293 0.0445116\n",
      " 0.04535058 0.04764704 0.05003843 0.04923007 0.04839416 0.04956076\n",
      " 0.05016091 0.05154491 0.05195521 0.05187866 0.05251555 0.05269926\n",
      " 0.04964344 0.05009354 0.05170719 0.05175312 0.05066307 0.04944135\n",
      " 0.04958832 0.05259516 0.05153878 0.05258903 0.05410164 0.05417206\n",
      " 0.05534479 0.05593575 0.05600923 0.05507228 0.05332084 0.05109174\n",
      " 0.05066307 0.05120197 0.05051609 0.05050078 0.04944135 0.05003843\n",
      " 0.05034156 0.05080085 0.05082229 0.05069981 0.04988291 0.04926668\n",
      " 0.04862675 0.0479823  0.04733186 0.04667693 0.04602031 0.04536468\n",
      " 0.04471189 0.04406295 0.04341818 0.0427775 ]\n",
      "12 day output [[0.0421406]]\n",
      "13 day input [0.04250296 0.04449629 0.04345523 0.0437155  0.04432789 0.04411355\n",
      " 0.0446647  0.04494946 0.04665191 0.04699178 0.04627529 0.04505357\n",
      " 0.04811246 0.05203788 0.05176537 0.05270845 0.05168882 0.05012416\n",
      " 0.0481094  0.0483911  0.04978735 0.04980266 0.04987308 0.04890857\n",
      " 0.04743271 0.04591398 0.04363895 0.04497702 0.04561084 0.04643145\n",
      " 0.04610688 0.0456629  0.04758887 0.04771134 0.04715713 0.04692136\n",
      " 0.04797161 0.04796242 0.04678357 0.0462263  0.04690911 0.04683869\n",
      " 0.04524035 0.04531077 0.04579762 0.04581293 0.0445116  0.04535058\n",
      " 0.04764704 0.05003843 0.04923007 0.04839416 0.04956076 0.05016091\n",
      " 0.05154491 0.05195521 0.05187866 0.05251555 0.05269926 0.04964344\n",
      " 0.05009354 0.05170719 0.05175312 0.05066307 0.04944135 0.04958832\n",
      " 0.05259516 0.05153878 0.05258903 0.05410164 0.05417206 0.05534479\n",
      " 0.05593575 0.05600923 0.05507228 0.05332084 0.05109174 0.05066307\n",
      " 0.05120197 0.05051609 0.05050078 0.04944135 0.05003843 0.05034156\n",
      " 0.05080085 0.05082229 0.05069981 0.04988291 0.04926668 0.04862675\n",
      " 0.0479823  0.04733186 0.04667693 0.04602031 0.04536468 0.04471189\n",
      " 0.04406295 0.04341818 0.0427775  0.0421406 ]\n",
      "13 day output [[0.04150713]]\n",
      "14 day input [0.04449629 0.04345523 0.0437155  0.04432789 0.04411355 0.0446647\n",
      " 0.04494946 0.04665191 0.04699178 0.04627529 0.04505357 0.04811246\n",
      " 0.05203788 0.05176537 0.05270845 0.05168882 0.05012416 0.0481094\n",
      " 0.0483911  0.04978735 0.04980266 0.04987308 0.04890857 0.04743271\n",
      " 0.04591398 0.04363895 0.04497702 0.04561084 0.04643145 0.04610688\n",
      " 0.0456629  0.04758887 0.04771134 0.04715713 0.04692136 0.04797161\n",
      " 0.04796242 0.04678357 0.0462263  0.04690911 0.04683869 0.04524035\n",
      " 0.04531077 0.04579762 0.04581293 0.0445116  0.04535058 0.04764704\n",
      " 0.05003843 0.04923007 0.04839416 0.04956076 0.05016091 0.05154491\n",
      " 0.05195521 0.05187866 0.05251555 0.05269926 0.04964344 0.05009354\n",
      " 0.05170719 0.05175312 0.05066307 0.04944135 0.04958832 0.05259516\n",
      " 0.05153878 0.05258903 0.05410164 0.05417206 0.05534479 0.05593575\n",
      " 0.05600923 0.05507228 0.05332084 0.05109174 0.05066307 0.05120197\n",
      " 0.05051609 0.05050078 0.04944135 0.05003843 0.05034156 0.05080085\n",
      " 0.05082229 0.05069981 0.04988291 0.04926668 0.04862675 0.0479823\n",
      " 0.04733186 0.04667693 0.04602031 0.04536468 0.04471189 0.04406295\n",
      " 0.04341818 0.0427775  0.0421406  0.04150713]\n",
      "14 day output [[0.04087674]]\n",
      "15 day input [0.04345523 0.0437155  0.04432789 0.04411355 0.0446647  0.04494946\n",
      " 0.04665191 0.04699178 0.04627529 0.04505357 0.04811246 0.05203788\n",
      " 0.05176537 0.05270845 0.05168882 0.05012416 0.0481094  0.0483911\n",
      " 0.04978735 0.04980266 0.04987308 0.04890857 0.04743271 0.04591398\n",
      " 0.04363895 0.04497702 0.04561084 0.04643145 0.04610688 0.0456629\n",
      " 0.04758887 0.04771134 0.04715713 0.04692136 0.04797161 0.04796242\n",
      " 0.04678357 0.0462263  0.04690911 0.04683869 0.04524035 0.04531077\n",
      " 0.04579762 0.04581293 0.0445116  0.04535058 0.04764704 0.05003843\n",
      " 0.04923007 0.04839416 0.04956076 0.05016091 0.05154491 0.05195521\n",
      " 0.05187866 0.05251555 0.05269926 0.04964344 0.05009354 0.05170719\n",
      " 0.05175312 0.05066307 0.04944135 0.04958832 0.05259516 0.05153878\n",
      " 0.05258903 0.05410164 0.05417206 0.05534479 0.05593575 0.05600923\n",
      " 0.05507228 0.05332084 0.05109174 0.05066307 0.05120197 0.05051609\n",
      " 0.05050078 0.04944135 0.05003843 0.05034156 0.05080085 0.05082229\n",
      " 0.05069981 0.04988291 0.04926668 0.04862675 0.0479823  0.04733186\n",
      " 0.04667693 0.04602031 0.04536468 0.04471189 0.04406295 0.04341818\n",
      " 0.0427775  0.0421406  0.04150713 0.04087674]\n",
      "15 day output [[0.04024917]]\n",
      "16 day input [0.0437155  0.04432789 0.04411355 0.0446647  0.04494946 0.04665191\n",
      " 0.04699178 0.04627529 0.04505357 0.04811246 0.05203788 0.05176537\n",
      " 0.05270845 0.05168882 0.05012416 0.0481094  0.0483911  0.04978735\n",
      " 0.04980266 0.04987308 0.04890857 0.04743271 0.04591398 0.04363895\n",
      " 0.04497702 0.04561084 0.04643145 0.04610688 0.0456629  0.04758887\n",
      " 0.04771134 0.04715713 0.04692136 0.04797161 0.04796242 0.04678357\n",
      " 0.0462263  0.04690911 0.04683869 0.04524035 0.04531077 0.04579762\n",
      " 0.04581293 0.0445116  0.04535058 0.04764704 0.05003843 0.04923007\n",
      " 0.04839416 0.04956076 0.05016091 0.05154491 0.05195521 0.05187866\n",
      " 0.05251555 0.05269926 0.04964344 0.05009354 0.05170719 0.05175312\n",
      " 0.05066307 0.04944135 0.04958832 0.05259516 0.05153878 0.05258903\n",
      " 0.05410164 0.05417206 0.05534479 0.05593575 0.05600923 0.05507228\n",
      " 0.05332084 0.05109174 0.05066307 0.05120197 0.05051609 0.05050078\n",
      " 0.04944135 0.05003843 0.05034156 0.05080085 0.05082229 0.05069981\n",
      " 0.04988291 0.04926668 0.04862675 0.0479823  0.04733186 0.04667693\n",
      " 0.04602031 0.04536468 0.04471189 0.04406295 0.04341818 0.0427775\n",
      " 0.0421406  0.04150713 0.04087674 0.04024917]\n",
      "16 day output [[0.03962423]]\n",
      "17 day input [0.04432789 0.04411355 0.0446647  0.04494946 0.04665191 0.04699178\n",
      " 0.04627529 0.04505357 0.04811246 0.05203788 0.05176537 0.05270845\n",
      " 0.05168882 0.05012416 0.0481094  0.0483911  0.04978735 0.04980266\n",
      " 0.04987308 0.04890857 0.04743271 0.04591398 0.04363895 0.04497702\n",
      " 0.04561084 0.04643145 0.04610688 0.0456629  0.04758887 0.04771134\n",
      " 0.04715713 0.04692136 0.04797161 0.04796242 0.04678357 0.0462263\n",
      " 0.04690911 0.04683869 0.04524035 0.04531077 0.04579762 0.04581293\n",
      " 0.0445116  0.04535058 0.04764704 0.05003843 0.04923007 0.04839416\n",
      " 0.04956076 0.05016091 0.05154491 0.05195521 0.05187866 0.05251555\n",
      " 0.05269926 0.04964344 0.05009354 0.05170719 0.05175312 0.05066307\n",
      " 0.04944135 0.04958832 0.05259516 0.05153878 0.05258903 0.05410164\n",
      " 0.05417206 0.05534479 0.05593575 0.05600923 0.05507228 0.05332084\n",
      " 0.05109174 0.05066307 0.05120197 0.05051609 0.05050078 0.04944135\n",
      " 0.05003843 0.05034156 0.05080085 0.05082229 0.05069981 0.04988291\n",
      " 0.04926668 0.04862675 0.0479823  0.04733186 0.04667693 0.04602031\n",
      " 0.04536468 0.04471189 0.04406295 0.04341818 0.0427775  0.0421406\n",
      " 0.04150713 0.04087674 0.04024917 0.03962423]\n"
     ]
    },
    {
     "name": "stdout",
     "output_type": "stream",
     "text": [
      "17 day output [[0.03900186]]\n",
      "18 day input [0.04411355 0.0446647  0.04494946 0.04665191 0.04699178 0.04627529\n",
      " 0.04505357 0.04811246 0.05203788 0.05176537 0.05270845 0.05168882\n",
      " 0.05012416 0.0481094  0.0483911  0.04978735 0.04980266 0.04987308\n",
      " 0.04890857 0.04743271 0.04591398 0.04363895 0.04497702 0.04561084\n",
      " 0.04643145 0.04610688 0.0456629  0.04758887 0.04771134 0.04715713\n",
      " 0.04692136 0.04797161 0.04796242 0.04678357 0.0462263  0.04690911\n",
      " 0.04683869 0.04524035 0.04531077 0.04579762 0.04581293 0.0445116\n",
      " 0.04535058 0.04764704 0.05003843 0.04923007 0.04839416 0.04956076\n",
      " 0.05016091 0.05154491 0.05195521 0.05187866 0.05251555 0.05269926\n",
      " 0.04964344 0.05009354 0.05170719 0.05175312 0.05066307 0.04944135\n",
      " 0.04958832 0.05259516 0.05153878 0.05258903 0.05410164 0.05417206\n",
      " 0.05534479 0.05593575 0.05600923 0.05507228 0.05332084 0.05109174\n",
      " 0.05066307 0.05120197 0.05051609 0.05050078 0.04944135 0.05003843\n",
      " 0.05034156 0.05080085 0.05082229 0.05069981 0.04988291 0.04926668\n",
      " 0.04862675 0.0479823  0.04733186 0.04667693 0.04602031 0.04536468\n",
      " 0.04471189 0.04406295 0.04341818 0.0427775  0.0421406  0.04150713\n",
      " 0.04087674 0.04024917 0.03962423 0.03900186]\n",
      "18 day output [[0.03838206]]\n",
      "19 day input [0.0446647  0.04494946 0.04665191 0.04699178 0.04627529 0.04505357\n",
      " 0.04811246 0.05203788 0.05176537 0.05270845 0.05168882 0.05012416\n",
      " 0.0481094  0.0483911  0.04978735 0.04980266 0.04987308 0.04890857\n",
      " 0.04743271 0.04591398 0.04363895 0.04497702 0.04561084 0.04643145\n",
      " 0.04610688 0.0456629  0.04758887 0.04771134 0.04715713 0.04692136\n",
      " 0.04797161 0.04796242 0.04678357 0.0462263  0.04690911 0.04683869\n",
      " 0.04524035 0.04531077 0.04579762 0.04581293 0.0445116  0.04535058\n",
      " 0.04764704 0.05003843 0.04923007 0.04839416 0.04956076 0.05016091\n",
      " 0.05154491 0.05195521 0.05187866 0.05251555 0.05269926 0.04964344\n",
      " 0.05009354 0.05170719 0.05175312 0.05066307 0.04944135 0.04958832\n",
      " 0.05259516 0.05153878 0.05258903 0.05410164 0.05417206 0.05534479\n",
      " 0.05593575 0.05600923 0.05507228 0.05332084 0.05109174 0.05066307\n",
      " 0.05120197 0.05051609 0.05050078 0.04944135 0.05003843 0.05034156\n",
      " 0.05080085 0.05082229 0.05069981 0.04988291 0.04926668 0.04862675\n",
      " 0.0479823  0.04733186 0.04667693 0.04602031 0.04536468 0.04471189\n",
      " 0.04406295 0.04341818 0.0427775  0.0421406  0.04150713 0.04087674\n",
      " 0.04024917 0.03962423 0.03900186 0.03838206]\n",
      "19 day output [[0.0377649]]\n",
      "20 day input [0.04494946 0.04665191 0.04699178 0.04627529 0.04505357 0.04811246\n",
      " 0.05203788 0.05176537 0.05270845 0.05168882 0.05012416 0.0481094\n",
      " 0.0483911  0.04978735 0.04980266 0.04987308 0.04890857 0.04743271\n",
      " 0.04591398 0.04363895 0.04497702 0.04561084 0.04643145 0.04610688\n",
      " 0.0456629  0.04758887 0.04771134 0.04715713 0.04692136 0.04797161\n",
      " 0.04796242 0.04678357 0.0462263  0.04690911 0.04683869 0.04524035\n",
      " 0.04531077 0.04579762 0.04581293 0.0445116  0.04535058 0.04764704\n",
      " 0.05003843 0.04923007 0.04839416 0.04956076 0.05016091 0.05154491\n",
      " 0.05195521 0.05187866 0.05251555 0.05269926 0.04964344 0.05009354\n",
      " 0.05170719 0.05175312 0.05066307 0.04944135 0.04958832 0.05259516\n",
      " 0.05153878 0.05258903 0.05410164 0.05417206 0.05534479 0.05593575\n",
      " 0.05600923 0.05507228 0.05332084 0.05109174 0.05066307 0.05120197\n",
      " 0.05051609 0.05050078 0.04944135 0.05003843 0.05034156 0.05080085\n",
      " 0.05082229 0.05069981 0.04988291 0.04926668 0.04862675 0.0479823\n",
      " 0.04733186 0.04667693 0.04602031 0.04536468 0.04471189 0.04406295\n",
      " 0.04341818 0.0427775  0.0421406  0.04150713 0.04087674 0.04024917\n",
      " 0.03962423 0.03900186 0.03838206 0.0377649 ]\n",
      "20 day output [[0.03715048]]\n",
      "21 day input [0.04665191 0.04699178 0.04627529 0.04505357 0.04811246 0.05203788\n",
      " 0.05176537 0.05270845 0.05168882 0.05012416 0.0481094  0.0483911\n",
      " 0.04978735 0.04980266 0.04987308 0.04890857 0.04743271 0.04591398\n",
      " 0.04363895 0.04497702 0.04561084 0.04643145 0.04610688 0.0456629\n",
      " 0.04758887 0.04771134 0.04715713 0.04692136 0.04797161 0.04796242\n",
      " 0.04678357 0.0462263  0.04690911 0.04683869 0.04524035 0.04531077\n",
      " 0.04579762 0.04581293 0.0445116  0.04535058 0.04764704 0.05003843\n",
      " 0.04923007 0.04839416 0.04956076 0.05016091 0.05154491 0.05195521\n",
      " 0.05187866 0.05251555 0.05269926 0.04964344 0.05009354 0.05170719\n",
      " 0.05175312 0.05066307 0.04944135 0.04958832 0.05259516 0.05153878\n",
      " 0.05258903 0.05410164 0.05417206 0.05534479 0.05593575 0.05600923\n",
      " 0.05507228 0.05332084 0.05109174 0.05066307 0.05120197 0.05051609\n",
      " 0.05050078 0.04944135 0.05003843 0.05034156 0.05080085 0.05082229\n",
      " 0.05069981 0.04988291 0.04926668 0.04862675 0.0479823  0.04733186\n",
      " 0.04667693 0.04602031 0.04536468 0.04471189 0.04406295 0.04341818\n",
      " 0.0427775  0.0421406  0.04150713 0.04087674 0.04024917 0.03962423\n",
      " 0.03900186 0.03838206 0.0377649  0.03715048]\n",
      "21 day output [[0.03653895]]\n",
      "22 day input [0.04699178 0.04627529 0.04505357 0.04811246 0.05203788 0.05176537\n",
      " 0.05270845 0.05168882 0.05012416 0.0481094  0.0483911  0.04978735\n",
      " 0.04980266 0.04987308 0.04890857 0.04743271 0.04591398 0.04363895\n",
      " 0.04497702 0.04561084 0.04643145 0.04610688 0.0456629  0.04758887\n",
      " 0.04771134 0.04715713 0.04692136 0.04797161 0.04796242 0.04678357\n",
      " 0.0462263  0.04690911 0.04683869 0.04524035 0.04531077 0.04579762\n",
      " 0.04581293 0.0445116  0.04535058 0.04764704 0.05003843 0.04923007\n",
      " 0.04839416 0.04956076 0.05016091 0.05154491 0.05195521 0.05187866\n",
      " 0.05251555 0.05269926 0.04964344 0.05009354 0.05170719 0.05175312\n",
      " 0.05066307 0.04944135 0.04958832 0.05259516 0.05153878 0.05258903\n",
      " 0.05410164 0.05417206 0.05534479 0.05593575 0.05600923 0.05507228\n",
      " 0.05332084 0.05109174 0.05066307 0.05120197 0.05051609 0.05050078\n",
      " 0.04944135 0.05003843 0.05034156 0.05080085 0.05082229 0.05069981\n",
      " 0.04988291 0.04926668 0.04862675 0.0479823  0.04733186 0.04667693\n",
      " 0.04602031 0.04536468 0.04471189 0.04406295 0.04341818 0.0427775\n",
      " 0.0421406  0.04150713 0.04087674 0.04024917 0.03962423 0.03900186\n",
      " 0.03838206 0.0377649  0.03715048 0.03653895]\n",
      "22 day output [[0.03593048]]\n",
      "23 day input [0.04627529 0.04505357 0.04811246 0.05203788 0.05176537 0.05270845\n",
      " 0.05168882 0.05012416 0.0481094  0.0483911  0.04978735 0.04980266\n",
      " 0.04987308 0.04890857 0.04743271 0.04591398 0.04363895 0.04497702\n",
      " 0.04561084 0.04643145 0.04610688 0.0456629  0.04758887 0.04771134\n",
      " 0.04715713 0.04692136 0.04797161 0.04796242 0.04678357 0.0462263\n",
      " 0.04690911 0.04683869 0.04524035 0.04531077 0.04579762 0.04581293\n",
      " 0.0445116  0.04535058 0.04764704 0.05003843 0.04923007 0.04839416\n",
      " 0.04956076 0.05016091 0.05154491 0.05195521 0.05187866 0.05251555\n",
      " 0.05269926 0.04964344 0.05009354 0.05170719 0.05175312 0.05066307\n",
      " 0.04944135 0.04958832 0.05259516 0.05153878 0.05258903 0.05410164\n",
      " 0.05417206 0.05534479 0.05593575 0.05600923 0.05507228 0.05332084\n",
      " 0.05109174 0.05066307 0.05120197 0.05051609 0.05050078 0.04944135\n",
      " 0.05003843 0.05034156 0.05080085 0.05082229 0.05069981 0.04988291\n",
      " 0.04926668 0.04862675 0.0479823  0.04733186 0.04667693 0.04602031\n",
      " 0.04536468 0.04471189 0.04406295 0.04341818 0.0427775  0.0421406\n",
      " 0.04150713 0.04087674 0.04024917 0.03962423 0.03900186 0.03838206\n",
      " 0.0377649  0.03715048 0.03653895 0.03593048]\n",
      "23 day output [[0.03532522]]\n",
      "24 day input [0.04505357 0.04811246 0.05203788 0.05176537 0.05270845 0.05168882\n",
      " 0.05012416 0.0481094  0.0483911  0.04978735 0.04980266 0.04987308\n",
      " 0.04890857 0.04743271 0.04591398 0.04363895 0.04497702 0.04561084\n",
      " 0.04643145 0.04610688 0.0456629  0.04758887 0.04771134 0.04715713\n",
      " 0.04692136 0.04797161 0.04796242 0.04678357 0.0462263  0.04690911\n",
      " 0.04683869 0.04524035 0.04531077 0.04579762 0.04581293 0.0445116\n",
      " 0.04535058 0.04764704 0.05003843 0.04923007 0.04839416 0.04956076\n",
      " 0.05016091 0.05154491 0.05195521 0.05187866 0.05251555 0.05269926\n",
      " 0.04964344 0.05009354 0.05170719 0.05175312 0.05066307 0.04944135\n",
      " 0.04958832 0.05259516 0.05153878 0.05258903 0.05410164 0.05417206\n",
      " 0.05534479 0.05593575 0.05600923 0.05507228 0.05332084 0.05109174\n",
      " 0.05066307 0.05120197 0.05051609 0.05050078 0.04944135 0.05003843\n",
      " 0.05034156 0.05080085 0.05082229 0.05069981 0.04988291 0.04926668\n",
      " 0.04862675 0.0479823  0.04733186 0.04667693 0.04602031 0.04536468\n",
      " 0.04471189 0.04406295 0.04341818 0.0427775  0.0421406  0.04150713\n",
      " 0.04087674 0.04024917 0.03962423 0.03900186 0.03838206 0.0377649\n",
      " 0.03715048 0.03653895 0.03593048 0.03532522]\n",
      "24 day output [[0.0347233]]\n",
      "25 day input [0.04811246 0.05203788 0.05176537 0.05270845 0.05168882 0.05012416\n",
      " 0.0481094  0.0483911  0.04978735 0.04980266 0.04987308 0.04890857\n",
      " 0.04743271 0.04591398 0.04363895 0.04497702 0.04561084 0.04643145\n",
      " 0.04610688 0.0456629  0.04758887 0.04771134 0.04715713 0.04692136\n",
      " 0.04797161 0.04796242 0.04678357 0.0462263  0.04690911 0.04683869\n",
      " 0.04524035 0.04531077 0.04579762 0.04581293 0.0445116  0.04535058\n",
      " 0.04764704 0.05003843 0.04923007 0.04839416 0.04956076 0.05016091\n",
      " 0.05154491 0.05195521 0.05187866 0.05251555 0.05269926 0.04964344\n",
      " 0.05009354 0.05170719 0.05175312 0.05066307 0.04944135 0.04958832\n",
      " 0.05259516 0.05153878 0.05258903 0.05410164 0.05417206 0.05534479\n",
      " 0.05593575 0.05600923 0.05507228 0.05332084 0.05109174 0.05066307\n",
      " 0.05120197 0.05051609 0.05050078 0.04944135 0.05003843 0.05034156\n",
      " 0.05080085 0.05082229 0.05069981 0.04988291 0.04926668 0.04862675\n",
      " 0.0479823  0.04733186 0.04667693 0.04602031 0.04536468 0.04471189\n",
      " 0.04406295 0.04341818 0.0427775  0.0421406  0.04150713 0.04087674\n",
      " 0.04024917 0.03962423 0.03900186 0.03838206 0.0377649  0.03715048\n",
      " 0.03653895 0.03593048 0.03532522 0.0347233 ]\n"
     ]
    },
    {
     "name": "stdout",
     "output_type": "stream",
     "text": [
      "25 day output [[0.03412489]]\n",
      "26 day input [0.05203788 0.05176537 0.05270845 0.05168882 0.05012416 0.0481094\n",
      " 0.0483911  0.04978735 0.04980266 0.04987308 0.04890857 0.04743271\n",
      " 0.04591398 0.04363895 0.04497702 0.04561084 0.04643145 0.04610688\n",
      " 0.0456629  0.04758887 0.04771134 0.04715713 0.04692136 0.04797161\n",
      " 0.04796242 0.04678357 0.0462263  0.04690911 0.04683869 0.04524035\n",
      " 0.04531077 0.04579762 0.04581293 0.0445116  0.04535058 0.04764704\n",
      " 0.05003843 0.04923007 0.04839416 0.04956076 0.05016091 0.05154491\n",
      " 0.05195521 0.05187866 0.05251555 0.05269926 0.04964344 0.05009354\n",
      " 0.05170719 0.05175312 0.05066307 0.04944135 0.04958832 0.05259516\n",
      " 0.05153878 0.05258903 0.05410164 0.05417206 0.05534479 0.05593575\n",
      " 0.05600923 0.05507228 0.05332084 0.05109174 0.05066307 0.05120197\n",
      " 0.05051609 0.05050078 0.04944135 0.05003843 0.05034156 0.05080085\n",
      " 0.05082229 0.05069981 0.04988291 0.04926668 0.04862675 0.0479823\n",
      " 0.04733186 0.04667693 0.04602031 0.04536468 0.04471189 0.04406295\n",
      " 0.04341818 0.0427775  0.0421406  0.04150713 0.04087674 0.04024917\n",
      " 0.03962423 0.03900186 0.03838206 0.0377649  0.03715048 0.03653895\n",
      " 0.03593048 0.03532522 0.0347233  0.03412489]\n",
      "26 day output [[0.03353009]]\n",
      "27 day input [0.05176537 0.05270845 0.05168882 0.05012416 0.0481094  0.0483911\n",
      " 0.04978735 0.04980266 0.04987308 0.04890857 0.04743271 0.04591398\n",
      " 0.04363895 0.04497702 0.04561084 0.04643145 0.04610688 0.0456629\n",
      " 0.04758887 0.04771134 0.04715713 0.04692136 0.04797161 0.04796242\n",
      " 0.04678357 0.0462263  0.04690911 0.04683869 0.04524035 0.04531077\n",
      " 0.04579762 0.04581293 0.0445116  0.04535058 0.04764704 0.05003843\n",
      " 0.04923007 0.04839416 0.04956076 0.05016091 0.05154491 0.05195521\n",
      " 0.05187866 0.05251555 0.05269926 0.04964344 0.05009354 0.05170719\n",
      " 0.05175312 0.05066307 0.04944135 0.04958832 0.05259516 0.05153878\n",
      " 0.05258903 0.05410164 0.05417206 0.05534479 0.05593575 0.05600923\n",
      " 0.05507228 0.05332084 0.05109174 0.05066307 0.05120197 0.05051609\n",
      " 0.05050078 0.04944135 0.05003843 0.05034156 0.05080085 0.05082229\n",
      " 0.05069981 0.04988291 0.04926668 0.04862675 0.0479823  0.04733186\n",
      " 0.04667693 0.04602031 0.04536468 0.04471189 0.04406295 0.04341818\n",
      " 0.0427775  0.0421406  0.04150713 0.04087674 0.04024917 0.03962423\n",
      " 0.03900186 0.03838206 0.0377649  0.03715048 0.03653895 0.03593048\n",
      " 0.03532522 0.0347233  0.03412489 0.03353009]\n",
      "27 day output [[0.03293897]]\n",
      "28 day input [0.05270845 0.05168882 0.05012416 0.0481094  0.0483911  0.04978735\n",
      " 0.04980266 0.04987308 0.04890857 0.04743271 0.04591398 0.04363895\n",
      " 0.04497702 0.04561084 0.04643145 0.04610688 0.0456629  0.04758887\n",
      " 0.04771134 0.04715713 0.04692136 0.04797161 0.04796242 0.04678357\n",
      " 0.0462263  0.04690911 0.04683869 0.04524035 0.04531077 0.04579762\n",
      " 0.04581293 0.0445116  0.04535058 0.04764704 0.05003843 0.04923007\n",
      " 0.04839416 0.04956076 0.05016091 0.05154491 0.05195521 0.05187866\n",
      " 0.05251555 0.05269926 0.04964344 0.05009354 0.05170719 0.05175312\n",
      " 0.05066307 0.04944135 0.04958832 0.05259516 0.05153878 0.05258903\n",
      " 0.05410164 0.05417206 0.05534479 0.05593575 0.05600923 0.05507228\n",
      " 0.05332084 0.05109174 0.05066307 0.05120197 0.05051609 0.05050078\n",
      " 0.04944135 0.05003843 0.05034156 0.05080085 0.05082229 0.05069981\n",
      " 0.04988291 0.04926668 0.04862675 0.0479823  0.04733186 0.04667693\n",
      " 0.04602031 0.04536468 0.04471189 0.04406295 0.04341818 0.0427775\n",
      " 0.0421406  0.04150713 0.04087674 0.04024917 0.03962423 0.03900186\n",
      " 0.03838206 0.0377649  0.03715048 0.03653895 0.03593048 0.03532522\n",
      " 0.0347233  0.03412489 0.03353009 0.03293897]\n",
      "28 day output [[0.0323516]]\n",
      "29 day input [0.05168882 0.05012416 0.0481094  0.0483911  0.04978735 0.04980266\n",
      " 0.04987308 0.04890857 0.04743271 0.04591398 0.04363895 0.04497702\n",
      " 0.04561084 0.04643145 0.04610688 0.0456629  0.04758887 0.04771134\n",
      " 0.04715713 0.04692136 0.04797161 0.04796242 0.04678357 0.0462263\n",
      " 0.04690911 0.04683869 0.04524035 0.04531077 0.04579762 0.04581293\n",
      " 0.0445116  0.04535058 0.04764704 0.05003843 0.04923007 0.04839416\n",
      " 0.04956076 0.05016091 0.05154491 0.05195521 0.05187866 0.05251555\n",
      " 0.05269926 0.04964344 0.05009354 0.05170719 0.05175312 0.05066307\n",
      " 0.04944135 0.04958832 0.05259516 0.05153878 0.05258903 0.05410164\n",
      " 0.05417206 0.05534479 0.05593575 0.05600923 0.05507228 0.05332084\n",
      " 0.05109174 0.05066307 0.05120197 0.05051609 0.05050078 0.04944135\n",
      " 0.05003843 0.05034156 0.05080085 0.05082229 0.05069981 0.04988291\n",
      " 0.04926668 0.04862675 0.0479823  0.04733186 0.04667693 0.04602031\n",
      " 0.04536468 0.04471189 0.04406295 0.04341818 0.0427775  0.0421406\n",
      " 0.04150713 0.04087674 0.04024917 0.03962423 0.03900186 0.03838206\n",
      " 0.0377649  0.03715048 0.03653895 0.03593048 0.03532522 0.0347233\n",
      " 0.03412489 0.03353009 0.03293897 0.0323516 ]\n",
      "29 day output [[0.03176803]]\n",
      "[[0.0498829111456871], [0.04926668107509613], [0.04862675443291664], [0.04798229783773422], [0.04733186215162277], [0.04667692631483078], [0.04602031409740448], [0.045364681631326675], [0.0447118915617466], [0.04406294971704483], [0.04341818019747734], [0.042777497321367264], [0.042140599340200424], [0.04150713235139847], [0.04087673872709274], [0.040249165147542953], [0.039624232798814774], [0.039001863449811935], [0.03838206082582474], [0.03776489570736885], [0.03715047985315323], [0.03653895482420921], [0.035930484533309937], [0.03532521799206734], [0.03472330421209335], [0.034124892204999924], [0.033530086278915405], [0.03293897211551666], [0.032351601868867874], [0.03176803141832352]]\n"
     ]
    }
   ],
   "source": [
    "# demonstrate prediction for next 30 days\n",
    "lst_output = []\n",
    "n_steps = 100\n",
    "i = 0\n",
    "while(i < 30):\n",
    "    \n",
    "    if(len(temp_input) > 100):\n",
    "        # print(temp_input)\n",
    "        x_input = np.array(temp_input[1:])\n",
    "        print(\"{} day input {}\".format(i,x_input))\n",
    "        x_input = x_input.reshape(1,-1)\n",
    "        x_input = x_input.reshape((1, n_steps, 1))\n",
    "        # print(x_input)\n",
    "        yhat = model.predict(x_input, verbose = 0)\n",
    "        print(\"{} day output {}\".format(i, yhat))\n",
    "        temp_input.extend(yhat[0].tolist())\n",
    "        temp_input = temp_input[1:]\n",
    "        # print(temp_input)\n",
    "        lst_output.extend(yhat.tolist())\n",
    "        i = i+1\n",
    "    else:\n",
    "        x_input = x_input.reshape((1, n_steps,1))\n",
    "        yhat = model.predict(x_input, verbose = 0)\n",
    "        print(yhat[0])\n",
    "        temp_input.extend(yhat[0].tolist())\n",
    "        print(len(temp_input))\n",
    "        lst_output.extend(yhat.tolist())\n",
    "        i = i+1\n",
    "    \n",
    "print(lst_output)"
   ]
  },
  {
   "cell_type": "markdown",
   "metadata": {},
   "source": [
    "## Future Stock Price - Graph Plot"
   ]
  },
  {
   "cell_type": "code",
   "execution_count": 90,
   "metadata": {},
   "outputs": [],
   "source": [
    "# creating an instance of ndarray with evenly spaced values\n",
    "day_new = np.arange(1, 101)\n",
    "day_pred = np.arange(101, 131)"
   ]
  },
  {
   "cell_type": "code",
   "execution_count": 91,
   "metadata": {},
   "outputs": [
    {
     "name": "stdout",
     "output_type": "stream",
     "text": [
      "5306\n"
     ]
    }
   ],
   "source": [
    "# checking the length of our original dataframe\n",
    "print(len(df_close))"
   ]
  },
  {
   "cell_type": "code",
   "execution_count": 92,
   "metadata": {},
   "outputs": [
    {
     "data": {
      "text/plain": [
       "[<matplotlib.lines.Line2D at 0x28a8163e20>]"
      ]
     },
     "execution_count": 92,
     "metadata": {},
     "output_type": "execute_result"
    },
    {
     "data": {
      "image/png": "[encoded data removed]",
      "text/plain": [
       "<Figure size 432x288 with 1 Axes>"
      ]
     },
     "metadata": {
      "needs_background": "light"
     },
     "output_type": "display_data"
    }
   ],
   "source": [
    "# plotting the future stock prices on a 2-D graph\n",
    "plt.plot(day_new, scaler.inverse_transform(df_close[5206:]))\n",
    "plt.plot(day_pred, scaler.inverse_transform(lst_output))"
   ]
  },
  {
   "cell_type": "code",
   "execution_count": 93,
   "metadata": {},
   "outputs": [
    {
     "data": {
      "text/plain": [
       "[<matplotlib.lines.Line2D at 0x28a97ff340>]"
      ]
     },
     "execution_count": 93,
     "metadata": {},
     "output_type": "execute_result"
    },
    {
     "data": {
      "image/png": "[encoded data removed]",
      "text/plain": [
       "<Figure size 432x288 with 1 Axes>"
      ]
     },
     "metadata": {
      "needs_background": "light"
     },
     "output_type": "display_data"
    }
   ],
   "source": [
    "# plotting the complete stock price output\n",
    "dataset_close = df_close.tolist()\n",
    "dataset_close.extend(lst_output)\n",
    "plt.plot(dataset_close[5220:])"
   ]
  },
  {
   "cell_type": "code",
   "execution_count": null,
   "metadata": {},
   "outputs": [],
   "source": []
  }
 ],
 "metadata": {
  "kernelspec": {
   "display_name": "Python 3",
   "language": "python",
   "name": "python3"
  },
  "language_info": {
   "codemirror_mode": {
    "name": "ipython",
    "version": 3
   },
   "file_extension": ".py",
   "mimetype": "text/x-python",
   "name": "python",
   "nbconvert_exporter": "python",
   "pygments_lexer": "ipython3",
   "version": "3.8.5"
  }
 },
 "nbformat": 4,
 "nbformat_minor": 4
}
